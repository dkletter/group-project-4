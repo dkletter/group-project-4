{
 "cells": [
  {
   "cell_type": "code",
   "execution_count": 272,
   "id": "04095a0a-ad94-4f5b-85e2-7de09b7157dc",
   "metadata": {},
   "outputs": [],
   "source": [
    "import pandas as pd\n",
    "import numpy as np\n",
    "import os\n",
    "import datetime"
   ]
  },
  {
   "cell_type": "markdown",
   "id": "cd0aa62f-ed4e-480e-bae1-f0a1645f2b89",
   "metadata": {},
   "source": [
    "#### Read CSV Files"
   ]
  },
  {
   "cell_type": "code",
   "execution_count": 273,
   "id": "b4cf71f5-065d-4b43-9163-85166b6bf796",
   "metadata": {},
   "outputs": [],
   "source": [
    "filepath= os.path.join('Resources','movies_2010_2011.csv')\n",
    "df_10_11=pd.read_csv(filepath)\n",
    "                  "
   ]
  },
  {
   "cell_type": "code",
   "execution_count": 274,
   "id": "f3bdcd29-ef54-4136-8fe3-13a7202549dd",
   "metadata": {},
   "outputs": [],
   "source": [
    "filepath= os.path.join('Resources','movies_2012_2013.csv')\n",
    "df_12_13=pd.read_csv(filepath)\n",
    "                  "
   ]
  },
  {
   "cell_type": "code",
   "execution_count": 275,
   "id": "0d74b5f8-42c1-496e-9d11-9a2a37f8f2ed",
   "metadata": {},
   "outputs": [],
   "source": [
    "filepath= os.path.join('Resources','movies_2014.csv')\n",
    "df_14=pd.read_csv(filepath)\n",
    "                  "
   ]
  },
  {
   "cell_type": "code",
   "execution_count": 276,
   "id": "828d7bec-1e49-4ee0-8320-f660b4537239",
   "metadata": {},
   "outputs": [],
   "source": [
    "filepath= os.path.join('Resources','movies_2015.csv')\n",
    "df_15=pd.read_csv(filepath)\n",
    "                  "
   ]
  },
  {
   "cell_type": "code",
   "execution_count": 277,
   "id": "1b1d708a-28d9-425d-9d87-b8a70183e475",
   "metadata": {},
   "outputs": [],
   "source": [
    "filepath= os.path.join('Resources','movies_2016_2017.csv')\n",
    "df_16_17=pd.read_csv(filepath)\n",
    "                  "
   ]
  },
  {
   "cell_type": "code",
   "execution_count": 278,
   "id": "510a69e2-efaa-4a66-b5ce-f58d9d456e86",
   "metadata": {},
   "outputs": [],
   "source": [
    "filepath= os.path.join('Resources','movies_2018_2019.csv')\n",
    "df_18_19=pd.read_csv(filepath)\n",
    "                  "
   ]
  },
  {
   "cell_type": "code",
   "execution_count": null,
   "id": "f2d76e77-3b9e-4484-b680-1de08a850d4e",
   "metadata": {},
   "outputs": [],
   "source": []
  },
  {
   "cell_type": "markdown",
   "id": "ed6856af-3efd-4d04-b387-7598ecc0011d",
   "metadata": {},
   "source": [
    "#### Merging CSVs to make final dataset"
   ]
  },
  {
   "cell_type": "code",
   "execution_count": 279,
   "id": "5aed6130-3c59-4b1c-99ed-f0e4db2cfb4d",
   "metadata": {},
   "outputs": [
    {
     "data": {
      "text/plain": [
       "Index(['Unnamed: 0', 'Title', 'Year', 'Rated', 'Released', 'Runtime', 'Genre',\n",
       "       'Director', 'Writer', 'Actors', 'Plot', 'Language', 'Country', 'Awards',\n",
       "       'Poster', 'Ratings', 'Metascore', 'imdbRating', 'imdbVotes', 'imdbID',\n",
       "       'Type', 'DVD', 'BoxOffice', 'Production', 'Website', 'Response',\n",
       "       'totalSeasons'],\n",
       "      dtype='object')"
      ]
     },
     "execution_count": 279,
     "metadata": {},
     "output_type": "execute_result"
    }
   ],
   "source": [
    "#Checking features from OMDB dataset\n",
    "df_14.columns"
   ]
  },
  {
   "cell_type": "code",
   "execution_count": 280,
   "id": "fe38157a-cffa-4cd8-a7de-d4c1ea8366fe",
   "metadata": {},
   "outputs": [],
   "source": [
    "frames = [df_10_11,df_12_13, df_14, df_15, df_16_17,df_18_19]\n",
    "\n",
    "movie_df= pd.concat(frames)"
   ]
  },
  {
   "cell_type": "code",
   "execution_count": 281,
   "id": "0719c982-b482-4ba5-9660-12c5e43e0175",
   "metadata": {},
   "outputs": [
    {
     "data": {
      "text/html": [
       "<div>\n",
       "<style scoped>\n",
       "    .dataframe tbody tr th:only-of-type {\n",
       "        vertical-align: middle;\n",
       "    }\n",
       "\n",
       "    .dataframe tbody tr th {\n",
       "        vertical-align: top;\n",
       "    }\n",
       "\n",
       "    .dataframe thead th {\n",
       "        text-align: right;\n",
       "    }\n",
       "</style>\n",
       "<table border=\"1\" class=\"dataframe\">\n",
       "  <thead>\n",
       "    <tr style=\"text-align: right;\">\n",
       "      <th></th>\n",
       "      <th>Unnamed: 0</th>\n",
       "      <th>Title</th>\n",
       "      <th>Year</th>\n",
       "      <th>Rated</th>\n",
       "      <th>Released</th>\n",
       "      <th>Runtime</th>\n",
       "      <th>Genre</th>\n",
       "      <th>Director</th>\n",
       "      <th>Writer</th>\n",
       "      <th>Actors</th>\n",
       "      <th>...</th>\n",
       "      <th>imdbVotes</th>\n",
       "      <th>imdbID</th>\n",
       "      <th>Type</th>\n",
       "      <th>DVD</th>\n",
       "      <th>BoxOffice</th>\n",
       "      <th>Production</th>\n",
       "      <th>Website</th>\n",
       "      <th>Response</th>\n",
       "      <th>totalSeasons</th>\n",
       "      <th>Error</th>\n",
       "    </tr>\n",
       "  </thead>\n",
       "  <tbody>\n",
       "    <tr>\n",
       "      <th>0</th>\n",
       "      <td>0</td>\n",
       "      <td>Inception</td>\n",
       "      <td>2010</td>\n",
       "      <td>PG-13</td>\n",
       "      <td>16 Jul 2010</td>\n",
       "      <td>148 min</td>\n",
       "      <td>Action, Adventure, Sci-Fi</td>\n",
       "      <td>Christopher Nolan</td>\n",
       "      <td>Christopher Nolan</td>\n",
       "      <td>Leonardo DiCaprio, Joseph Gordon-Levitt, Ellio...</td>\n",
       "      <td>...</td>\n",
       "      <td>2,223,702</td>\n",
       "      <td>tt1375666</td>\n",
       "      <td>movie</td>\n",
       "      <td>07 Dec 2010</td>\n",
       "      <td>$292,576,195</td>\n",
       "      <td>NaN</td>\n",
       "      <td>NaN</td>\n",
       "      <td>True</td>\n",
       "      <td>NaN</td>\n",
       "      <td>NaN</td>\n",
       "    </tr>\n",
       "    <tr>\n",
       "      <th>1</th>\n",
       "      <td>1</td>\n",
       "      <td>Iron Man 2</td>\n",
       "      <td>2010</td>\n",
       "      <td>PG-13</td>\n",
       "      <td>07 May 2010</td>\n",
       "      <td>124 min</td>\n",
       "      <td>Action, Adventure, Sci-Fi</td>\n",
       "      <td>Jon Favreau</td>\n",
       "      <td>Justin Theroux, Stan Lee, Don Heck</td>\n",
       "      <td>Robert Downey Jr., Mickey Rourke, Gwyneth Paltrow</td>\n",
       "      <td>...</td>\n",
       "      <td>771,885</td>\n",
       "      <td>tt1228705</td>\n",
       "      <td>movie</td>\n",
       "      <td>17 Aug 2010</td>\n",
       "      <td>$312,433,331</td>\n",
       "      <td>NaN</td>\n",
       "      <td>NaN</td>\n",
       "      <td>True</td>\n",
       "      <td>NaN</td>\n",
       "      <td>NaN</td>\n",
       "    </tr>\n",
       "    <tr>\n",
       "      <th>2</th>\n",
       "      <td>2</td>\n",
       "      <td>Shutter Island</td>\n",
       "      <td>2010</td>\n",
       "      <td>R</td>\n",
       "      <td>19 Feb 2010</td>\n",
       "      <td>138 min</td>\n",
       "      <td>Mystery, Thriller</td>\n",
       "      <td>Martin Scorsese</td>\n",
       "      <td>Laeta Kalogridis, Dennis Lehane</td>\n",
       "      <td>Leonardo DiCaprio, Emily Mortimer, Mark Ruffalo</td>\n",
       "      <td>...</td>\n",
       "      <td>1,225,928</td>\n",
       "      <td>tt1130884</td>\n",
       "      <td>movie</td>\n",
       "      <td>08 Jun 2010</td>\n",
       "      <td>$128,012,934</td>\n",
       "      <td>NaN</td>\n",
       "      <td>NaN</td>\n",
       "      <td>True</td>\n",
       "      <td>NaN</td>\n",
       "      <td>NaN</td>\n",
       "    </tr>\n",
       "    <tr>\n",
       "      <th>3</th>\n",
       "      <td>3</td>\n",
       "      <td>Scott Pilgrim vs. the World</td>\n",
       "      <td>2010</td>\n",
       "      <td>PG-13</td>\n",
       "      <td>13 Aug 2010</td>\n",
       "      <td>112 min</td>\n",
       "      <td>Action, Comedy, Fantasy</td>\n",
       "      <td>Edgar Wright</td>\n",
       "      <td>Michael Bacall, Edgar Wright, Bryan Lee O'Malley</td>\n",
       "      <td>Michael Cera, Mary Elizabeth Winstead, Kieran ...</td>\n",
       "      <td>...</td>\n",
       "      <td>409,720</td>\n",
       "      <td>tt0446029</td>\n",
       "      <td>movie</td>\n",
       "      <td>09 Nov 2010</td>\n",
       "      <td>$32,777,690</td>\n",
       "      <td>NaN</td>\n",
       "      <td>NaN</td>\n",
       "      <td>True</td>\n",
       "      <td>NaN</td>\n",
       "      <td>NaN</td>\n",
       "    </tr>\n",
       "    <tr>\n",
       "      <th>4</th>\n",
       "      <td>4</td>\n",
       "      <td>Grown Ups</td>\n",
       "      <td>2010</td>\n",
       "      <td>PG-13</td>\n",
       "      <td>25 Jun 2010</td>\n",
       "      <td>102 min</td>\n",
       "      <td>Comedy</td>\n",
       "      <td>Dennis Dugan</td>\n",
       "      <td>Adam Sandler, Fred Wolf</td>\n",
       "      <td>Adam Sandler, Salma Hayek, Kevin James</td>\n",
       "      <td>...</td>\n",
       "      <td>242,283</td>\n",
       "      <td>tt1375670</td>\n",
       "      <td>movie</td>\n",
       "      <td>09 Nov 2010</td>\n",
       "      <td>$162,001,186</td>\n",
       "      <td>NaN</td>\n",
       "      <td>NaN</td>\n",
       "      <td>True</td>\n",
       "      <td>NaN</td>\n",
       "      <td>NaN</td>\n",
       "    </tr>\n",
       "  </tbody>\n",
       "</table>\n",
       "<p>5 rows × 28 columns</p>\n",
       "</div>"
      ],
      "text/plain": [
       "   Unnamed: 0                        Title  Year  Rated     Released  Runtime  \\\n",
       "0           0                    Inception  2010  PG-13  16 Jul 2010  148 min   \n",
       "1           1                   Iron Man 2  2010  PG-13  07 May 2010  124 min   \n",
       "2           2               Shutter Island  2010      R  19 Feb 2010  138 min   \n",
       "3           3  Scott Pilgrim vs. the World  2010  PG-13  13 Aug 2010  112 min   \n",
       "4           4                    Grown Ups  2010  PG-13  25 Jun 2010  102 min   \n",
       "\n",
       "                       Genre           Director  \\\n",
       "0  Action, Adventure, Sci-Fi  Christopher Nolan   \n",
       "1  Action, Adventure, Sci-Fi        Jon Favreau   \n",
       "2          Mystery, Thriller    Martin Scorsese   \n",
       "3    Action, Comedy, Fantasy       Edgar Wright   \n",
       "4                     Comedy       Dennis Dugan   \n",
       "\n",
       "                                             Writer  \\\n",
       "0                                 Christopher Nolan   \n",
       "1                Justin Theroux, Stan Lee, Don Heck   \n",
       "2                   Laeta Kalogridis, Dennis Lehane   \n",
       "3  Michael Bacall, Edgar Wright, Bryan Lee O'Malley   \n",
       "4                           Adam Sandler, Fred Wolf   \n",
       "\n",
       "                                              Actors  ...  imdbVotes  \\\n",
       "0  Leonardo DiCaprio, Joseph Gordon-Levitt, Ellio...  ...  2,223,702   \n",
       "1  Robert Downey Jr., Mickey Rourke, Gwyneth Paltrow  ...    771,885   \n",
       "2    Leonardo DiCaprio, Emily Mortimer, Mark Ruffalo  ...  1,225,928   \n",
       "3  Michael Cera, Mary Elizabeth Winstead, Kieran ...  ...    409,720   \n",
       "4             Adam Sandler, Salma Hayek, Kevin James  ...    242,283   \n",
       "\n",
       "      imdbID   Type          DVD     BoxOffice Production  Website  Response  \\\n",
       "0  tt1375666  movie  07 Dec 2010  $292,576,195        NaN      NaN      True   \n",
       "1  tt1228705  movie  17 Aug 2010  $312,433,331        NaN      NaN      True   \n",
       "2  tt1130884  movie  08 Jun 2010  $128,012,934        NaN      NaN      True   \n",
       "3  tt0446029  movie  09 Nov 2010   $32,777,690        NaN      NaN      True   \n",
       "4  tt1375670  movie  09 Nov 2010  $162,001,186        NaN      NaN      True   \n",
       "\n",
       "  totalSeasons Error  \n",
       "0          NaN   NaN  \n",
       "1          NaN   NaN  \n",
       "2          NaN   NaN  \n",
       "3          NaN   NaN  \n",
       "4          NaN   NaN  \n",
       "\n",
       "[5 rows x 28 columns]"
      ]
     },
     "execution_count": 281,
     "metadata": {},
     "output_type": "execute_result"
    }
   ],
   "source": [
    "movie_df.head(5)"
   ]
  },
  {
   "cell_type": "code",
   "execution_count": 282,
   "id": "5d2da488-cd8b-4f0f-881d-6fadf1f599f2",
   "metadata": {},
   "outputs": [
    {
     "data": {
      "text/plain": [
       "(2000, 28)"
      ]
     },
     "execution_count": 282,
     "metadata": {},
     "output_type": "execute_result"
    }
   ],
   "source": [
    "movie_df.shape"
   ]
  },
  {
   "cell_type": "code",
   "execution_count": 283,
   "id": "3c7f013c-db36-4bfe-b322-17fc64e605d4",
   "metadata": {
    "tags": []
   },
   "outputs": [],
   "source": [
    "movie_df=movie_df.drop('Unnamed: 0',axis=1)"
   ]
  },
  {
   "cell_type": "code",
   "execution_count": 284,
   "id": "921d238f-eb19-4cda-b531-dbe820ad4caa",
   "metadata": {},
   "outputs": [
    {
     "name": "stdout",
     "output_type": "stream",
     "text": [
      "<class 'pandas.core.frame.DataFrame'>\n",
      "Int64Index: 2000 entries, 0 to 399\n",
      "Data columns (total 27 columns):\n",
      " #   Column        Non-Null Count  Dtype  \n",
      "---  ------        --------------  -----  \n",
      " 0   Title         1796 non-null   object \n",
      " 1   Year          1796 non-null   object \n",
      " 2   Rated         1774 non-null   object \n",
      " 3   Released      1796 non-null   object \n",
      " 4   Runtime       1795 non-null   object \n",
      " 5   Genre         1796 non-null   object \n",
      " 6   Director      1787 non-null   object \n",
      " 7   Writer        1791 non-null   object \n",
      " 8   Actors        1796 non-null   object \n",
      " 9   Plot          1796 non-null   object \n",
      " 10  Language      1794 non-null   object \n",
      " 11  Country       1795 non-null   object \n",
      " 12  Awards        1673 non-null   object \n",
      " 13  Poster        1796 non-null   object \n",
      " 14  Ratings       1796 non-null   object \n",
      " 15  Metascore     1698 non-null   float64\n",
      " 16  imdbRating    1796 non-null   float64\n",
      " 17  imdbVotes     1796 non-null   object \n",
      " 18  imdbID        1796 non-null   object \n",
      " 19  Type          1796 non-null   object \n",
      " 20  DVD           1750 non-null   object \n",
      " 21  BoxOffice     1753 non-null   object \n",
      " 22  Production    9 non-null      object \n",
      " 23  Website       1 non-null      object \n",
      " 24  Response      2000 non-null   bool   \n",
      " 25  totalSeasons  9 non-null      float64\n",
      " 26  Error         204 non-null    object \n",
      "dtypes: bool(1), float64(3), object(23)\n",
      "memory usage: 423.8+ KB\n"
     ]
    }
   ],
   "source": [
    "movie_df.info()"
   ]
  },
  {
   "cell_type": "code",
   "execution_count": 285,
   "id": "14469321-0737-4f4d-aa46-093d9e1a9945",
   "metadata": {},
   "outputs": [],
   "source": [
    "movie_df=movie_df.drop(['Production','Website','totalSeasons','Error','Ratings'],axis=1)"
   ]
  },
  {
   "cell_type": "code",
   "execution_count": 286,
   "id": "c8c7fcbb-38bd-402d-9372-2694e97afffb",
   "metadata": {},
   "outputs": [],
   "source": [
    "movie_df= movie_df.dropna(subset=['Title','Rated','imdbRating','imdbVotes','BoxOffice'])"
   ]
  },
  {
   "cell_type": "code",
   "execution_count": 287,
   "id": "68f99f63-5e0e-461e-a6ee-628d74154300",
   "metadata": {},
   "outputs": [
    {
     "data": {
      "text/plain": [
       "(1736, 22)"
      ]
     },
     "execution_count": 287,
     "metadata": {},
     "output_type": "execute_result"
    }
   ],
   "source": [
    "movie_df.shape"
   ]
  },
  {
   "cell_type": "code",
   "execution_count": 288,
   "id": "ac8d8aa5-86f7-454c-96f9-545d57a70523",
   "metadata": {},
   "outputs": [
    {
     "data": {
      "text/plain": [
       "dtype('float64')"
      ]
     },
     "execution_count": 288,
     "metadata": {},
     "output_type": "execute_result"
    }
   ],
   "source": [
    "movie_df['Year']=movie_df['Year'].astype('int)\n",
    "movie_df['Year'].dtype"
   ]
  },
  {
   "cell_type": "code",
   "execution_count": 289,
   "id": "bfc84a71-987a-44fe-89b3-5159959d9baa",
   "metadata": {},
   "outputs": [
    {
     "data": {
      "text/plain": [
       "dtype('<M8[ns]')"
      ]
     },
     "execution_count": 289,
     "metadata": {},
     "output_type": "execute_result"
    }
   ],
   "source": [
    "movie_df['Released'] = pd.to_datetime(movie_df['Released'], format='%d %b %Y')\n",
    "movie_df['Released'].dtype"
   ]
  },
  {
   "cell_type": "code",
   "execution_count": 290,
   "id": "4ea975dd-a5ba-4bfc-bd9b-0b478ea09779",
   "metadata": {},
   "outputs": [],
   "source": [
    "movie_df['Runtime']=movie_df['Runtime'].str.split(' ').str[0]\n"
   ]
  },
  {
   "cell_type": "code",
   "execution_count": 291,
   "id": "f5e293e6-3a8a-4e89-8528-25949651e6d8",
   "metadata": {},
   "outputs": [],
   "source": [
    "movie_df['Runtime']=pd.to_numeric(movie_df['Runtime'],errors='coerce')\n",
    "movie_df['Metascore']=pd.to_numeric(movie_df['Metascore'],errors='coerce')\n",
    "movie_df['imdbRating']=pd.to_numeric(movie_df['imdbRating'],errors='coerce')\n",
    "movie_df['imdbVotes']=pd.to_numeric(movie_df['imdbVotes'],errors='coerce')"
   ]
  },
  {
   "cell_type": "code",
   "execution_count": 292,
   "id": "d9d0d541-04bb-447d-b468-f7d2dd03593a",
   "metadata": {},
   "outputs": [],
   "source": [
    "movie_df['BoxOffice']=movie_df['BoxOffice'].str.replace('$', '')\n",
    "movie_df['BoxOffice']=pd.to_numeric(movie_df['BoxOffice'],errors='coerce')"
   ]
  },
  {
   "cell_type": "code",
   "execution_count": 293,
   "id": "78dd16c9-5a90-41cf-afb1-6b6e7bbb8baa",
   "metadata": {},
   "outputs": [
    {
     "name": "stdout",
     "output_type": "stream",
     "text": [
      "<class 'pandas.core.frame.DataFrame'>\n",
      "Int64Index: 1736 entries, 0 to 397\n",
      "Data columns (total 22 columns):\n",
      " #   Column      Non-Null Count  Dtype         \n",
      "---  ------      --------------  -----         \n",
      " 0   Title       1736 non-null   object        \n",
      " 1   Year        1736 non-null   float64       \n",
      " 2   Rated       1736 non-null   object        \n",
      " 3   Released    1736 non-null   datetime64[ns]\n",
      " 4   Runtime     1736 non-null   int64         \n",
      " 5   Genre       1736 non-null   object        \n",
      " 6   Director    1736 non-null   object        \n",
      " 7   Writer      1734 non-null   object        \n",
      " 8   Actors      1736 non-null   object        \n",
      " 9   Plot        1736 non-null   object        \n",
      " 10  Language    1735 non-null   object        \n",
      " 11  Country     1736 non-null   object        \n",
      " 12  Awards      1624 non-null   object        \n",
      " 13  Poster      1736 non-null   object        \n",
      " 14  Metascore   1672 non-null   float64       \n",
      " 15  imdbRating  1736 non-null   float64       \n",
      " 16  imdbVotes   17 non-null     float64       \n",
      " 17  imdbID      1736 non-null   object        \n",
      " 18  Type        1736 non-null   object        \n",
      " 19  DVD         1707 non-null   object        \n",
      " 20  BoxOffice   3 non-null      float64       \n",
      " 21  Response    1736 non-null   bool          \n",
      "dtypes: bool(1), datetime64[ns](1), float64(5), int64(1), object(14)\n",
      "memory usage: 300.1+ KB\n"
     ]
    }
   ],
   "source": [
    "movie_df.info()"
   ]
  },
  {
   "cell_type": "code",
   "execution_count": 294,
   "id": "e478bd54-11e0-4d63-8045-29ccfa9aeed2",
   "metadata": {},
   "outputs": [
    {
     "data": {
      "text/html": [
       "<div>\n",
       "<style scoped>\n",
       "    .dataframe tbody tr th:only-of-type {\n",
       "        vertical-align: middle;\n",
       "    }\n",
       "\n",
       "    .dataframe tbody tr th {\n",
       "        vertical-align: top;\n",
       "    }\n",
       "\n",
       "    .dataframe thead th {\n",
       "        text-align: right;\n",
       "    }\n",
       "</style>\n",
       "<table border=\"1\" class=\"dataframe\">\n",
       "  <thead>\n",
       "    <tr style=\"text-align: right;\">\n",
       "      <th></th>\n",
       "      <th>Title</th>\n",
       "      <th>Year</th>\n",
       "      <th>Rated</th>\n",
       "      <th>Released</th>\n",
       "      <th>Runtime</th>\n",
       "      <th>Genre</th>\n",
       "      <th>Director</th>\n",
       "      <th>Writer</th>\n",
       "      <th>Actors</th>\n",
       "      <th>Plot</th>\n",
       "      <th>...</th>\n",
       "      <th>Awards</th>\n",
       "      <th>Poster</th>\n",
       "      <th>Metascore</th>\n",
       "      <th>imdbRating</th>\n",
       "      <th>imdbVotes</th>\n",
       "      <th>imdbID</th>\n",
       "      <th>Type</th>\n",
       "      <th>DVD</th>\n",
       "      <th>BoxOffice</th>\n",
       "      <th>Response</th>\n",
       "    </tr>\n",
       "  </thead>\n",
       "  <tbody>\n",
       "    <tr>\n",
       "      <th>0</th>\n",
       "      <td>Inception</td>\n",
       "      <td>2010.0</td>\n",
       "      <td>PG-13</td>\n",
       "      <td>2010-07-16</td>\n",
       "      <td>148</td>\n",
       "      <td>Action, Adventure, Sci-Fi</td>\n",
       "      <td>Christopher Nolan</td>\n",
       "      <td>Christopher Nolan</td>\n",
       "      <td>Leonardo DiCaprio, Joseph Gordon-Levitt, Ellio...</td>\n",
       "      <td>A thief who steals corporate secrets through t...</td>\n",
       "      <td>...</td>\n",
       "      <td>Won 4 Oscars. 157 wins &amp; 220 nominations total</td>\n",
       "      <td>https://m.media-amazon.com/images/M/MV5BMjAxMz...</td>\n",
       "      <td>74.0</td>\n",
       "      <td>8.8</td>\n",
       "      <td>NaN</td>\n",
       "      <td>tt1375666</td>\n",
       "      <td>movie</td>\n",
       "      <td>07 Dec 2010</td>\n",
       "      <td>NaN</td>\n",
       "      <td>True</td>\n",
       "    </tr>\n",
       "    <tr>\n",
       "      <th>1</th>\n",
       "      <td>Iron Man 2</td>\n",
       "      <td>2010.0</td>\n",
       "      <td>PG-13</td>\n",
       "      <td>2010-05-07</td>\n",
       "      <td>124</td>\n",
       "      <td>Action, Adventure, Sci-Fi</td>\n",
       "      <td>Jon Favreau</td>\n",
       "      <td>Justin Theroux, Stan Lee, Don Heck</td>\n",
       "      <td>Robert Downey Jr., Mickey Rourke, Gwyneth Paltrow</td>\n",
       "      <td>With the world now aware of his identity as Ir...</td>\n",
       "      <td>...</td>\n",
       "      <td>Nominated for 1 Oscar. 7 wins &amp; 44 nominations...</td>\n",
       "      <td>https://m.media-amazon.com/images/M/MV5BMTM0MD...</td>\n",
       "      <td>57.0</td>\n",
       "      <td>7.0</td>\n",
       "      <td>NaN</td>\n",
       "      <td>tt1228705</td>\n",
       "      <td>movie</td>\n",
       "      <td>17 Aug 2010</td>\n",
       "      <td>NaN</td>\n",
       "      <td>True</td>\n",
       "    </tr>\n",
       "    <tr>\n",
       "      <th>2</th>\n",
       "      <td>Shutter Island</td>\n",
       "      <td>2010.0</td>\n",
       "      <td>R</td>\n",
       "      <td>2010-02-19</td>\n",
       "      <td>138</td>\n",
       "      <td>Mystery, Thriller</td>\n",
       "      <td>Martin Scorsese</td>\n",
       "      <td>Laeta Kalogridis, Dennis Lehane</td>\n",
       "      <td>Leonardo DiCaprio, Emily Mortimer, Mark Ruffalo</td>\n",
       "      <td>In 1954, a U.S. Marshal investigates the disap...</td>\n",
       "      <td>...</td>\n",
       "      <td>11 wins &amp; 66 nominations</td>\n",
       "      <td>https://m.media-amazon.com/images/M/MV5BYzhiND...</td>\n",
       "      <td>63.0</td>\n",
       "      <td>8.2</td>\n",
       "      <td>NaN</td>\n",
       "      <td>tt1130884</td>\n",
       "      <td>movie</td>\n",
       "      <td>08 Jun 2010</td>\n",
       "      <td>NaN</td>\n",
       "      <td>True</td>\n",
       "    </tr>\n",
       "    <tr>\n",
       "      <th>3</th>\n",
       "      <td>Scott Pilgrim vs. the World</td>\n",
       "      <td>2010.0</td>\n",
       "      <td>PG-13</td>\n",
       "      <td>2010-08-13</td>\n",
       "      <td>112</td>\n",
       "      <td>Action, Comedy, Fantasy</td>\n",
       "      <td>Edgar Wright</td>\n",
       "      <td>Michael Bacall, Edgar Wright, Bryan Lee O'Malley</td>\n",
       "      <td>Michael Cera, Mary Elizabeth Winstead, Kieran ...</td>\n",
       "      <td>In a magically realistic version of Toronto, a...</td>\n",
       "      <td>...</td>\n",
       "      <td>17 wins &amp; 64 nominations</td>\n",
       "      <td>https://m.media-amazon.com/images/M/MV5BYWQ2OG...</td>\n",
       "      <td>69.0</td>\n",
       "      <td>7.5</td>\n",
       "      <td>NaN</td>\n",
       "      <td>tt0446029</td>\n",
       "      <td>movie</td>\n",
       "      <td>09 Nov 2010</td>\n",
       "      <td>NaN</td>\n",
       "      <td>True</td>\n",
       "    </tr>\n",
       "    <tr>\n",
       "      <th>4</th>\n",
       "      <td>Grown Ups</td>\n",
       "      <td>2010.0</td>\n",
       "      <td>PG-13</td>\n",
       "      <td>2010-06-25</td>\n",
       "      <td>102</td>\n",
       "      <td>Comedy</td>\n",
       "      <td>Dennis Dugan</td>\n",
       "      <td>Adam Sandler, Fred Wolf</td>\n",
       "      <td>Adam Sandler, Salma Hayek, Kevin James</td>\n",
       "      <td>After their high school basketball coach passe...</td>\n",
       "      <td>...</td>\n",
       "      <td>3 wins &amp; 4 nominations</td>\n",
       "      <td>https://m.media-amazon.com/images/M/MV5BMjA0OD...</td>\n",
       "      <td>30.0</td>\n",
       "      <td>6.0</td>\n",
       "      <td>NaN</td>\n",
       "      <td>tt1375670</td>\n",
       "      <td>movie</td>\n",
       "      <td>09 Nov 2010</td>\n",
       "      <td>NaN</td>\n",
       "      <td>True</td>\n",
       "    </tr>\n",
       "  </tbody>\n",
       "</table>\n",
       "<p>5 rows × 22 columns</p>\n",
       "</div>"
      ],
      "text/plain": [
       "                         Title    Year  Rated   Released  Runtime  \\\n",
       "0                    Inception  2010.0  PG-13 2010-07-16      148   \n",
       "1                   Iron Man 2  2010.0  PG-13 2010-05-07      124   \n",
       "2               Shutter Island  2010.0      R 2010-02-19      138   \n",
       "3  Scott Pilgrim vs. the World  2010.0  PG-13 2010-08-13      112   \n",
       "4                    Grown Ups  2010.0  PG-13 2010-06-25      102   \n",
       "\n",
       "                       Genre           Director  \\\n",
       "0  Action, Adventure, Sci-Fi  Christopher Nolan   \n",
       "1  Action, Adventure, Sci-Fi        Jon Favreau   \n",
       "2          Mystery, Thriller    Martin Scorsese   \n",
       "3    Action, Comedy, Fantasy       Edgar Wright   \n",
       "4                     Comedy       Dennis Dugan   \n",
       "\n",
       "                                             Writer  \\\n",
       "0                                 Christopher Nolan   \n",
       "1                Justin Theroux, Stan Lee, Don Heck   \n",
       "2                   Laeta Kalogridis, Dennis Lehane   \n",
       "3  Michael Bacall, Edgar Wright, Bryan Lee O'Malley   \n",
       "4                           Adam Sandler, Fred Wolf   \n",
       "\n",
       "                                              Actors  \\\n",
       "0  Leonardo DiCaprio, Joseph Gordon-Levitt, Ellio...   \n",
       "1  Robert Downey Jr., Mickey Rourke, Gwyneth Paltrow   \n",
       "2    Leonardo DiCaprio, Emily Mortimer, Mark Ruffalo   \n",
       "3  Michael Cera, Mary Elizabeth Winstead, Kieran ...   \n",
       "4             Adam Sandler, Salma Hayek, Kevin James   \n",
       "\n",
       "                                                Plot  ...  \\\n",
       "0  A thief who steals corporate secrets through t...  ...   \n",
       "1  With the world now aware of his identity as Ir...  ...   \n",
       "2  In 1954, a U.S. Marshal investigates the disap...  ...   \n",
       "3  In a magically realistic version of Toronto, a...  ...   \n",
       "4  After their high school basketball coach passe...  ...   \n",
       "\n",
       "                                              Awards  \\\n",
       "0     Won 4 Oscars. 157 wins & 220 nominations total   \n",
       "1  Nominated for 1 Oscar. 7 wins & 44 nominations...   \n",
       "2                           11 wins & 66 nominations   \n",
       "3                           17 wins & 64 nominations   \n",
       "4                             3 wins & 4 nominations   \n",
       "\n",
       "                                              Poster Metascore imdbRating  \\\n",
       "0  https://m.media-amazon.com/images/M/MV5BMjAxMz...      74.0        8.8   \n",
       "1  https://m.media-amazon.com/images/M/MV5BMTM0MD...      57.0        7.0   \n",
       "2  https://m.media-amazon.com/images/M/MV5BYzhiND...      63.0        8.2   \n",
       "3  https://m.media-amazon.com/images/M/MV5BYWQ2OG...      69.0        7.5   \n",
       "4  https://m.media-amazon.com/images/M/MV5BMjA0OD...      30.0        6.0   \n",
       "\n",
       "   imdbVotes     imdbID   Type          DVD BoxOffice Response  \n",
       "0        NaN  tt1375666  movie  07 Dec 2010       NaN     True  \n",
       "1        NaN  tt1228705  movie  17 Aug 2010       NaN     True  \n",
       "2        NaN  tt1130884  movie  08 Jun 2010       NaN     True  \n",
       "3        NaN  tt0446029  movie  09 Nov 2010       NaN     True  \n",
       "4        NaN  tt1375670  movie  09 Nov 2010       NaN     True  \n",
       "\n",
       "[5 rows x 22 columns]"
      ]
     },
     "execution_count": 294,
     "metadata": {},
     "output_type": "execute_result"
    }
   ],
   "source": [
    "movie_df.head(5)"
   ]
  },
  {
   "cell_type": "code",
   "execution_count": null,
   "id": "fd819964-b44c-4c4f-b6da-a463fb662a29",
   "metadata": {},
   "outputs": [],
   "source": []
  }
 ],
 "metadata": {
  "kernelspec": {
   "display_name": "Python 3",
   "language": "python",
   "name": "python3"
  },
  "language_info": {
   "codemirror_mode": {
    "name": "ipython",
    "version": 3
   },
   "file_extension": ".py",
   "mimetype": "text/x-python",
   "name": "python",
   "nbconvert_exporter": "python",
   "pygments_lexer": "ipython3",
   "version": "3.6.13"
  }
 },
 "nbformat": 4,
 "nbformat_minor": 5
}
