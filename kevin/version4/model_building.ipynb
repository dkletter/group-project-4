{
 "cells": [
  {
   "cell_type": "code",
   "execution_count": 1,
   "metadata": {
    "slideshow": {
     "slide_type": "skip"
    }
   },
   "outputs": [],
   "source": [
    "# Dependencies and models\n",
    "import pandas as pd\n",
    "import numpy as np\n",
    "from sklearn.model_selection import train_test_split, GridSearchCV\n",
    "from sklearn.preprocessing import StandardScaler,MinMaxScaler\n",
    "from sklearn.ensemble import RandomForestClassifier"
   ]
  },
  {
   "cell_type": "code",
   "execution_count": 2,
   "metadata": {
    "slideshow": {
     "slide_type": "fragment"
    }
   },
   "outputs": [
    {
     "data": {
      "text/html": [
       "<div>\n",
       "<style scoped>\n",
       "    .dataframe tbody tr th:only-of-type {\n",
       "        vertical-align: middle;\n",
       "    }\n",
       "\n",
       "    .dataframe tbody tr th {\n",
       "        vertical-align: top;\n",
       "    }\n",
       "\n",
       "    .dataframe thead th {\n",
       "        text-align: right;\n",
       "    }\n",
       "</style>\n",
       "<table border=\"1\" class=\"dataframe\">\n",
       "  <thead>\n",
       "    <tr style=\"text-align: right;\">\n",
       "      <th></th>\n",
       "      <th>title</th>\n",
       "      <th>rated</th>\n",
       "      <th>released</th>\n",
       "      <th>runtime</th>\n",
       "      <th>director</th>\n",
       "      <th>writer</th>\n",
       "      <th>actors</th>\n",
       "      <th>plot</th>\n",
       "      <th>language</th>\n",
       "      <th>country</th>\n",
       "      <th>awards</th>\n",
       "      <th>metascore</th>\n",
       "      <th>imdbrating</th>\n",
       "      <th>imdbvotes</th>\n",
       "      <th>dvd</th>\n",
       "      <th>boxoffice</th>\n",
       "      <th>response</th>\n",
       "      <th>genre</th>\n",
       "      <th>star</th>\n",
       "      <th>budget</th>\n",
       "      <th>gross</th>\n",
       "      <th>year</th>\n",
       "      <th>internet_movie_database_rating</th>\n",
       "      <th>rotten_tomato_rating</th>\n",
       "      <th>metacritic_rating</th>\n",
       "    </tr>\n",
       "  </thead>\n",
       "  <tbody>\n",
       "    <tr>\n",
       "      <th>0</th>\n",
       "      <td>Inception</td>\n",
       "      <td>PG-13</td>\n",
       "      <td>2010-07-16</td>\n",
       "      <td>148</td>\n",
       "      <td>Christopher Nolan</td>\n",
       "      <td>Christopher Nolan</td>\n",
       "      <td>Leonardo DiCaprio, Joseph Gordon-Levitt, Ellio...</td>\n",
       "      <td>A thief who steals corporate secrets through t...</td>\n",
       "      <td>English, Japanese, French</td>\n",
       "      <td>United Kingdom, United States</td>\n",
       "      <td>Won 4 Oscars. 157 wins &amp; 220 nominations total</td>\n",
       "      <td>74.0</td>\n",
       "      <td>8.8</td>\n",
       "      <td>2223702</td>\n",
       "      <td>07 Dec 2010</td>\n",
       "      <td>292576195.0</td>\n",
       "      <td>True</td>\n",
       "      <td>Action</td>\n",
       "      <td>Leonardo DiCaprio</td>\n",
       "      <td>160000000.0</td>\n",
       "      <td>836836967.0</td>\n",
       "      <td>2010</td>\n",
       "      <td>8.8</td>\n",
       "      <td>87.0</td>\n",
       "      <td>74.0</td>\n",
       "    </tr>\n",
       "    <tr>\n",
       "      <th>1</th>\n",
       "      <td>Iron Man 2</td>\n",
       "      <td>PG-13</td>\n",
       "      <td>2010-05-07</td>\n",
       "      <td>124</td>\n",
       "      <td>Jon Favreau</td>\n",
       "      <td>Justin Theroux, Stan Lee, Don Heck</td>\n",
       "      <td>Robert Downey Jr., Mickey Rourke, Gwyneth Paltrow</td>\n",
       "      <td>With the world now aware of his identity as Ir...</td>\n",
       "      <td>English, French, Russian</td>\n",
       "      <td>United States</td>\n",
       "      <td>Nominated for 1 Oscar. 7 wins &amp; 44 nominations...</td>\n",
       "      <td>57.0</td>\n",
       "      <td>7.0</td>\n",
       "      <td>771885</td>\n",
       "      <td>17 Aug 2010</td>\n",
       "      <td>312433331.0</td>\n",
       "      <td>True</td>\n",
       "      <td>Action</td>\n",
       "      <td>Robert Downey Jr.</td>\n",
       "      <td>200000000.0</td>\n",
       "      <td>623933331.0</td>\n",
       "      <td>2010</td>\n",
       "      <td>7.0</td>\n",
       "      <td>72.0</td>\n",
       "      <td>57.0</td>\n",
       "    </tr>\n",
       "  </tbody>\n",
       "</table>\n",
       "</div>"
      ],
      "text/plain": [
       "        title  rated    released  runtime           director  \\\n",
       "0   Inception  PG-13  2010-07-16      148  Christopher Nolan   \n",
       "1  Iron Man 2  PG-13  2010-05-07      124        Jon Favreau   \n",
       "\n",
       "                               writer  \\\n",
       "0                   Christopher Nolan   \n",
       "1  Justin Theroux, Stan Lee, Don Heck   \n",
       "\n",
       "                                              actors  \\\n",
       "0  Leonardo DiCaprio, Joseph Gordon-Levitt, Ellio...   \n",
       "1  Robert Downey Jr., Mickey Rourke, Gwyneth Paltrow   \n",
       "\n",
       "                                                plot  \\\n",
       "0  A thief who steals corporate secrets through t...   \n",
       "1  With the world now aware of his identity as Ir...   \n",
       "\n",
       "                    language                        country  \\\n",
       "0  English, Japanese, French  United Kingdom, United States   \n",
       "1   English, French, Russian                  United States   \n",
       "\n",
       "                                              awards  metascore  imdbrating  \\\n",
       "0     Won 4 Oscars. 157 wins & 220 nominations total       74.0         8.8   \n",
       "1  Nominated for 1 Oscar. 7 wins & 44 nominations...       57.0         7.0   \n",
       "\n",
       "   imdbvotes          dvd    boxoffice  response   genre               star  \\\n",
       "0    2223702  07 Dec 2010  292576195.0      True  Action  Leonardo DiCaprio   \n",
       "1     771885  17 Aug 2010  312433331.0      True  Action  Robert Downey Jr.   \n",
       "\n",
       "        budget        gross  year  internet_movie_database_rating  \\\n",
       "0  160000000.0  836836967.0  2010                             8.8   \n",
       "1  200000000.0  623933331.0  2010                             7.0   \n",
       "\n",
       "   rotten_tomato_rating  metacritic_rating  \n",
       "0                  87.0               74.0  \n",
       "1                  72.0               57.0  "
      ]
     },
     "execution_count": 2,
     "metadata": {},
     "output_type": "execute_result"
    }
   ],
   "source": [
    "# Import cleaned data \n",
    "\n",
    "df = pd.read_csv('cleaned_data.csv')\n",
    "pd.set_option('display.max_columns', None)\n",
    "df.head(2)"
   ]
  },
  {
   "cell_type": "code",
   "execution_count": 3,
   "metadata": {},
   "outputs": [
    {
     "name": "stdout",
     "output_type": "stream",
     "text": [
      "<class 'pandas.core.frame.DataFrame'>\n",
      "RangeIndex: 1774 entries, 0 to 1773\n",
      "Data columns (total 25 columns):\n",
      " #   Column                          Non-Null Count  Dtype  \n",
      "---  ------                          --------------  -----  \n",
      " 0   title                           1774 non-null   object \n",
      " 1   rated                           1753 non-null   object \n",
      " 2   released                        1774 non-null   object \n",
      " 3   runtime                         1774 non-null   int64  \n",
      " 4   director                        1766 non-null   object \n",
      " 5   writer                          1771 non-null   object \n",
      " 6   actors                          1774 non-null   object \n",
      " 7   plot                            1774 non-null   object \n",
      " 8   language                        1771 non-null   object \n",
      " 9   country                         1773 non-null   object \n",
      " 10  awards                          1654 non-null   object \n",
      " 11  metascore                       1774 non-null   float64\n",
      " 12  imdbrating                      1774 non-null   float64\n",
      " 13  imdbvotes                       1774 non-null   int64  \n",
      " 14  dvd                             1736 non-null   object \n",
      " 15  boxoffice                       1774 non-null   float64\n",
      " 16  response                        1774 non-null   bool   \n",
      " 17  genre                           1774 non-null   object \n",
      " 18  star                            1774 non-null   object \n",
      " 19  budget                          1774 non-null   float64\n",
      " 20  gross                           1774 non-null   float64\n",
      " 21  year                            1774 non-null   int64  \n",
      " 22  internet_movie_database_rating  1774 non-null   float64\n",
      " 23  rotten_tomato_rating            1774 non-null   float64\n",
      " 24  metacritic_rating               1774 non-null   float64\n",
      "dtypes: bool(1), float64(8), int64(3), object(13)\n",
      "memory usage: 334.5+ KB\n"
     ]
    }
   ],
   "source": [
    "df.info()"
   ]
  },
  {
   "cell_type": "code",
   "execution_count": 4,
   "metadata": {},
   "outputs": [
    {
     "data": {
      "text/plain": [
       "title                             0\n",
       "rated                             0\n",
       "released                          0\n",
       "runtime                           0\n",
       "director                          0\n",
       "writer                            0\n",
       "actors                            0\n",
       "plot                              0\n",
       "language                          0\n",
       "country                           0\n",
       "awards                            0\n",
       "metascore                         0\n",
       "imdbrating                        0\n",
       "imdbvotes                         0\n",
       "dvd                               0\n",
       "boxoffice                         0\n",
       "response                          0\n",
       "genre                             0\n",
       "star                              0\n",
       "budget                            0\n",
       "gross                             0\n",
       "year                              0\n",
       "internet_movie_database_rating    0\n",
       "rotten_tomato_rating              0\n",
       "metacritic_rating                 0\n",
       "dtype: int64"
      ]
     },
     "execution_count": 4,
     "metadata": {},
     "output_type": "execute_result"
    }
   ],
   "source": [
    "# Replacing nulls with 'NA' and 0\n",
    "\n",
    "df[\"rated\"].fillna(\"NA\", inplace = True)\n",
    "df[\"director\"].fillna(\"NA\", inplace = True)\n",
    "df[\"writer\"].fillna(\"NA\", inplace = True)\n",
    "df[\"language\"].fillna(\"NA\", inplace = True)\n",
    "df[\"country\"].fillna(\"NA\", inplace = True)\n",
    "df[\"awards\"].fillna(\"NA\", inplace = True)\n",
    "df[\"metascore\"].fillna(0, inplace = True)\n",
    "df[\"dvd\"].fillna(\"NA\", inplace = True)\n",
    "df[\"boxoffice\"].fillna(0, inplace = True)\n",
    "df[\"budget\"].fillna(0, inplace = True)\n",
    "df[\"gross\"].fillna(0, inplace = True)\n",
    "\n",
    "# Check for any nulls \n",
    "\n",
    "df.isnull().sum()"
   ]
  },
  {
   "cell_type": "markdown",
   "metadata": {},
   "source": [
    "## Data Preprocessing for model"
   ]
  },
  {
   "cell_type": "markdown",
   "metadata": {},
   "source": [
    "### Adding label column based on IMDB Rating (rating(<5): label 0,rating(>=5 and <8):label1,rating(>8):label2"
   ]
  },
  {
   "cell_type": "code",
   "execution_count": 5,
   "metadata": {},
   "outputs": [],
   "source": [
    "df['label']=''\n",
    "for index, row in df.iterrows():\n",
    "    if (row['imdbrating']<5):\n",
    "        df.loc[index, 'label']=0\n",
    "    elif (row['imdbrating']>=5)&(row['imdbrating']<8):\n",
    "        df.loc[index, 'label']=1\n",
    "    elif (row['imdbrating']>=8):\n",
    "        df.loc[index, 'label']=2"
   ]
  },
  {
   "cell_type": "code",
   "execution_count": 6,
   "metadata": {},
   "outputs": [
    {
     "data": {
      "text/plain": [
       "1    1622\n",
       "0      78\n",
       "2      74\n",
       "Name: label, dtype: int64"
      ]
     },
     "execution_count": 6,
     "metadata": {},
     "output_type": "execute_result"
    }
   ],
   "source": [
    "df['label'].value_counts()"
   ]
  },
  {
   "cell_type": "code",
   "execution_count": 7,
   "metadata": {},
   "outputs": [
    {
     "data": {
      "text/plain": [
       "dtype('O')"
      ]
     },
     "execution_count": 7,
     "metadata": {},
     "output_type": "execute_result"
    }
   ],
   "source": [
    "df['label'].dtype"
   ]
  },
  {
   "cell_type": "code",
   "execution_count": 8,
   "metadata": {},
   "outputs": [],
   "source": [
    "df['label']=pd.to_numeric(df['label'])\n",
    "df['label'].fillna(0,inplace=True)\n",
    "df['label']=df['label'].astype('int')"
   ]
  },
  {
   "cell_type": "code",
   "execution_count": 9,
   "metadata": {},
   "outputs": [
    {
     "data": {
      "text/plain": [
       "0       2\n",
       "1       1\n",
       "2       2\n",
       "3       1\n",
       "4       1\n",
       "       ..\n",
       "1769    1\n",
       "1770    0\n",
       "1771    0\n",
       "1772    0\n",
       "1773    1\n",
       "Name: label, Length: 1774, dtype: int64"
      ]
     },
     "execution_count": 9,
     "metadata": {},
     "output_type": "execute_result"
    }
   ],
   "source": [
    "df['label']"
   ]
  },
  {
   "cell_type": "markdown",
   "metadata": {},
   "source": [
    "### Dropping Columns not required for the model"
   ]
  },
  {
   "cell_type": "code",
   "execution_count": 10,
   "metadata": {},
   "outputs": [
    {
     "data": {
      "text/plain": [
       "Index(['rated', 'runtime', 'director', 'writer', 'actors', 'language',\n",
       "       'country', 'genre', 'star', 'budget', 'label'],\n",
       "      dtype='object')"
      ]
     },
     "execution_count": 10,
     "metadata": {},
     "output_type": "execute_result"
    }
   ],
   "source": [
    "df=df.drop(['title','released','plot','awards','metascore','imdbrating' ,'imdbvotes','dvd',\n",
    "           'boxoffice','response','gross', 'year','internet_movie_database_rating',\n",
    "           'rotten_tomato_rating','metacritic_rating'],axis=1)                                                 \n",
    "df.columns"
   ]
  },
  {
   "cell_type": "markdown",
   "metadata": {},
   "source": [
    "### Create Function for one hot encoding of writer, actors,language, country columns"
   ]
  },
  {
   "cell_type": "code",
   "execution_count": 11,
   "metadata": {},
   "outputs": [],
   "source": [
    "def one_hot_encode(column,new_col_names):\n",
    "    \n",
    "    for index, row in df.iterrows():\n",
    "        item_names=str(row[column]).split(',')\n",
    "        for y in item_names:\n",
    "            y=y.strip()\n",
    "            if y in new_col_names:\n",
    "                df.loc[index, y]=1\n",
    "        "
   ]
  },
  {
   "cell_type": "markdown",
   "metadata": {},
   "source": [
    "### One Hot Endcoding: Country"
   ]
  },
  {
   "cell_type": "code",
   "execution_count": 12,
   "metadata": {},
   "outputs": [],
   "source": [
    "from collections import Counter\n",
    "# Find most common country names\n",
    "countries=df['country'].to_list()\n",
    "\n",
    "country_list=[]\n",
    "\n",
    "for x in countries:\n",
    "    \n",
    "        country_array = str(x).split(',')\n",
    "        for y in country_array:\n",
    "            y=y.strip()\n",
    "            country_list.append(y)\n",
    "most_common=Counter(country_list).most_common(10)\n",
    "new_col_names=[]\n",
    "for item in most_common:\n",
    "    new_col_names.append(item[0])\n",
    "    df[item[0]]=\"\"\n",
    "one_hot_encode('country',new_col_names)"
   ]
  },
  {
   "cell_type": "markdown",
   "metadata": {},
   "source": [
    "### One Hot Encoding : Language"
   ]
  },
  {
   "cell_type": "code",
   "execution_count": 13,
   "metadata": {
    "tags": []
   },
   "outputs": [],
   "source": [
    "languages=df['language'].to_list()\n",
    "\n",
    "language_list=[]\n",
    "\n",
    "for x in languages:\n",
    "    \n",
    "        language_array = str(x).split(',')\n",
    "        for y in language_array:\n",
    "            y=y.strip()\n",
    "            language_list.append(y)\n",
    "most_common=Counter(language_list).most_common(15)\n",
    "new_col_names=[]\n",
    "for item in most_common:\n",
    "    new_col_names.append(item[0])\n",
    "    df[item[0]]=\"\"\n",
    "one_hot_encode('language',new_col_names)\n"
   ]
  },
  {
   "cell_type": "markdown",
   "metadata": {},
   "source": [
    "### One Hot Encoding :writer"
   ]
  },
  {
   "cell_type": "code",
   "execution_count": 14,
   "metadata": {},
   "outputs": [],
   "source": [
    "writers=df['writer'].to_list()\n",
    "\n",
    "writer_list=[]\n",
    "\n",
    "for x in writers:\n",
    "    \n",
    "        writer_array = str(x).split(',')\n",
    "        for y in writer_array:\n",
    "            y=y.strip()\n",
    "            writer_list.append(y)\n",
    "most_common=Counter(writer_list).most_common(50)\n",
    "new_col_names=[]\n",
    "for item in most_common:\n",
    "    new_col_names.append(item[0])\n",
    "    df[item[0]]=\"\"\n",
    "one_hot_encode('writer',new_col_names)"
   ]
  },
  {
   "cell_type": "markdown",
   "metadata": {},
   "source": [
    "### One Hot Encoding :actors"
   ]
  },
  {
   "cell_type": "code",
   "execution_count": 15,
   "metadata": {},
   "outputs": [],
   "source": [
    "actors=df['actors'].to_list()\n",
    "\n",
    "actor_list=[]\n",
    "\n",
    "for x in actors:\n",
    "    \n",
    "        actor_array = str(x).split(',')\n",
    "        for y in actor_array:\n",
    "            y=y.strip()\n",
    "            actor_list.append(y)\n",
    "most_common=Counter(actor_list).most_common(50)\n",
    "new_col_names=[]\n",
    "for item in most_common:\n",
    "    new_col_names.append(item[0])\n",
    "    df[item[0]]=\"\"\n",
    "one_hot_encode('actors',new_col_names)\n",
    "\n"
   ]
  },
  {
   "cell_type": "code",
   "execution_count": 16,
   "metadata": {},
   "outputs": [],
   "source": [
    "df=df.drop(['country','language','writer','actors'],axis=1)"
   ]
  },
  {
   "cell_type": "code",
   "execution_count": 17,
   "metadata": {},
   "outputs": [
    {
     "data": {
      "text/plain": [
       "Index(['rated', 'runtime', 'director', 'genre', 'star', 'budget', 'label',\n",
       "       'United States', 'United Kingdom', 'France',\n",
       "       ...\n",
       "       'Jessica Chastain', 'Chris Evans', 'Mark Ruffalo', 'Nicolas Cage',\n",
       "       'Chloë Grace Moretz', 'Johnny Depp', 'Kristen Stewart', 'Amy Adams',\n",
       "       'Robert De Niro', 'Chris Pine'],\n",
       "      dtype='object', length=132)"
      ]
     },
     "execution_count": 17,
     "metadata": {},
     "output_type": "execute_result"
    }
   ],
   "source": [
    "df.columns"
   ]
  },
  {
   "cell_type": "code",
   "execution_count": 18,
   "metadata": {},
   "outputs": [
    {
     "data": {
      "text/plain": [
       "(1774, 132)"
      ]
     },
     "execution_count": 18,
     "metadata": {},
     "output_type": "execute_result"
    }
   ],
   "source": [
    "df.shape"
   ]
  },
  {
   "cell_type": "code",
   "execution_count": 19,
   "metadata": {
    "tags": []
   },
   "outputs": [
    {
     "data": {
      "text/html": [
       "<div>\n",
       "<style scoped>\n",
       "    .dataframe tbody tr th:only-of-type {\n",
       "        vertical-align: middle;\n",
       "    }\n",
       "\n",
       "    .dataframe tbody tr th {\n",
       "        vertical-align: top;\n",
       "    }\n",
       "\n",
       "    .dataframe thead th {\n",
       "        text-align: right;\n",
       "    }\n",
       "</style>\n",
       "<table border=\"1\" class=\"dataframe\">\n",
       "  <thead>\n",
       "    <tr style=\"text-align: right;\">\n",
       "      <th></th>\n",
       "      <th>rated</th>\n",
       "      <th>runtime</th>\n",
       "      <th>director</th>\n",
       "      <th>genre</th>\n",
       "      <th>star</th>\n",
       "      <th>budget</th>\n",
       "      <th>label</th>\n",
       "      <th>United States</th>\n",
       "      <th>United Kingdom</th>\n",
       "      <th>France</th>\n",
       "      <th>Canada</th>\n",
       "      <th>China</th>\n",
       "      <th>Germany</th>\n",
       "      <th>Australia</th>\n",
       "      <th>Japan</th>\n",
       "      <th>India</th>\n",
       "      <th>Spain</th>\n",
       "      <th>English</th>\n",
       "      <th>Spanish</th>\n",
       "      <th>French</th>\n",
       "      <th>German</th>\n",
       "      <th>Russian</th>\n",
       "      <th>Italian</th>\n",
       "      <th>Japanese</th>\n",
       "      <th>Mandarin</th>\n",
       "      <th>Hindi</th>\n",
       "      <th>Arabic</th>\n",
       "      <th>Ukrainian</th>\n",
       "      <th>Korean</th>\n",
       "      <th>Hebrew</th>\n",
       "      <th>Swedish</th>\n",
       "      <th>Latin</th>\n",
       "      <th>Luc Besson</th>\n",
       "      <th>Nicholas Stoller</th>\n",
       "      <th>Jane Goldman</th>\n",
       "      <th>Allan Loeb</th>\n",
       "      <th>Stan Lee</th>\n",
       "      <th>Sean Anders</th>\n",
       "      <th>Brian Helgeland</th>\n",
       "      <th>Cinco Paul</th>\n",
       "      <th>Ken Daurio</th>\n",
       "      <th>Phil Hay</th>\n",
       "      <th>Sylvester Stallone</th>\n",
       "      <th>Nicholas Sparks</th>\n",
       "      <th>Woody Allen</th>\n",
       "      <th>John Morris</th>\n",
       "      <th>Matthew Vaughn</th>\n",
       "      <th>Ethan Reiff</th>\n",
       "      <th>Dan Fogelman</th>\n",
       "      <th>Matt Manfredi</th>\n",
       "      <th>Peter Straughan</th>\n",
       "      <th>Mark Bomback</th>\n",
       "      <th>Darren Lemke</th>\n",
       "      <th>Jennifer Lee</th>\n",
       "      <th>Jez Butterworth</th>\n",
       "      <th>Jonathan Aibel</th>\n",
       "      <th>Billy Ray</th>\n",
       "      <th>Evan Daugherty</th>\n",
       "      <th>Christopher Markus</th>\n",
       "      <th>Stephen McFeely</th>\n",
       "      <th>Steven Knight</th>\n",
       "      <th>Jeff Pinkner</th>\n",
       "      <th>Gary Dauberman</th>\n",
       "      <th>Christopher Nolan</th>\n",
       "      <th>Michael Bacall</th>\n",
       "      <th>Edgar Wright</th>\n",
       "      <th>Adam Sandler</th>\n",
       "      <th>Leigh Whannell</th>\n",
       "      <th>Joel Coen</th>\n",
       "      <th>Ethan Coen</th>\n",
       "      <th>Christopher McQuarrie</th>\n",
       "      <th>Simon Beaufoy</th>\n",
       "      <th>Adam McKay</th>\n",
       "      <th>Hans Christian Andersen</th>\n",
       "      <th>Chris Buck</th>\n",
       "      <th>Peter Morgan</th>\n",
       "      <th>Noah Baumbach</th>\n",
       "      <th>John-Henry Butterworth</th>\n",
       "      <th>Guillermo del Toro</th>\n",
       "      <th>Chris Morgan</th>\n",
       "      <th>Glenn Berger</th>\n",
       "      <th>Josh Appelbaum</th>\n",
       "      <th>Mark Wahlberg</th>\n",
       "      <th>Michael Fassbender</th>\n",
       "      <th>Liam Neeson</th>\n",
       "      <th>Dwayne Johnson</th>\n",
       "      <th>Steve Carell</th>\n",
       "      <th>Jennifer Lawrence</th>\n",
       "      <th>Owen Wilson</th>\n",
       "      <th>Scarlett Johansson</th>\n",
       "      <th>Matthew McConaughey</th>\n",
       "      <th>Gerard Butler</th>\n",
       "      <th>Matt Damon</th>\n",
       "      <th>Jonah Hill</th>\n",
       "      <th>Bradley Cooper</th>\n",
       "      <th>Keira Knightley</th>\n",
       "      <th>Ryan Reynolds</th>\n",
       "      <th>Emily Blunt</th>\n",
       "      <th>Channing Tatum</th>\n",
       "      <th>Chris Hemsworth</th>\n",
       "      <th>Tom Hardy</th>\n",
       "      <th>Robert Downey Jr.</th>\n",
       "      <th>Cate Blanchett</th>\n",
       "      <th>Emma Stone</th>\n",
       "      <th>Nicole Kidman</th>\n",
       "      <th>Seth Rogen</th>\n",
       "      <th>Anna Kendrick</th>\n",
       "      <th>Kevin Hart</th>\n",
       "      <th>Jesse Eisenberg</th>\n",
       "      <th>Helen Mirren</th>\n",
       "      <th>Robert Pattinson</th>\n",
       "      <th>Joel Edgerton</th>\n",
       "      <th>Rachel McAdams</th>\n",
       "      <th>Rachel Weisz</th>\n",
       "      <th>Naomi Watts</th>\n",
       "      <th>Jake Gyllenhaal</th>\n",
       "      <th>Hugh Jackman</th>\n",
       "      <th>Russell Crowe</th>\n",
       "      <th>Michelle Williams</th>\n",
       "      <th>James Franco</th>\n",
       "      <th>Anne Hathaway</th>\n",
       "      <th>Zac Efron</th>\n",
       "      <th>Jessica Chastain</th>\n",
       "      <th>Chris Evans</th>\n",
       "      <th>Mark Ruffalo</th>\n",
       "      <th>Nicolas Cage</th>\n",
       "      <th>Chloë Grace Moretz</th>\n",
       "      <th>Johnny Depp</th>\n",
       "      <th>Kristen Stewart</th>\n",
       "      <th>Amy Adams</th>\n",
       "      <th>Robert De Niro</th>\n",
       "      <th>Chris Pine</th>\n",
       "    </tr>\n",
       "  </thead>\n",
       "  <tbody>\n",
       "    <tr>\n",
       "      <th>0</th>\n",
       "      <td>PG-13</td>\n",
       "      <td>148</td>\n",
       "      <td>Christopher Nolan</td>\n",
       "      <td>Action</td>\n",
       "      <td>Leonardo DiCaprio</td>\n",
       "      <td>160000000.0</td>\n",
       "      <td>2</td>\n",
       "      <td>1</td>\n",
       "      <td>1</td>\n",
       "      <td></td>\n",
       "      <td></td>\n",
       "      <td></td>\n",
       "      <td></td>\n",
       "      <td></td>\n",
       "      <td></td>\n",
       "      <td></td>\n",
       "      <td></td>\n",
       "      <td>1</td>\n",
       "      <td></td>\n",
       "      <td>1</td>\n",
       "      <td></td>\n",
       "      <td></td>\n",
       "      <td></td>\n",
       "      <td>1</td>\n",
       "      <td></td>\n",
       "      <td></td>\n",
       "      <td></td>\n",
       "      <td></td>\n",
       "      <td></td>\n",
       "      <td></td>\n",
       "      <td></td>\n",
       "      <td></td>\n",
       "      <td></td>\n",
       "      <td></td>\n",
       "      <td></td>\n",
       "      <td></td>\n",
       "      <td></td>\n",
       "      <td></td>\n",
       "      <td></td>\n",
       "      <td></td>\n",
       "      <td></td>\n",
       "      <td></td>\n",
       "      <td></td>\n",
       "      <td></td>\n",
       "      <td></td>\n",
       "      <td></td>\n",
       "      <td></td>\n",
       "      <td></td>\n",
       "      <td></td>\n",
       "      <td></td>\n",
       "      <td></td>\n",
       "      <td></td>\n",
       "      <td></td>\n",
       "      <td></td>\n",
       "      <td></td>\n",
       "      <td></td>\n",
       "      <td></td>\n",
       "      <td></td>\n",
       "      <td></td>\n",
       "      <td></td>\n",
       "      <td></td>\n",
       "      <td></td>\n",
       "      <td></td>\n",
       "      <td>1</td>\n",
       "      <td></td>\n",
       "      <td></td>\n",
       "      <td></td>\n",
       "      <td></td>\n",
       "      <td></td>\n",
       "      <td></td>\n",
       "      <td></td>\n",
       "      <td></td>\n",
       "      <td></td>\n",
       "      <td></td>\n",
       "      <td></td>\n",
       "      <td></td>\n",
       "      <td></td>\n",
       "      <td></td>\n",
       "      <td></td>\n",
       "      <td></td>\n",
       "      <td></td>\n",
       "      <td></td>\n",
       "      <td></td>\n",
       "      <td></td>\n",
       "      <td></td>\n",
       "      <td></td>\n",
       "      <td></td>\n",
       "      <td></td>\n",
       "      <td></td>\n",
       "      <td></td>\n",
       "      <td></td>\n",
       "      <td></td>\n",
       "      <td></td>\n",
       "      <td></td>\n",
       "      <td></td>\n",
       "      <td></td>\n",
       "      <td></td>\n",
       "      <td></td>\n",
       "      <td></td>\n",
       "      <td></td>\n",
       "      <td></td>\n",
       "      <td></td>\n",
       "      <td></td>\n",
       "      <td></td>\n",
       "      <td></td>\n",
       "      <td></td>\n",
       "      <td></td>\n",
       "      <td></td>\n",
       "      <td></td>\n",
       "      <td></td>\n",
       "      <td></td>\n",
       "      <td></td>\n",
       "      <td></td>\n",
       "      <td></td>\n",
       "      <td></td>\n",
       "      <td></td>\n",
       "      <td></td>\n",
       "      <td></td>\n",
       "      <td></td>\n",
       "      <td></td>\n",
       "      <td></td>\n",
       "      <td></td>\n",
       "      <td></td>\n",
       "      <td></td>\n",
       "      <td></td>\n",
       "      <td></td>\n",
       "      <td></td>\n",
       "      <td></td>\n",
       "      <td></td>\n",
       "      <td></td>\n",
       "      <td></td>\n",
       "      <td></td>\n",
       "    </tr>\n",
       "    <tr>\n",
       "      <th>1</th>\n",
       "      <td>PG-13</td>\n",
       "      <td>124</td>\n",
       "      <td>Jon Favreau</td>\n",
       "      <td>Action</td>\n",
       "      <td>Robert Downey Jr.</td>\n",
       "      <td>200000000.0</td>\n",
       "      <td>1</td>\n",
       "      <td>1</td>\n",
       "      <td></td>\n",
       "      <td></td>\n",
       "      <td></td>\n",
       "      <td></td>\n",
       "      <td></td>\n",
       "      <td></td>\n",
       "      <td></td>\n",
       "      <td></td>\n",
       "      <td></td>\n",
       "      <td>1</td>\n",
       "      <td></td>\n",
       "      <td>1</td>\n",
       "      <td></td>\n",
       "      <td>1</td>\n",
       "      <td></td>\n",
       "      <td></td>\n",
       "      <td></td>\n",
       "      <td></td>\n",
       "      <td></td>\n",
       "      <td></td>\n",
       "      <td></td>\n",
       "      <td></td>\n",
       "      <td></td>\n",
       "      <td></td>\n",
       "      <td></td>\n",
       "      <td></td>\n",
       "      <td></td>\n",
       "      <td></td>\n",
       "      <td>1</td>\n",
       "      <td></td>\n",
       "      <td></td>\n",
       "      <td></td>\n",
       "      <td></td>\n",
       "      <td></td>\n",
       "      <td></td>\n",
       "      <td></td>\n",
       "      <td></td>\n",
       "      <td></td>\n",
       "      <td></td>\n",
       "      <td></td>\n",
       "      <td></td>\n",
       "      <td></td>\n",
       "      <td></td>\n",
       "      <td></td>\n",
       "      <td></td>\n",
       "      <td></td>\n",
       "      <td></td>\n",
       "      <td></td>\n",
       "      <td></td>\n",
       "      <td></td>\n",
       "      <td></td>\n",
       "      <td></td>\n",
       "      <td></td>\n",
       "      <td></td>\n",
       "      <td></td>\n",
       "      <td></td>\n",
       "      <td></td>\n",
       "      <td></td>\n",
       "      <td></td>\n",
       "      <td></td>\n",
       "      <td></td>\n",
       "      <td></td>\n",
       "      <td></td>\n",
       "      <td></td>\n",
       "      <td></td>\n",
       "      <td></td>\n",
       "      <td></td>\n",
       "      <td></td>\n",
       "      <td></td>\n",
       "      <td></td>\n",
       "      <td></td>\n",
       "      <td></td>\n",
       "      <td></td>\n",
       "      <td></td>\n",
       "      <td></td>\n",
       "      <td></td>\n",
       "      <td></td>\n",
       "      <td></td>\n",
       "      <td></td>\n",
       "      <td></td>\n",
       "      <td></td>\n",
       "      <td></td>\n",
       "      <td></td>\n",
       "      <td></td>\n",
       "      <td></td>\n",
       "      <td></td>\n",
       "      <td></td>\n",
       "      <td></td>\n",
       "      <td></td>\n",
       "      <td></td>\n",
       "      <td></td>\n",
       "      <td></td>\n",
       "      <td></td>\n",
       "      <td>1</td>\n",
       "      <td></td>\n",
       "      <td></td>\n",
       "      <td></td>\n",
       "      <td></td>\n",
       "      <td></td>\n",
       "      <td></td>\n",
       "      <td></td>\n",
       "      <td></td>\n",
       "      <td></td>\n",
       "      <td></td>\n",
       "      <td></td>\n",
       "      <td></td>\n",
       "      <td></td>\n",
       "      <td></td>\n",
       "      <td></td>\n",
       "      <td></td>\n",
       "      <td></td>\n",
       "      <td></td>\n",
       "      <td></td>\n",
       "      <td></td>\n",
       "      <td></td>\n",
       "      <td></td>\n",
       "      <td></td>\n",
       "      <td></td>\n",
       "      <td></td>\n",
       "      <td></td>\n",
       "      <td></td>\n",
       "      <td></td>\n",
       "      <td></td>\n",
       "      <td></td>\n",
       "    </tr>\n",
       "    <tr>\n",
       "      <th>2</th>\n",
       "      <td>R</td>\n",
       "      <td>138</td>\n",
       "      <td>Martin Scorsese</td>\n",
       "      <td>Mystery</td>\n",
       "      <td>Leonardo DiCaprio</td>\n",
       "      <td>80000000.0</td>\n",
       "      <td>2</td>\n",
       "      <td>1</td>\n",
       "      <td></td>\n",
       "      <td></td>\n",
       "      <td></td>\n",
       "      <td></td>\n",
       "      <td></td>\n",
       "      <td></td>\n",
       "      <td></td>\n",
       "      <td></td>\n",
       "      <td></td>\n",
       "      <td>1</td>\n",
       "      <td></td>\n",
       "      <td></td>\n",
       "      <td>1</td>\n",
       "      <td></td>\n",
       "      <td></td>\n",
       "      <td></td>\n",
       "      <td></td>\n",
       "      <td></td>\n",
       "      <td></td>\n",
       "      <td></td>\n",
       "      <td></td>\n",
       "      <td></td>\n",
       "      <td></td>\n",
       "      <td></td>\n",
       "      <td></td>\n",
       "      <td></td>\n",
       "      <td></td>\n",
       "      <td></td>\n",
       "      <td></td>\n",
       "      <td></td>\n",
       "      <td></td>\n",
       "      <td></td>\n",
       "      <td></td>\n",
       "      <td></td>\n",
       "      <td></td>\n",
       "      <td></td>\n",
       "      <td></td>\n",
       "      <td></td>\n",
       "      <td></td>\n",
       "      <td></td>\n",
       "      <td></td>\n",
       "      <td></td>\n",
       "      <td></td>\n",
       "      <td></td>\n",
       "      <td></td>\n",
       "      <td></td>\n",
       "      <td></td>\n",
       "      <td></td>\n",
       "      <td></td>\n",
       "      <td></td>\n",
       "      <td></td>\n",
       "      <td></td>\n",
       "      <td></td>\n",
       "      <td></td>\n",
       "      <td></td>\n",
       "      <td></td>\n",
       "      <td></td>\n",
       "      <td></td>\n",
       "      <td></td>\n",
       "      <td></td>\n",
       "      <td></td>\n",
       "      <td></td>\n",
       "      <td></td>\n",
       "      <td></td>\n",
       "      <td></td>\n",
       "      <td></td>\n",
       "      <td></td>\n",
       "      <td></td>\n",
       "      <td></td>\n",
       "      <td></td>\n",
       "      <td></td>\n",
       "      <td></td>\n",
       "      <td></td>\n",
       "      <td></td>\n",
       "      <td></td>\n",
       "      <td></td>\n",
       "      <td></td>\n",
       "      <td></td>\n",
       "      <td></td>\n",
       "      <td></td>\n",
       "      <td></td>\n",
       "      <td></td>\n",
       "      <td></td>\n",
       "      <td></td>\n",
       "      <td></td>\n",
       "      <td></td>\n",
       "      <td></td>\n",
       "      <td></td>\n",
       "      <td></td>\n",
       "      <td></td>\n",
       "      <td></td>\n",
       "      <td></td>\n",
       "      <td></td>\n",
       "      <td></td>\n",
       "      <td></td>\n",
       "      <td></td>\n",
       "      <td></td>\n",
       "      <td></td>\n",
       "      <td></td>\n",
       "      <td></td>\n",
       "      <td></td>\n",
       "      <td></td>\n",
       "      <td></td>\n",
       "      <td></td>\n",
       "      <td></td>\n",
       "      <td></td>\n",
       "      <td></td>\n",
       "      <td></td>\n",
       "      <td></td>\n",
       "      <td></td>\n",
       "      <td></td>\n",
       "      <td></td>\n",
       "      <td></td>\n",
       "      <td></td>\n",
       "      <td></td>\n",
       "      <td></td>\n",
       "      <td>1</td>\n",
       "      <td></td>\n",
       "      <td></td>\n",
       "      <td></td>\n",
       "      <td></td>\n",
       "      <td></td>\n",
       "      <td></td>\n",
       "      <td></td>\n",
       "    </tr>\n",
       "    <tr>\n",
       "      <th>3</th>\n",
       "      <td>PG-13</td>\n",
       "      <td>112</td>\n",
       "      <td>Edgar Wright</td>\n",
       "      <td>Action</td>\n",
       "      <td>Michael Cera</td>\n",
       "      <td>60000000.0</td>\n",
       "      <td>1</td>\n",
       "      <td>1</td>\n",
       "      <td>1</td>\n",
       "      <td></td>\n",
       "      <td>1</td>\n",
       "      <td></td>\n",
       "      <td></td>\n",
       "      <td></td>\n",
       "      <td>1</td>\n",
       "      <td></td>\n",
       "      <td></td>\n",
       "      <td>1</td>\n",
       "      <td></td>\n",
       "      <td></td>\n",
       "      <td></td>\n",
       "      <td></td>\n",
       "      <td></td>\n",
       "      <td></td>\n",
       "      <td></td>\n",
       "      <td></td>\n",
       "      <td></td>\n",
       "      <td></td>\n",
       "      <td></td>\n",
       "      <td></td>\n",
       "      <td></td>\n",
       "      <td></td>\n",
       "      <td></td>\n",
       "      <td></td>\n",
       "      <td></td>\n",
       "      <td></td>\n",
       "      <td></td>\n",
       "      <td></td>\n",
       "      <td></td>\n",
       "      <td></td>\n",
       "      <td></td>\n",
       "      <td></td>\n",
       "      <td></td>\n",
       "      <td></td>\n",
       "      <td></td>\n",
       "      <td></td>\n",
       "      <td></td>\n",
       "      <td></td>\n",
       "      <td></td>\n",
       "      <td></td>\n",
       "      <td></td>\n",
       "      <td></td>\n",
       "      <td></td>\n",
       "      <td></td>\n",
       "      <td></td>\n",
       "      <td></td>\n",
       "      <td></td>\n",
       "      <td></td>\n",
       "      <td></td>\n",
       "      <td></td>\n",
       "      <td></td>\n",
       "      <td></td>\n",
       "      <td></td>\n",
       "      <td></td>\n",
       "      <td>1</td>\n",
       "      <td>1</td>\n",
       "      <td></td>\n",
       "      <td></td>\n",
       "      <td></td>\n",
       "      <td></td>\n",
       "      <td></td>\n",
       "      <td></td>\n",
       "      <td></td>\n",
       "      <td></td>\n",
       "      <td></td>\n",
       "      <td></td>\n",
       "      <td></td>\n",
       "      <td></td>\n",
       "      <td></td>\n",
       "      <td></td>\n",
       "      <td></td>\n",
       "      <td></td>\n",
       "      <td></td>\n",
       "      <td></td>\n",
       "      <td></td>\n",
       "      <td></td>\n",
       "      <td></td>\n",
       "      <td></td>\n",
       "      <td></td>\n",
       "      <td></td>\n",
       "      <td></td>\n",
       "      <td></td>\n",
       "      <td></td>\n",
       "      <td></td>\n",
       "      <td></td>\n",
       "      <td></td>\n",
       "      <td></td>\n",
       "      <td></td>\n",
       "      <td></td>\n",
       "      <td></td>\n",
       "      <td></td>\n",
       "      <td></td>\n",
       "      <td></td>\n",
       "      <td></td>\n",
       "      <td></td>\n",
       "      <td></td>\n",
       "      <td></td>\n",
       "      <td></td>\n",
       "      <td></td>\n",
       "      <td></td>\n",
       "      <td></td>\n",
       "      <td></td>\n",
       "      <td></td>\n",
       "      <td></td>\n",
       "      <td></td>\n",
       "      <td></td>\n",
       "      <td></td>\n",
       "      <td></td>\n",
       "      <td></td>\n",
       "      <td></td>\n",
       "      <td></td>\n",
       "      <td></td>\n",
       "      <td></td>\n",
       "      <td></td>\n",
       "      <td></td>\n",
       "      <td></td>\n",
       "      <td></td>\n",
       "      <td></td>\n",
       "      <td></td>\n",
       "      <td></td>\n",
       "      <td></td>\n",
       "      <td></td>\n",
       "    </tr>\n",
       "    <tr>\n",
       "      <th>4</th>\n",
       "      <td>PG-13</td>\n",
       "      <td>102</td>\n",
       "      <td>Dennis Dugan</td>\n",
       "      <td>Comedy</td>\n",
       "      <td>Adam Sandler</td>\n",
       "      <td>80000000.0</td>\n",
       "      <td>1</td>\n",
       "      <td>1</td>\n",
       "      <td></td>\n",
       "      <td></td>\n",
       "      <td></td>\n",
       "      <td></td>\n",
       "      <td></td>\n",
       "      <td></td>\n",
       "      <td></td>\n",
       "      <td></td>\n",
       "      <td></td>\n",
       "      <td>1</td>\n",
       "      <td>1</td>\n",
       "      <td></td>\n",
       "      <td></td>\n",
       "      <td></td>\n",
       "      <td></td>\n",
       "      <td></td>\n",
       "      <td></td>\n",
       "      <td></td>\n",
       "      <td></td>\n",
       "      <td></td>\n",
       "      <td></td>\n",
       "      <td></td>\n",
       "      <td></td>\n",
       "      <td></td>\n",
       "      <td></td>\n",
       "      <td></td>\n",
       "      <td></td>\n",
       "      <td></td>\n",
       "      <td></td>\n",
       "      <td></td>\n",
       "      <td></td>\n",
       "      <td></td>\n",
       "      <td></td>\n",
       "      <td></td>\n",
       "      <td></td>\n",
       "      <td></td>\n",
       "      <td></td>\n",
       "      <td></td>\n",
       "      <td></td>\n",
       "      <td></td>\n",
       "      <td></td>\n",
       "      <td></td>\n",
       "      <td></td>\n",
       "      <td></td>\n",
       "      <td></td>\n",
       "      <td></td>\n",
       "      <td></td>\n",
       "      <td></td>\n",
       "      <td></td>\n",
       "      <td></td>\n",
       "      <td></td>\n",
       "      <td></td>\n",
       "      <td></td>\n",
       "      <td></td>\n",
       "      <td></td>\n",
       "      <td></td>\n",
       "      <td></td>\n",
       "      <td></td>\n",
       "      <td>1</td>\n",
       "      <td></td>\n",
       "      <td></td>\n",
       "      <td></td>\n",
       "      <td></td>\n",
       "      <td></td>\n",
       "      <td></td>\n",
       "      <td></td>\n",
       "      <td></td>\n",
       "      <td></td>\n",
       "      <td></td>\n",
       "      <td></td>\n",
       "      <td></td>\n",
       "      <td></td>\n",
       "      <td></td>\n",
       "      <td></td>\n",
       "      <td></td>\n",
       "      <td></td>\n",
       "      <td></td>\n",
       "      <td></td>\n",
       "      <td></td>\n",
       "      <td></td>\n",
       "      <td></td>\n",
       "      <td></td>\n",
       "      <td></td>\n",
       "      <td></td>\n",
       "      <td></td>\n",
       "      <td></td>\n",
       "      <td></td>\n",
       "      <td></td>\n",
       "      <td></td>\n",
       "      <td></td>\n",
       "      <td></td>\n",
       "      <td></td>\n",
       "      <td></td>\n",
       "      <td></td>\n",
       "      <td></td>\n",
       "      <td></td>\n",
       "      <td></td>\n",
       "      <td></td>\n",
       "      <td></td>\n",
       "      <td></td>\n",
       "      <td></td>\n",
       "      <td></td>\n",
       "      <td></td>\n",
       "      <td></td>\n",
       "      <td></td>\n",
       "      <td></td>\n",
       "      <td></td>\n",
       "      <td></td>\n",
       "      <td></td>\n",
       "      <td></td>\n",
       "      <td></td>\n",
       "      <td></td>\n",
       "      <td></td>\n",
       "      <td></td>\n",
       "      <td></td>\n",
       "      <td></td>\n",
       "      <td></td>\n",
       "      <td></td>\n",
       "      <td></td>\n",
       "      <td></td>\n",
       "      <td></td>\n",
       "      <td></td>\n",
       "      <td></td>\n",
       "      <td></td>\n",
       "    </tr>\n",
       "  </tbody>\n",
       "</table>\n",
       "</div>"
      ],
      "text/plain": [
       "   rated  runtime           director    genre               star       budget  \\\n",
       "0  PG-13      148  Christopher Nolan   Action  Leonardo DiCaprio  160000000.0   \n",
       "1  PG-13      124        Jon Favreau   Action  Robert Downey Jr.  200000000.0   \n",
       "2      R      138    Martin Scorsese  Mystery  Leonardo DiCaprio   80000000.0   \n",
       "3  PG-13      112       Edgar Wright   Action       Michael Cera   60000000.0   \n",
       "4  PG-13      102       Dennis Dugan   Comedy       Adam Sandler   80000000.0   \n",
       "\n",
       "   label United States United Kingdom France Canada China Germany Australia  \\\n",
       "0      2             1              1                                         \n",
       "1      1             1                                                        \n",
       "2      2             1                                                        \n",
       "3      1             1              1             1                           \n",
       "4      1             1                                                        \n",
       "\n",
       "  Japan India Spain English Spanish French German Russian Italian Japanese  \\\n",
       "0                         1              1                               1   \n",
       "1                         1              1              1                    \n",
       "2                         1                     1                            \n",
       "3     1                   1                                                  \n",
       "4                         1       1                                          \n",
       "\n",
       "  Mandarin Hindi Arabic Ukrainian Korean Hebrew Swedish Latin Luc Besson  \\\n",
       "0                                                                          \n",
       "1                                                                          \n",
       "2                                                                          \n",
       "3                                                                          \n",
       "4                                                                          \n",
       "\n",
       "  Nicholas Stoller Jane Goldman Allan Loeb Stan Lee Sean Anders  \\\n",
       "0                                                                 \n",
       "1                                                 1               \n",
       "2                                                                 \n",
       "3                                                                 \n",
       "4                                                                 \n",
       "\n",
       "  Brian Helgeland Cinco Paul Ken Daurio Phil Hay Sylvester Stallone  \\\n",
       "0                                                                     \n",
       "1                                                                     \n",
       "2                                                                     \n",
       "3                                                                     \n",
       "4                                                                     \n",
       "\n",
       "  Nicholas Sparks Woody Allen John Morris Matthew Vaughn Ethan Reiff  \\\n",
       "0                                                                      \n",
       "1                                                                      \n",
       "2                                                                      \n",
       "3                                                                      \n",
       "4                                                                      \n",
       "\n",
       "  Dan Fogelman Matt Manfredi Peter Straughan Mark Bomback Darren Lemke  \\\n",
       "0                                                                        \n",
       "1                                                                        \n",
       "2                                                                        \n",
       "3                                                                        \n",
       "4                                                                        \n",
       "\n",
       "  Jennifer Lee Jez Butterworth Jonathan Aibel Billy Ray Evan Daugherty  \\\n",
       "0                                                                        \n",
       "1                                                                        \n",
       "2                                                                        \n",
       "3                                                                        \n",
       "4                                                                        \n",
       "\n",
       "  Christopher Markus Stephen McFeely Steven Knight Jeff Pinkner  \\\n",
       "0                                                                 \n",
       "1                                                                 \n",
       "2                                                                 \n",
       "3                                                                 \n",
       "4                                                                 \n",
       "\n",
       "  Gary Dauberman Christopher Nolan Michael Bacall Edgar Wright Adam Sandler  \\\n",
       "0                                1                                            \n",
       "1                                                                             \n",
       "2                                                                             \n",
       "3                                               1            1                \n",
       "4                                                                         1   \n",
       "\n",
       "  Leigh Whannell Joel Coen Ethan Coen Christopher McQuarrie Simon Beaufoy  \\\n",
       "0                                                                           \n",
       "1                                                                           \n",
       "2                                                                           \n",
       "3                                                                           \n",
       "4                                                                           \n",
       "\n",
       "  Adam McKay Hans Christian Andersen Chris Buck Peter Morgan Noah Baumbach  \\\n",
       "0                                                                            \n",
       "1                                                                            \n",
       "2                                                                            \n",
       "3                                                                            \n",
       "4                                                                            \n",
       "\n",
       "  John-Henry Butterworth Guillermo del Toro Chris Morgan Glenn Berger  \\\n",
       "0                                                                       \n",
       "1                                                                       \n",
       "2                                                                       \n",
       "3                                                                       \n",
       "4                                                                       \n",
       "\n",
       "  Josh Appelbaum Mark Wahlberg Michael Fassbender Liam Neeson Dwayne Johnson  \\\n",
       "0                                                                              \n",
       "1                                                                              \n",
       "2                                                                              \n",
       "3                                                                              \n",
       "4                                                                              \n",
       "\n",
       "  Steve Carell Jennifer Lawrence Owen Wilson Scarlett Johansson  \\\n",
       "0                                                                 \n",
       "1                                                                 \n",
       "2                                                                 \n",
       "3                                                                 \n",
       "4                                                                 \n",
       "\n",
       "  Matthew McConaughey Gerard Butler Matt Damon Jonah Hill Bradley Cooper  \\\n",
       "0                                                                          \n",
       "1                                                                          \n",
       "2                                                                          \n",
       "3                                                                          \n",
       "4                                                                          \n",
       "\n",
       "  Keira Knightley Ryan Reynolds Emily Blunt Channing Tatum Chris Hemsworth  \\\n",
       "0                                                                            \n",
       "1                                                                            \n",
       "2                                                                            \n",
       "3                                                                            \n",
       "4                                                                            \n",
       "\n",
       "  Tom Hardy Robert Downey Jr. Cate Blanchett Emma Stone Nicole Kidman  \\\n",
       "0                                                                       \n",
       "1                           1                                           \n",
       "2                                                                       \n",
       "3                                                                       \n",
       "4                                                                       \n",
       "\n",
       "  Seth Rogen Anna Kendrick Kevin Hart Jesse Eisenberg Helen Mirren  \\\n",
       "0                                                                    \n",
       "1                                                                    \n",
       "2                                                                    \n",
       "3                                                                    \n",
       "4                                                                    \n",
       "\n",
       "  Robert Pattinson Joel Edgerton Rachel McAdams Rachel Weisz Naomi Watts  \\\n",
       "0                                                                          \n",
       "1                                                                          \n",
       "2                                                                          \n",
       "3                                                                          \n",
       "4                                                                          \n",
       "\n",
       "  Jake Gyllenhaal Hugh Jackman Russell Crowe Michelle Williams James Franco  \\\n",
       "0                                                                             \n",
       "1                                                                             \n",
       "2                                                                             \n",
       "3                                                                             \n",
       "4                                                                             \n",
       "\n",
       "  Anne Hathaway Zac Efron Jessica Chastain Chris Evans Mark Ruffalo  \\\n",
       "0                                                                     \n",
       "1                                                                     \n",
       "2                                                                 1   \n",
       "3                                                                     \n",
       "4                                                                     \n",
       "\n",
       "  Nicolas Cage Chloë Grace Moretz Johnny Depp Kristen Stewart Amy Adams  \\\n",
       "0                                                                         \n",
       "1                                                                         \n",
       "2                                                                         \n",
       "3                                                                         \n",
       "4                                                                         \n",
       "\n",
       "  Robert De Niro Chris Pine  \n",
       "0                            \n",
       "1                            \n",
       "2                            \n",
       "3                            \n",
       "4                            "
      ]
     },
     "execution_count": 19,
     "metadata": {},
     "output_type": "execute_result"
    }
   ],
   "source": [
    "df.head(5)"
   ]
  },
  {
   "cell_type": "code",
   "execution_count": 20,
   "metadata": {},
   "outputs": [],
   "source": [
    "df.fillna(0,inplace=True)\n"
   ]
  },
  {
   "cell_type": "code",
   "execution_count": 21,
   "metadata": {},
   "outputs": [
    {
     "data": {
      "text/plain": [
       "rated              0\n",
       "runtime            0\n",
       "director           0\n",
       "genre              0\n",
       "star               0\n",
       "                  ..\n",
       "Johnny Depp        0\n",
       "Kristen Stewart    0\n",
       "Amy Adams          0\n",
       "Robert De Niro     0\n",
       "Chris Pine         0\n",
       "Length: 132, dtype: int64"
      ]
     },
     "execution_count": 21,
     "metadata": {},
     "output_type": "execute_result"
    }
   ],
   "source": [
    "df.isnull().sum()"
   ]
  },
  {
   "cell_type": "markdown",
   "metadata": {},
   "source": [
    "### Reducing type of rated by merging two or more types in one"
   ]
  },
  {
   "cell_type": "code",
   "execution_count": 22,
   "metadata": {},
   "outputs": [],
   "source": [
    "df.loc[df['rated']=='TV-MA', 'rated'] = 'R'\n",
    "df.loc[df['rated']=='NC-17', 'rated'] = 'R'\n",
    "df.loc[df['rated']=='TV-14', 'rated'] = 'PG-13'\n",
    "df.loc[df['rated']=='TV-PG', 'rated'] = 'PG'\n",
    "df.loc[df['rated']=='Unrated', 'rated'] = 'NA'\n",
    "df.loc[df['rated']=='Not Rated', 'rated'] = 'NA'"
   ]
  },
  {
   "cell_type": "code",
   "execution_count": 23,
   "metadata": {},
   "outputs": [],
   "source": [
    "stars = df.star.value_counts()\n",
    "stars_filter = stars[stars< 2]\n"
   ]
  },
  {
   "cell_type": "code",
   "execution_count": 24,
   "metadata": {},
   "outputs": [
    {
     "data": {
      "text/plain": [
       "other                  1197\n",
       "Mark Wahlberg            13\n",
       "Steve Carell             12\n",
       "Matt Damon               12\n",
       "Matthew McConaughey      12\n",
       "                       ... \n",
       "Saoirse Ronan             5\n",
       "Mia Wasikowska            5\n",
       "Sam Worthington           5\n",
       "Daniel Craig              5\n",
       "Charlize Theron           5\n",
       "Name: star, Length: 82, dtype: int64"
      ]
     },
     "execution_count": 24,
     "metadata": {},
     "output_type": "execute_result"
    }
   ],
   "source": [
    "stars_replace = stars[stars<5].index.to_list()\n",
    "for star in stars_replace:\n",
    "  df['star'] =  df['star'].replace(star,'other')\n",
    "\n",
    "df['star'].value_counts() "
   ]
  },
  {
   "cell_type": "code",
   "execution_count": 25,
   "metadata": {},
   "outputs": [
    {
     "data": {
      "text/plain": [
       "rated              0\n",
       "runtime            0\n",
       "director           0\n",
       "genre              0\n",
       "star               0\n",
       "                  ..\n",
       "Johnny Depp        0\n",
       "Kristen Stewart    0\n",
       "Amy Adams          0\n",
       "Robert De Niro     0\n",
       "Chris Pine         0\n",
       "Length: 132, dtype: int64"
      ]
     },
     "execution_count": 25,
     "metadata": {},
     "output_type": "execute_result"
    }
   ],
   "source": [
    "df.isnull().sum()"
   ]
  },
  {
   "cell_type": "code",
   "execution_count": 59,
   "metadata": {},
   "outputs": [
    {
     "data": {
      "text/plain": [
       "rated              object\n",
       "runtime             int64\n",
       "director           object\n",
       "genre              object\n",
       "star               object\n",
       "                    ...  \n",
       "Johnny Depp        object\n",
       "Kristen Stewart    object\n",
       "Amy Adams          object\n",
       "Robert De Niro     object\n",
       "Chris Pine         object\n",
       "Length: 132, dtype: object"
      ]
     },
     "execution_count": 59,
     "metadata": {},
     "output_type": "execute_result"
    }
   ],
   "source": [
    "df.dtypes"
   ]
  },
  {
   "cell_type": "code",
   "execution_count": 26,
   "metadata": {},
   "outputs": [],
   "source": [
    "# Save as final csv file for model\n",
    "df.to_csv('fin_data.csv')"
   ]
  },
  {
   "cell_type": "markdown",
   "metadata": {},
   "source": [
    "### Splitting Feature and Target Columns"
   ]
  },
  {
   "cell_type": "code",
   "execution_count": 28,
   "metadata": {},
   "outputs": [],
   "source": [
    "df2=df.drop('label',axis=1)\n",
    "y=df['label']"
   ]
  },
  {
   "cell_type": "code",
   "execution_count": 29,
   "metadata": {},
   "outputs": [
    {
     "data": {
      "text/plain": [
       "(1774, 1468)"
      ]
     },
     "execution_count": 29,
     "metadata": {},
     "output_type": "execute_result"
    }
   ],
   "source": [
    "X=pd.get_dummies(df2)\n",
    "X.shape"
   ]
  },
  {
   "cell_type": "code",
   "execution_count": null,
   "metadata": {},
   "outputs": [],
   "source": []
  },
  {
   "cell_type": "code",
   "execution_count": 30,
   "metadata": {},
   "outputs": [],
   "source": [
    "X_train, X_test, y_train, y_test = train_test_split(X, y,test_size=0.3, random_state=1)"
   ]
  },
  {
   "cell_type": "code",
   "execution_count": 31,
   "metadata": {},
   "outputs": [],
   "source": [
    "scaler=StandardScaler().fit(X_train)\n",
    "X_train_scaled=scaler.transform(X_train)\n",
    "X_test_scaled=scaler.transform(X_test)"
   ]
  },
  {
   "cell_type": "markdown",
   "metadata": {},
   "source": [
    "### Trying RandomForest Classifier"
   ]
  },
  {
   "cell_type": "code",
   "execution_count": 32,
   "metadata": {},
   "outputs": [
    {
     "data": {
      "text/plain": [
       "RandomForestClassifier(n_estimators=500, random_state=1)"
      ]
     },
     "execution_count": 32,
     "metadata": {},
     "output_type": "execute_result"
    }
   ],
   "source": [
    "model=RandomForestClassifier (random_state=1,n_estimators=500)\n",
    "model.fit(X_train_scaled,y_train)"
   ]
  },
  {
   "cell_type": "code",
   "execution_count": 33,
   "metadata": {},
   "outputs": [],
   "source": [
    "training_score = model.score(X_train_scaled, y_train)\n",
    "testing_score = model.score(X_test_scaled, y_test)"
   ]
  },
  {
   "cell_type": "code",
   "execution_count": 34,
   "metadata": {},
   "outputs": [
    {
     "name": "stdout",
     "output_type": "stream",
     "text": [
      "training_score:1.0,testing_score:0.9118198874296435\n"
     ]
    }
   ],
   "source": [
    "print(f\"training_score:{training_score},testing_score:{testing_score}\")"
   ]
  },
  {
   "cell_type": "code",
   "execution_count": 35,
   "metadata": {},
   "outputs": [
    {
     "data": {
      "text/plain": [
       "array([1])"
      ]
     },
     "execution_count": 35,
     "metadata": {},
     "output_type": "execute_result"
    }
   ],
   "source": [
    "\n",
    "pred = model.predict(X_test[:1])\n",
    "pred"
   ]
  },
  {
   "cell_type": "code",
   "execution_count": 36,
   "metadata": {},
   "outputs": [
    {
     "data": {
      "text/plain": [
       "runtime             1\n",
       "budget              1\n",
       "rated_G             1\n",
       "rated_NA            1\n",
       "rated_PG            1\n",
       "                   ..\n",
       "Amy Adams_          1\n",
       "Robert De Niro_1    1\n",
       "Robert De Niro_     1\n",
       "Chris Pine_1        1\n",
       "Chris Pine_         1\n",
       "Length: 1468, dtype: int64"
      ]
     },
     "execution_count": 36,
     "metadata": {},
     "output_type": "execute_result"
    }
   ],
   "source": [
    "X_test[:1].count()"
   ]
  },
  {
   "cell_type": "code",
   "execution_count": 37,
   "metadata": {},
   "outputs": [
    {
     "data": {
      "text/plain": [
       "1693    1\n",
       "Name: label, dtype: int64"
      ]
     },
     "execution_count": 37,
     "metadata": {},
     "output_type": "execute_result"
    }
   ],
   "source": [
    "y_test[:1]"
   ]
  },
  {
   "cell_type": "markdown",
   "metadata": {},
   "source": [
    "### Trying SVC"
   ]
  },
  {
   "cell_type": "code",
   "execution_count": 38,
   "metadata": {},
   "outputs": [],
   "source": [
    "from sklearn.svm import SVC"
   ]
  },
  {
   "cell_type": "code",
   "execution_count": 39,
   "metadata": {},
   "outputs": [
    {
     "data": {
      "text/plain": [
       "SVC()"
      ]
     },
     "execution_count": 39,
     "metadata": {},
     "output_type": "execute_result"
    }
   ],
   "source": [
    "model=SVC()\n",
    "model.fit(X_train_scaled,y_train)"
   ]
  },
  {
   "cell_type": "code",
   "execution_count": 40,
   "metadata": {},
   "outputs": [],
   "source": [
    "training_score = model.score(X_train_scaled, y_train)\n",
    "testing_score = model.score(X_test_scaled, y_test)"
   ]
  },
  {
   "cell_type": "code",
   "execution_count": 41,
   "metadata": {},
   "outputs": [
    {
     "name": "stdout",
     "output_type": "stream",
     "text": [
      "training_score:0.9307010475423045,testing_score:0.9136960600375235\n"
     ]
    }
   ],
   "source": [
    "print(f\"training_score:{training_score},testing_score:{testing_score}\")"
   ]
  },
  {
   "cell_type": "code",
   "execution_count": 42,
   "metadata": {},
   "outputs": [
    {
     "data": {
      "text/plain": [
       "1693    1\n",
       "Name: label, dtype: int64"
      ]
     },
     "execution_count": 42,
     "metadata": {},
     "output_type": "execute_result"
    }
   ],
   "source": [
    "y_test[:1]"
   ]
  },
  {
   "cell_type": "markdown",
   "metadata": {},
   "source": [
    "### Trying K-Nearestneighbors"
   ]
  },
  {
   "cell_type": "code",
   "execution_count": 43,
   "metadata": {},
   "outputs": [],
   "source": [
    "from sklearn.neighbors import KNeighborsClassifier"
   ]
  },
  {
   "cell_type": "code",
   "execution_count": 44,
   "metadata": {},
   "outputs": [],
   "source": [
    "train_scores=[]\n",
    "test_scores=[]"
   ]
  },
  {
   "cell_type": "code",
   "execution_count": 45,
   "metadata": {},
   "outputs": [],
   "source": [
    "for k in range (1,20,2):\n",
    "    knn=KNeighborsClassifier(n_neighbors=k)\n",
    "    knn.fit(X_train_scaled,y_train)\n",
    "    train_score=knn.score(X_train_scaled,y_train)\n",
    "    test_score=knn.score(X_test_scaled,y_test)\n",
    "    train_scores.append(train_score)\n",
    "    test_scores.append(test_score)"
   ]
  },
  {
   "cell_type": "code",
   "execution_count": 46,
   "metadata": {},
   "outputs": [
    {
     "data": {
      "image/png": "[encoded data removed]",
      "text/plain": [
       "<Figure size 432x288 with 1 Axes>"
      ]
     },
     "metadata": {
      "needs_background": "light"
     },
     "output_type": "display_data"
    }
   ],
   "source": [
    "import matplotlib.pyplot as plt\n",
    "plt.plot(range(1, 20, 2), train_scores, marker='o')\n",
    "plt.plot(range(1, 20, 2), test_scores, marker=\"x\")\n",
    "plt.xlabel(\"k neighbors\")\n",
    "plt.ylabel(\"Testing accuracy score\")\n",
    "plt.show()"
   ]
  },
  {
   "cell_type": "code",
   "execution_count": 47,
   "metadata": {},
   "outputs": [
    {
     "data": {
      "text/plain": [
       "KNeighborsClassifier(n_neighbors=8)"
      ]
     },
     "execution_count": 47,
     "metadata": {},
     "output_type": "execute_result"
    }
   ],
   "source": [
    "knn=KNeighborsClassifier(n_neighbors=8)\n",
    "knn.fit(X_train_scaled,y_train)\n"
   ]
  },
  {
   "cell_type": "code",
   "execution_count": 48,
   "metadata": {},
   "outputs": [],
   "source": [
    "training_score = knn.score(X_train_scaled, y_train)\n",
    "testing_score = knn.score(X_test_scaled, y_test)"
   ]
  },
  {
   "cell_type": "code",
   "execution_count": 49,
   "metadata": {},
   "outputs": [
    {
     "name": "stdout",
     "output_type": "stream",
     "text": [
      "training_score:0.9161966156325544,testing_score:0.9118198874296435\n"
     ]
    }
   ],
   "source": [
    "print(f\"training_score:{training_score},testing_score:{testing_score}\")"
   ]
  },
  {
   "cell_type": "markdown",
   "metadata": {},
   "source": [
    "### Trying other ensemble methods"
   ]
  },
  {
   "cell_type": "code",
   "execution_count": 50,
   "metadata": {},
   "outputs": [],
   "source": [
    "from sklearn.ensemble import ExtraTreesClassifier, AdaBoostClassifier"
   ]
  },
  {
   "cell_type": "markdown",
   "metadata": {},
   "source": [
    "### ExtraTreesClassifier"
   ]
  },
  {
   "cell_type": "code",
   "execution_count": 51,
   "metadata": {},
   "outputs": [
    {
     "data": {
      "text/plain": [
       "ExtraTreesClassifier()"
      ]
     },
     "execution_count": 51,
     "metadata": {},
     "output_type": "execute_result"
    }
   ],
   "source": [
    "model=ExtraTreesClassifier()\n",
    "model.fit(X_train_scaled,y_train)"
   ]
  },
  {
   "cell_type": "code",
   "execution_count": 52,
   "metadata": {},
   "outputs": [],
   "source": [
    "training_score = model.score(X_train_scaled, y_train)\n",
    "testing_score = model.score(X_test_scaled, y_test)"
   ]
  },
  {
   "cell_type": "code",
   "execution_count": 53,
   "metadata": {},
   "outputs": [
    {
     "name": "stdout",
     "output_type": "stream",
     "text": [
      "training_score:1.0,testing_score:0.9024390243902439\n"
     ]
    }
   ],
   "source": [
    "print(f\"training_score:{training_score},testing_score:{testing_score}\")"
   ]
  },
  {
   "cell_type": "markdown",
   "metadata": {},
   "source": [
    "### AdaBoostClassifier"
   ]
  },
  {
   "cell_type": "code",
   "execution_count": 54,
   "metadata": {},
   "outputs": [
    {
     "data": {
      "text/plain": [
       "AdaBoostClassifier()"
      ]
     },
     "execution_count": 54,
     "metadata": {},
     "output_type": "execute_result"
    }
   ],
   "source": [
    "model=AdaBoostClassifier()\n",
    "model.fit(X_train_scaled,y_train)"
   ]
  },
  {
   "cell_type": "code",
   "execution_count": 55,
   "metadata": {},
   "outputs": [],
   "source": [
    "training_score = model.score(X_train_scaled, y_train)\n",
    "testing_score = model.score(X_test_scaled, y_test)"
   ]
  },
  {
   "cell_type": "code",
   "execution_count": 56,
   "metadata": {},
   "outputs": [
    {
     "name": "stdout",
     "output_type": "stream",
     "text": [
      "training_score:0.8356164383561644,testing_score:0.849906191369606\n"
     ]
    }
   ],
   "source": [
    "print(f\"training_score:{training_score},testing_score:{testing_score}\")"
   ]
  },
  {
   "cell_type": "code",
   "execution_count": null,
   "metadata": {},
   "outputs": [],
   "source": []
  },
  {
   "cell_type": "code",
   "execution_count": null,
   "metadata": {},
   "outputs": [],
   "source": []
  }
 ],
 "metadata": {
  "anaconda-cloud": {},
  "kernelspec": {
   "display_name": "Python 3",
   "language": "python",
   "name": "python3"
  },
  "language_info": {
   "codemirror_mode": {
    "name": "ipython",
    "version": 3
   },
   "file_extension": ".py",
   "mimetype": "text/x-python",
   "name": "python",
   "nbconvert_exporter": "python",
   "pygments_lexer": "ipython3",
   "version": "3.6.15"
  },
  "varInspector": {
   "cols": {
    "lenName": 16,
    "lenType": 16,
    "lenVar": 40
   },
   "kernels_config": {
    "python": {
     "delete_cmd_postfix": "",
     "delete_cmd_prefix": "del ",
     "library": "var_list.py",
     "varRefreshCmd": "print(var_dic_list())"
    },
    "r": {
     "delete_cmd_postfix": ") ",
     "delete_cmd_prefix": "rm(",
     "library": "var_list.r",
     "varRefreshCmd": "cat(var_dic_list()) "
    }
   },
   "types_to_exclude": [
    "module",
    "function",
    "builtin_function_or_method",
    "instance",
    "_Feature"
   ],
   "window_display": false
  }
 },
 "nbformat": 4,
 "nbformat_minor": 4
}
