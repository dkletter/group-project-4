{
 "cells": [
  {
   "cell_type": "code",
   "execution_count": 149,
   "metadata": {
    "slideshow": {
     "slide_type": "skip"
    }
   },
   "outputs": [],
   "source": [
    "import pandas as pd\n",
    "import numpy as np"
   ]
  },
  {
   "cell_type": "code",
   "execution_count": 150,
   "metadata": {
    "slideshow": {
     "slide_type": "fragment"
    }
   },
   "outputs": [],
   "source": [
    "df = pd.read_csv('cleaned_data.csv')"
   ]
  },
  {
   "cell_type": "code",
   "execution_count": 151,
   "metadata": {},
   "outputs": [
    {
     "data": {
      "text/html": [
       "<div>\n",
       "<style scoped>\n",
       "    .dataframe tbody tr th:only-of-type {\n",
       "        vertical-align: middle;\n",
       "    }\n",
       "\n",
       "    .dataframe tbody tr th {\n",
       "        vertical-align: top;\n",
       "    }\n",
       "\n",
       "    .dataframe thead th {\n",
       "        text-align: right;\n",
       "    }\n",
       "</style>\n",
       "<table border=\"1\" class=\"dataframe\">\n",
       "  <thead>\n",
       "    <tr style=\"text-align: right;\">\n",
       "      <th></th>\n",
       "      <th>title</th>\n",
       "      <th>rated</th>\n",
       "      <th>released</th>\n",
       "      <th>runtime</th>\n",
       "      <th>director</th>\n",
       "      <th>writer</th>\n",
       "      <th>actors</th>\n",
       "      <th>plot</th>\n",
       "      <th>language</th>\n",
       "      <th>country</th>\n",
       "      <th>...</th>\n",
       "      <th>boxoffice</th>\n",
       "      <th>response</th>\n",
       "      <th>genre</th>\n",
       "      <th>star</th>\n",
       "      <th>budget</th>\n",
       "      <th>gross</th>\n",
       "      <th>year</th>\n",
       "      <th>internet_movie_database_rating</th>\n",
       "      <th>rotten_tomato_rating</th>\n",
       "      <th>metacritic_rating</th>\n",
       "    </tr>\n",
       "  </thead>\n",
       "  <tbody>\n",
       "    <tr>\n",
       "      <th>0</th>\n",
       "      <td>Inception</td>\n",
       "      <td>PG-13</td>\n",
       "      <td>2010-07-16</td>\n",
       "      <td>148</td>\n",
       "      <td>Christopher Nolan</td>\n",
       "      <td>Christopher Nolan</td>\n",
       "      <td>Leonardo DiCaprio, Joseph Gordon-Levitt, Ellio...</td>\n",
       "      <td>A thief who steals corporate secrets through t...</td>\n",
       "      <td>English, Japanese, French</td>\n",
       "      <td>United Kingdom, United States</td>\n",
       "      <td>...</td>\n",
       "      <td>292576195.0</td>\n",
       "      <td>True</td>\n",
       "      <td>Action</td>\n",
       "      <td>Leonardo DiCaprio</td>\n",
       "      <td>160000000.0</td>\n",
       "      <td>836836967.0</td>\n",
       "      <td>2010</td>\n",
       "      <td>8.8</td>\n",
       "      <td>87.0</td>\n",
       "      <td>74.0</td>\n",
       "    </tr>\n",
       "    <tr>\n",
       "      <th>1</th>\n",
       "      <td>Iron Man 2</td>\n",
       "      <td>PG-13</td>\n",
       "      <td>2010-05-07</td>\n",
       "      <td>124</td>\n",
       "      <td>Jon Favreau</td>\n",
       "      <td>Justin Theroux, Stan Lee, Don Heck</td>\n",
       "      <td>Robert Downey Jr., Mickey Rourke, Gwyneth Paltrow</td>\n",
       "      <td>With the world now aware of his identity as Ir...</td>\n",
       "      <td>English, French, Russian</td>\n",
       "      <td>United States</td>\n",
       "      <td>...</td>\n",
       "      <td>312433331.0</td>\n",
       "      <td>True</td>\n",
       "      <td>Action</td>\n",
       "      <td>Robert Downey Jr.</td>\n",
       "      <td>200000000.0</td>\n",
       "      <td>623933331.0</td>\n",
       "      <td>2010</td>\n",
       "      <td>7.0</td>\n",
       "      <td>72.0</td>\n",
       "      <td>57.0</td>\n",
       "    </tr>\n",
       "  </tbody>\n",
       "</table>\n",
       "<p>2 rows × 25 columns</p>\n",
       "</div>"
      ],
      "text/plain": [
       "        title  rated    released  runtime           director  \\\n",
       "0   Inception  PG-13  2010-07-16      148  Christopher Nolan   \n",
       "1  Iron Man 2  PG-13  2010-05-07      124        Jon Favreau   \n",
       "\n",
       "                               writer  \\\n",
       "0                   Christopher Nolan   \n",
       "1  Justin Theroux, Stan Lee, Don Heck   \n",
       "\n",
       "                                              actors  \\\n",
       "0  Leonardo DiCaprio, Joseph Gordon-Levitt, Ellio...   \n",
       "1  Robert Downey Jr., Mickey Rourke, Gwyneth Paltrow   \n",
       "\n",
       "                                                plot  \\\n",
       "0  A thief who steals corporate secrets through t...   \n",
       "1  With the world now aware of his identity as Ir...   \n",
       "\n",
       "                    language                        country  ...    boxoffice  \\\n",
       "0  English, Japanese, French  United Kingdom, United States  ...  292576195.0   \n",
       "1   English, French, Russian                  United States  ...  312433331.0   \n",
       "\n",
       "   response   genre               star       budget        gross  year  \\\n",
       "0      True  Action  Leonardo DiCaprio  160000000.0  836836967.0  2010   \n",
       "1      True  Action  Robert Downey Jr.  200000000.0  623933331.0  2010   \n",
       "\n",
       "  internet_movie_database_rating rotten_tomato_rating  metacritic_rating  \n",
       "0                            8.8                 87.0               74.0  \n",
       "1                            7.0                 72.0               57.0  \n",
       "\n",
       "[2 rows x 25 columns]"
      ]
     },
     "execution_count": 151,
     "metadata": {},
     "output_type": "execute_result"
    }
   ],
   "source": [
    "df.head(2)"
   ]
  },
  {
   "cell_type": "code",
   "execution_count": 152,
   "metadata": {},
   "outputs": [
    {
     "name": "stdout",
     "output_type": "stream",
     "text": [
      "<class 'pandas.core.frame.DataFrame'>\n",
      "RangeIndex: 1774 entries, 0 to 1773\n",
      "Data columns (total 25 columns):\n",
      " #   Column                          Non-Null Count  Dtype  \n",
      "---  ------                          --------------  -----  \n",
      " 0   title                           1774 non-null   object \n",
      " 1   rated                           1753 non-null   object \n",
      " 2   released                        1774 non-null   object \n",
      " 3   runtime                         1774 non-null   int64  \n",
      " 4   director                        1766 non-null   object \n",
      " 5   writer                          1771 non-null   object \n",
      " 6   actors                          1774 non-null   object \n",
      " 7   plot                            1774 non-null   object \n",
      " 8   language                        1771 non-null   object \n",
      " 9   country                         1773 non-null   object \n",
      " 10  awards                          1654 non-null   object \n",
      " 11  metascore                       1774 non-null   float64\n",
      " 12  imdbrating                      1774 non-null   float64\n",
      " 13  imdbvotes                       1774 non-null   int64  \n",
      " 14  dvd                             1736 non-null   object \n",
      " 15  boxoffice                       1774 non-null   float64\n",
      " 16  response                        1774 non-null   bool   \n",
      " 17  genre                           1774 non-null   object \n",
      " 18  star                            1774 non-null   object \n",
      " 19  budget                          1774 non-null   float64\n",
      " 20  gross                           1774 non-null   float64\n",
      " 21  year                            1774 non-null   int64  \n",
      " 22  internet_movie_database_rating  1774 non-null   float64\n",
      " 23  rotten_tomato_rating            1774 non-null   float64\n",
      " 24  metacritic_rating               1774 non-null   float64\n",
      "dtypes: bool(1), float64(8), int64(3), object(13)\n",
      "memory usage: 334.5+ KB\n"
     ]
    }
   ],
   "source": [
    "df.info()"
   ]
  },
  {
   "cell_type": "code",
   "execution_count": 153,
   "metadata": {},
   "outputs": [],
   "source": [
    "df[\"rated\"].fillna(\"NA\", inplace = True)\n",
    "df[\"director\"].fillna(\"NA\", inplace = True)\n",
    "df[\"writer\"].fillna(\"NA\", inplace = True)\n",
    "df[\"language\"].fillna(\"NA\", inplace = True)\n",
    "df[\"country\"].fillna(\"NA\", inplace = True)\n",
    "df[\"awards\"].fillna(\"NA\", inplace = True)\n",
    "df[\"metascore\"].fillna(0, inplace = True)\n",
    "df[\"dvd\"].fillna(\"NA\", inplace = True)\n",
    "df[\"boxoffice\"].fillna(0, inplace = True)\n",
    "df[\"budget\"].fillna(0, inplace = True)\n",
    "df[\"gross\"].fillna(0, inplace = True)\n"
   ]
  },
  {
   "cell_type": "code",
   "execution_count": 154,
   "metadata": {},
   "outputs": [
    {
     "data": {
      "text/plain": [
       "title                             0\n",
       "rated                             0\n",
       "released                          0\n",
       "runtime                           0\n",
       "director                          0\n",
       "writer                            0\n",
       "actors                            0\n",
       "plot                              0\n",
       "language                          0\n",
       "country                           0\n",
       "awards                            0\n",
       "metascore                         0\n",
       "imdbrating                        0\n",
       "imdbvotes                         0\n",
       "dvd                               0\n",
       "boxoffice                         0\n",
       "response                          0\n",
       "genre                             0\n",
       "star                              0\n",
       "budget                            0\n",
       "gross                             0\n",
       "year                              0\n",
       "internet_movie_database_rating    0\n",
       "rotten_tomato_rating              0\n",
       "metacritic_rating                 0\n",
       "dtype: int64"
      ]
     },
     "execution_count": 154,
     "metadata": {},
     "output_type": "execute_result"
    }
   ],
   "source": [
    "df.isnull().sum()"
   ]
  },
  {
   "cell_type": "markdown",
   "metadata": {},
   "source": [
    "## Data Preprocessing for model"
   ]
  },
  {
   "cell_type": "markdown",
   "metadata": {},
   "source": [
    "### Adding label column based on IMDB Rating (rating(<5): label 0,rating(>=5 and <8):label1,rating(>8):label2"
   ]
  },
  {
   "cell_type": "code",
   "execution_count": 155,
   "metadata": {},
   "outputs": [],
   "source": [
    "df['label']=''\n",
    "for index, row in df.iterrows():\n",
    "    if (row['imdbrating']<5):\n",
    "        df.loc[index, 'label']=0\n",
    "    elif (row['imdbrating']>=5)&(row['imdbrating']<8):\n",
    "        df.loc[index, 'label']=1\n",
    "    elif (row['imdbrating']>=8):\n",
    "        df.loc[index, 'label']=2"
   ]
  },
  {
   "cell_type": "code",
   "execution_count": 156,
   "metadata": {},
   "outputs": [
    {
     "data": {
      "text/plain": [
       "1    1622\n",
       "0      78\n",
       "2      74\n",
       "Name: label, dtype: int64"
      ]
     },
     "execution_count": 156,
     "metadata": {},
     "output_type": "execute_result"
    }
   ],
   "source": [
    "df['label'].value_counts()"
   ]
  },
  {
   "cell_type": "code",
   "execution_count": 157,
   "metadata": {},
   "outputs": [
    {
     "data": {
      "text/plain": [
       "dtype('O')"
      ]
     },
     "execution_count": 157,
     "metadata": {},
     "output_type": "execute_result"
    }
   ],
   "source": [
    "df['label'].dtype"
   ]
  },
  {
   "cell_type": "code",
   "execution_count": 158,
   "metadata": {},
   "outputs": [],
   "source": [
    "df['label']=pd.to_numeric(df['label'])\n",
    "df['label'].fillna(0,inplace=True)\n",
    "df['label']=df['label'].astype('int')"
   ]
  },
  {
   "cell_type": "code",
   "execution_count": 159,
   "metadata": {},
   "outputs": [
    {
     "data": {
      "text/plain": [
       "0       2\n",
       "1       1\n",
       "2       2\n",
       "3       1\n",
       "4       1\n",
       "       ..\n",
       "1769    1\n",
       "1770    0\n",
       "1771    0\n",
       "1772    0\n",
       "1773    1\n",
       "Name: label, Length: 1774, dtype: int64"
      ]
     },
     "execution_count": 159,
     "metadata": {},
     "output_type": "execute_result"
    }
   ],
   "source": [
    "df['label']"
   ]
  },
  {
   "cell_type": "markdown",
   "metadata": {},
   "source": [
    "### Dropping Columns not required for the model"
   ]
  },
  {
   "cell_type": "code",
   "execution_count": 160,
   "metadata": {},
   "outputs": [
    {
     "data": {
      "text/plain": [
       "Index(['rated', 'runtime', 'director', 'writer', 'actors', 'language',\n",
       "       'country', 'genre', 'star', 'budget', 'label'],\n",
       "      dtype='object')"
      ]
     },
     "execution_count": 160,
     "metadata": {},
     "output_type": "execute_result"
    }
   ],
   "source": [
    "df=df.drop(['title','released','plot','awards','metascore','imdbrating' ,'imdbvotes','dvd',\n",
    "           'boxoffice','response','gross', 'year','internet_movie_database_rating',\n",
    "           'rotten_tomato_rating','metacritic_rating'],axis=1)                                                 \n",
    "df.columns"
   ]
  },
  {
   "cell_type": "markdown",
   "metadata": {},
   "source": [
    "### Create Function for one hot encoding of writer, actors,language, country columns"
   ]
  },
  {
   "cell_type": "code",
   "execution_count": 161,
   "metadata": {},
   "outputs": [],
   "source": [
    "def one_hot_encode(column,new_col_names):\n",
    "    \n",
    "    for index, row in df.iterrows():\n",
    "        item_names=str(row[column]).split(',')\n",
    "        for y in item_names:\n",
    "            y=y.strip()\n",
    "            if y in new_col_names:\n",
    "                df.loc[index, y]=1\n",
    "        "
   ]
  },
  {
   "cell_type": "markdown",
   "metadata": {},
   "source": [
    "### One Hot Endcoding: Country"
   ]
  },
  {
   "cell_type": "code",
   "execution_count": 162,
   "metadata": {},
   "outputs": [],
   "source": [
    "from collections import Counter\n",
    "# Find most common country names\n",
    "countries=df['country'].to_list()\n",
    "\n",
    "country_list=[]\n",
    "\n",
    "for x in countries:\n",
    "    \n",
    "        country_array = str(x).split(',')\n",
    "        for y in country_array:\n",
    "            y=y.strip()\n",
    "            country_list.append(y)\n",
    "most_common=Counter(country_list).most_common(10)\n",
    "new_col_names=[]\n",
    "for item in most_common:\n",
    "    new_col_names.append(item[0])\n",
    "    df[item[0]]=\"\"\n",
    "one_hot_encode('country',new_col_names)"
   ]
  },
  {
   "cell_type": "markdown",
   "metadata": {},
   "source": [
    "### One Hot Encoding : Language"
   ]
  },
  {
   "cell_type": "code",
   "execution_count": 163,
   "metadata": {
    "tags": []
   },
   "outputs": [],
   "source": [
    "languages=df['language'].to_list()\n",
    "\n",
    "language_list=[]\n",
    "\n",
    "for x in languages:\n",
    "    \n",
    "        language_array = str(x).split(',')\n",
    "        for y in language_array:\n",
    "            y=y.strip()\n",
    "            language_list.append(y)\n",
    "most_common=Counter(language_list).most_common(15)\n",
    "new_col_names=[]\n",
    "for item in most_common:\n",
    "    new_col_names.append(item[0])\n",
    "    df[item[0]]=\"\"\n",
    "one_hot_encode('language',new_col_names)\n"
   ]
  },
  {
   "cell_type": "markdown",
   "metadata": {},
   "source": [
    "### One Hot Encoding :writer"
   ]
  },
  {
   "cell_type": "code",
   "execution_count": 164,
   "metadata": {},
   "outputs": [],
   "source": [
    "writers=df['writer'].to_list()\n",
    "\n",
    "writer_list=[]\n",
    "\n",
    "for x in writers:\n",
    "    \n",
    "        writer_array = str(x).split(',')\n",
    "        for y in writer_array:\n",
    "            y=y.strip()\n",
    "            writer_list.append(y)\n",
    "most_common=Counter(writer_list).most_common(50)\n",
    "new_col_names=[]\n",
    "for item in most_common:\n",
    "    new_col_names.append(item[0])\n",
    "    df[item[0]]=\"\"\n",
    "one_hot_encode('writer',new_col_names)"
   ]
  },
  {
   "cell_type": "markdown",
   "metadata": {},
   "source": [
    "### One Hot Encoding :actors"
   ]
  },
  {
   "cell_type": "code",
   "execution_count": 165,
   "metadata": {},
   "outputs": [],
   "source": [
    "actors=df['actors'].to_list()\n",
    "\n",
    "actor_list=[]\n",
    "\n",
    "for x in actors:\n",
    "    \n",
    "        actor_array = str(x).split(',')\n",
    "        for y in actor_array:\n",
    "            y=y.strip()\n",
    "            actor_list.append(y)\n",
    "most_common=Counter(actor_list).most_common(50)\n",
    "new_col_names=[]\n",
    "for item in most_common:\n",
    "    new_col_names.append(item[0])\n",
    "    df[item[0]]=\"\"\n",
    "one_hot_encode('actors',new_col_names)\n",
    "\n"
   ]
  },
  {
   "cell_type": "code",
   "execution_count": 166,
   "metadata": {},
   "outputs": [],
   "source": [
    "df=df.drop(['country','language','writer','actors'],axis=1)"
   ]
  },
  {
   "cell_type": "code",
   "execution_count": 167,
   "metadata": {},
   "outputs": [
    {
     "data": {
      "text/plain": [
       "Index(['rated', 'runtime', 'director', 'genre', 'star', 'budget', 'label',\n",
       "       'United States', 'United Kingdom', 'France',\n",
       "       ...\n",
       "       'Jessica Chastain', 'Chris Evans', 'Mark Ruffalo', 'Nicolas Cage',\n",
       "       'Chloë Grace Moretz', 'Johnny Depp', 'Kristen Stewart', 'Amy Adams',\n",
       "       'Robert De Niro', 'Chris Pine'],\n",
       "      dtype='object', length=132)"
      ]
     },
     "execution_count": 167,
     "metadata": {},
     "output_type": "execute_result"
    }
   ],
   "source": [
    "df.columns"
   ]
  },
  {
   "cell_type": "code",
   "execution_count": 168,
   "metadata": {},
   "outputs": [
    {
     "data": {
      "text/plain": [
       "(1774, 132)"
      ]
     },
     "execution_count": 168,
     "metadata": {},
     "output_type": "execute_result"
    }
   ],
   "source": [
    "df.shape"
   ]
  },
  {
   "cell_type": "code",
   "execution_count": 13,
   "metadata": {
    "tags": []
   },
   "outputs": [
    {
     "data": {
      "text/html": [
       "<div>\n",
       "<style scoped>\n",
       "    .dataframe tbody tr th:only-of-type {\n",
       "        vertical-align: middle;\n",
       "    }\n",
       "\n",
       "    .dataframe tbody tr th {\n",
       "        vertical-align: top;\n",
       "    }\n",
       "\n",
       "    .dataframe thead th {\n",
       "        text-align: right;\n",
       "    }\n",
       "</style>\n",
       "<table border=\"1\" class=\"dataframe\">\n",
       "  <thead>\n",
       "    <tr style=\"text-align: right;\">\n",
       "      <th></th>\n",
       "      <th>title</th>\n",
       "      <th>rated</th>\n",
       "      <th>released</th>\n",
       "      <th>runtime</th>\n",
       "      <th>director</th>\n",
       "      <th>writer</th>\n",
       "      <th>actors</th>\n",
       "      <th>plot</th>\n",
       "      <th>language</th>\n",
       "      <th>country</th>\n",
       "      <th>...</th>\n",
       "      <th>Jessica Chastain</th>\n",
       "      <th>Chris Evans</th>\n",
       "      <th>Mark Ruffalo</th>\n",
       "      <th>Nicolas Cage</th>\n",
       "      <th>Chloë Grace Moretz</th>\n",
       "      <th>Johnny Depp</th>\n",
       "      <th>Kristen Stewart</th>\n",
       "      <th>Amy Adams</th>\n",
       "      <th>Robert De Niro</th>\n",
       "      <th>Chris Pine</th>\n",
       "    </tr>\n",
       "  </thead>\n",
       "  <tbody>\n",
       "    <tr>\n",
       "      <th>0</th>\n",
       "      <td>Inception</td>\n",
       "      <td>PG-13</td>\n",
       "      <td>2010-07-16</td>\n",
       "      <td>148</td>\n",
       "      <td>Christopher Nolan</td>\n",
       "      <td>Christopher Nolan</td>\n",
       "      <td>Leonardo DiCaprio, Joseph Gordon-Levitt, Ellio...</td>\n",
       "      <td>A thief who steals corporate secrets through t...</td>\n",
       "      <td>English, Japanese, French</td>\n",
       "      <td>United Kingdom, United States</td>\n",
       "      <td>...</td>\n",
       "      <td></td>\n",
       "      <td></td>\n",
       "      <td></td>\n",
       "      <td></td>\n",
       "      <td></td>\n",
       "      <td></td>\n",
       "      <td></td>\n",
       "      <td></td>\n",
       "      <td></td>\n",
       "      <td></td>\n",
       "    </tr>\n",
       "    <tr>\n",
       "      <th>1</th>\n",
       "      <td>Iron Man 2</td>\n",
       "      <td>PG-13</td>\n",
       "      <td>2010-05-07</td>\n",
       "      <td>124</td>\n",
       "      <td>Jon Favreau</td>\n",
       "      <td>Justin Theroux, Stan Lee, Don Heck</td>\n",
       "      <td>Robert Downey Jr., Mickey Rourke, Gwyneth Paltrow</td>\n",
       "      <td>With the world now aware of his identity as Ir...</td>\n",
       "      <td>English, French, Russian</td>\n",
       "      <td>United States</td>\n",
       "      <td>...</td>\n",
       "      <td></td>\n",
       "      <td></td>\n",
       "      <td></td>\n",
       "      <td></td>\n",
       "      <td></td>\n",
       "      <td></td>\n",
       "      <td></td>\n",
       "      <td></td>\n",
       "      <td></td>\n",
       "      <td></td>\n",
       "    </tr>\n",
       "    <tr>\n",
       "      <th>2</th>\n",
       "      <td>Shutter Island</td>\n",
       "      <td>R</td>\n",
       "      <td>2010-02-19</td>\n",
       "      <td>138</td>\n",
       "      <td>Martin Scorsese</td>\n",
       "      <td>Laeta Kalogridis, Dennis Lehane</td>\n",
       "      <td>Leonardo DiCaprio, Emily Mortimer, Mark Ruffalo</td>\n",
       "      <td>In 1954, a U.S. Marshal investigates the disap...</td>\n",
       "      <td>English, German</td>\n",
       "      <td>United States</td>\n",
       "      <td>...</td>\n",
       "      <td></td>\n",
       "      <td></td>\n",
       "      <td>1</td>\n",
       "      <td></td>\n",
       "      <td></td>\n",
       "      <td></td>\n",
       "      <td></td>\n",
       "      <td></td>\n",
       "      <td></td>\n",
       "      <td></td>\n",
       "    </tr>\n",
       "    <tr>\n",
       "      <th>3</th>\n",
       "      <td>Scott Pilgrim vs. the World</td>\n",
       "      <td>PG-13</td>\n",
       "      <td>2010-08-13</td>\n",
       "      <td>112</td>\n",
       "      <td>Edgar Wright</td>\n",
       "      <td>Michael Bacall, Edgar Wright, Bryan Lee O'Malley</td>\n",
       "      <td>Michael Cera, Mary Elizabeth Winstead, Kieran ...</td>\n",
       "      <td>In a magically realistic version of Toronto, a...</td>\n",
       "      <td>English</td>\n",
       "      <td>United States, United Kingdom, Canada, Japan</td>\n",
       "      <td>...</td>\n",
       "      <td></td>\n",
       "      <td></td>\n",
       "      <td></td>\n",
       "      <td></td>\n",
       "      <td></td>\n",
       "      <td></td>\n",
       "      <td></td>\n",
       "      <td></td>\n",
       "      <td></td>\n",
       "      <td></td>\n",
       "    </tr>\n",
       "    <tr>\n",
       "      <th>4</th>\n",
       "      <td>Grown Ups</td>\n",
       "      <td>PG-13</td>\n",
       "      <td>2010-06-25</td>\n",
       "      <td>102</td>\n",
       "      <td>Dennis Dugan</td>\n",
       "      <td>Adam Sandler, Fred Wolf</td>\n",
       "      <td>Adam Sandler, Salma Hayek, Kevin James</td>\n",
       "      <td>After their high school basketball coach passe...</td>\n",
       "      <td>English, Spanish</td>\n",
       "      <td>United States</td>\n",
       "      <td>...</td>\n",
       "      <td></td>\n",
       "      <td></td>\n",
       "      <td></td>\n",
       "      <td></td>\n",
       "      <td></td>\n",
       "      <td></td>\n",
       "      <td></td>\n",
       "      <td></td>\n",
       "      <td></td>\n",
       "      <td></td>\n",
       "    </tr>\n",
       "  </tbody>\n",
       "</table>\n",
       "<p>5 rows × 150 columns</p>\n",
       "</div>"
      ],
      "text/plain": [
       "                         title  rated    released  runtime           director  \\\n",
       "0                    Inception  PG-13  2010-07-16      148  Christopher Nolan   \n",
       "1                   Iron Man 2  PG-13  2010-05-07      124        Jon Favreau   \n",
       "2               Shutter Island      R  2010-02-19      138    Martin Scorsese   \n",
       "3  Scott Pilgrim vs. the World  PG-13  2010-08-13      112       Edgar Wright   \n",
       "4                    Grown Ups  PG-13  2010-06-25      102       Dennis Dugan   \n",
       "\n",
       "                                             writer  \\\n",
       "0                                 Christopher Nolan   \n",
       "1                Justin Theroux, Stan Lee, Don Heck   \n",
       "2                   Laeta Kalogridis, Dennis Lehane   \n",
       "3  Michael Bacall, Edgar Wright, Bryan Lee O'Malley   \n",
       "4                           Adam Sandler, Fred Wolf   \n",
       "\n",
       "                                              actors  \\\n",
       "0  Leonardo DiCaprio, Joseph Gordon-Levitt, Ellio...   \n",
       "1  Robert Downey Jr., Mickey Rourke, Gwyneth Paltrow   \n",
       "2    Leonardo DiCaprio, Emily Mortimer, Mark Ruffalo   \n",
       "3  Michael Cera, Mary Elizabeth Winstead, Kieran ...   \n",
       "4             Adam Sandler, Salma Hayek, Kevin James   \n",
       "\n",
       "                                                plot  \\\n",
       "0  A thief who steals corporate secrets through t...   \n",
       "1  With the world now aware of his identity as Ir...   \n",
       "2  In 1954, a U.S. Marshal investigates the disap...   \n",
       "3  In a magically realistic version of Toronto, a...   \n",
       "4  After their high school basketball coach passe...   \n",
       "\n",
       "                    language                                       country  \\\n",
       "0  English, Japanese, French                 United Kingdom, United States   \n",
       "1   English, French, Russian                                 United States   \n",
       "2            English, German                                 United States   \n",
       "3                    English  United States, United Kingdom, Canada, Japan   \n",
       "4           English, Spanish                                 United States   \n",
       "\n",
       "   ... Jessica Chastain  Chris Evans  Mark Ruffalo  Nicolas Cage  \\\n",
       "0  ...                                                             \n",
       "1  ...                                                             \n",
       "2  ...                                           1                 \n",
       "3  ...                                                             \n",
       "4  ...                                                             \n",
       "\n",
       "  Chloë Grace Moretz  Johnny Depp  Kristen Stewart Amy Adams Robert De Niro  \\\n",
       "0                                                                             \n",
       "1                                                                             \n",
       "2                                                                             \n",
       "3                                                                             \n",
       "4                                                                             \n",
       "\n",
       "   Chris Pine  \n",
       "0              \n",
       "1              \n",
       "2              \n",
       "3              \n",
       "4              \n",
       "\n",
       "[5 rows x 150 columns]"
      ]
     },
     "execution_count": 13,
     "metadata": {},
     "output_type": "execute_result"
    }
   ],
   "source": [
    "df.head(5)"
   ]
  },
  {
   "cell_type": "code",
   "execution_count": 170,
   "metadata": {},
   "outputs": [],
   "source": [
    "df.fillna(0,inplace=True)\n"
   ]
  },
  {
   "cell_type": "code",
   "execution_count": 171,
   "metadata": {},
   "outputs": [
    {
     "data": {
      "text/plain": [
       "rated              0\n",
       "runtime            0\n",
       "director           0\n",
       "genre              0\n",
       "star               0\n",
       "                  ..\n",
       "Johnny Depp        0\n",
       "Kristen Stewart    0\n",
       "Amy Adams          0\n",
       "Robert De Niro     0\n",
       "Chris Pine         0\n",
       "Length: 132, dtype: int64"
      ]
     },
     "execution_count": 171,
     "metadata": {},
     "output_type": "execute_result"
    }
   ],
   "source": [
    "df.isnull().sum()"
   ]
  },
  {
   "cell_type": "code",
   "execution_count": null,
   "metadata": {},
   "outputs": [],
   "source": [
    "#df.to_csv('one_hot_encode.csv',index=False)"
   ]
  },
  {
   "cell_type": "code",
   "execution_count": 182,
   "metadata": {},
   "outputs": [],
   "source": [
    "from sklearn.model_selection import train_test_split, GridSearchCV\n",
    "from sklearn.preprocessing import StandardScaler,MinMaxScaler\n",
    "from sklearn.ensemble import RandomForestClassifier\n"
   ]
  },
  {
   "cell_type": "markdown",
   "metadata": {},
   "source": [
    "### Reducing type of rated by merging two or more types in one"
   ]
  },
  {
   "cell_type": "code",
   "execution_count": 183,
   "metadata": {},
   "outputs": [],
   "source": [
    "df.loc[df['rated']=='TV-MA', 'rated'] = 'R'\n",
    "df.loc[df['rated']=='NC-17', 'rated'] = 'R'\n",
    "df.loc[df['rated']=='TV-14', 'rated'] = 'PG-13'\n",
    "df.loc[df['rated']=='TV-PG', 'rated'] = 'PG'\n",
    "df.loc[df['rated']=='Unrated', 'rated'] = 'NA'"
   ]
  },
  {
   "cell_type": "code",
   "execution_count": 184,
   "metadata": {},
   "outputs": [],
   "source": [
    "stars = df.star.value_counts()\n",
    "stars_filter = stars[stars< 5]\n"
   ]
  },
  {
   "cell_type": "code",
   "execution_count": 185,
   "metadata": {},
   "outputs": [
    {
     "data": {
      "text/plain": [
       "other                  1673\n",
       "Mark Wahlberg            13\n",
       "Matt Damon               12\n",
       "Matthew McConaughey      12\n",
       "Liam Neeson              12\n",
       "Steve Carell             12\n",
       "Adam Sandler             10\n",
       "Channing Tatum           10\n",
       "Jesse Eisenberg          10\n",
       "Robert Downey Jr.        10\n",
       "Name: star, dtype: int64"
      ]
     },
     "execution_count": 185,
     "metadata": {},
     "output_type": "execute_result"
    }
   ],
   "source": [
    "stars_replace = stars[stars<10].index.to_list()\n",
    "for star in stars_replace:\n",
    "  df['star'] =  df['star'].replace(star,'other')\n",
    "\n",
    "df['star'].value_counts() "
   ]
  },
  {
   "cell_type": "markdown",
   "metadata": {},
   "source": [
    "### Splitting Feature and Target Columns"
   ]
  },
  {
   "cell_type": "code",
   "execution_count": 186,
   "metadata": {},
   "outputs": [],
   "source": [
    "df2=df.drop('label',axis=1)\n",
    "y=df['label']"
   ]
  },
  {
   "cell_type": "code",
   "execution_count": 187,
   "metadata": {},
   "outputs": [
    {
     "data": {
      "text/plain": [
       "(1774, 1397)"
      ]
     },
     "execution_count": 187,
     "metadata": {},
     "output_type": "execute_result"
    }
   ],
   "source": [
    "X=pd.get_dummies(df2)\n",
    "X.shape"
   ]
  },
  {
   "cell_type": "code",
   "execution_count": 188,
   "metadata": {},
   "outputs": [],
   "source": [
    "X_train, X_test, y_train, y_test = train_test_split(X, y,test_size=0.3, random_state=1)"
   ]
  },
  {
   "cell_type": "code",
   "execution_count": 189,
   "metadata": {},
   "outputs": [],
   "source": [
    "scaler=StandardScaler().fit(X_train)\n",
    "X_train_scaled=scaler.transform(X_train)\n",
    "X_test_scaled=scaler.transform(X_test)"
   ]
  },
  {
   "cell_type": "markdown",
   "metadata": {},
   "source": [
    "### Trying RandomForest Classifier"
   ]
  },
  {
   "cell_type": "code",
   "execution_count": 190,
   "metadata": {},
   "outputs": [
    {
     "data": {
      "text/plain": [
       "RandomForestClassifier(n_estimators=500, random_state=1)"
      ]
     },
     "execution_count": 190,
     "metadata": {},
     "output_type": "execute_result"
    }
   ],
   "source": [
    "model=RandomForestClassifier (random_state=1,n_estimators=500)\n",
    "model.fit(X_train_scaled,y_train)"
   ]
  },
  {
   "cell_type": "code",
   "execution_count": 191,
   "metadata": {},
   "outputs": [],
   "source": [
    "training_score = model.score(X_train_scaled, y_train)\n",
    "testing_score = model.score(X_test_scaled, y_test)"
   ]
  },
  {
   "cell_type": "code",
   "execution_count": 192,
   "metadata": {},
   "outputs": [
    {
     "name": "stdout",
     "output_type": "stream",
     "text": [
      "training_score:1.0,testing_score:0.9099437148217636\n"
     ]
    }
   ],
   "source": [
    "print(f\"training_score:{training_score},testing_score:{testing_score}\")"
   ]
  },
  {
   "cell_type": "markdown",
   "metadata": {},
   "source": [
    "### Trying SVC"
   ]
  },
  {
   "cell_type": "code",
   "execution_count": 193,
   "metadata": {},
   "outputs": [],
   "source": [
    "from sklearn.svm import SVC"
   ]
  },
  {
   "cell_type": "code",
   "execution_count": 194,
   "metadata": {},
   "outputs": [
    {
     "data": {
      "text/plain": [
       "SVC()"
      ]
     },
     "execution_count": 194,
     "metadata": {},
     "output_type": "execute_result"
    }
   ],
   "source": [
    "model=SVC()\n",
    "model.fit(X_train_scaled,y_train)"
   ]
  },
  {
   "cell_type": "code",
   "execution_count": 195,
   "metadata": {},
   "outputs": [],
   "source": [
    "training_score = model.score(X_train_scaled, y_train)\n",
    "testing_score = model.score(X_test_scaled, y_test)"
   ]
  },
  {
   "cell_type": "code",
   "execution_count": 196,
   "metadata": {},
   "outputs": [
    {
     "name": "stdout",
     "output_type": "stream",
     "text": [
      "training_score:0.9307010475423045,testing_score:0.9136960600375235\n"
     ]
    }
   ],
   "source": [
    "print(f\"training_score:{training_score},testing_score:{testing_score}\")"
   ]
  },
  {
   "cell_type": "markdown",
   "metadata": {},
   "source": [
    "### Trying K-Nearestneighbors"
   ]
  },
  {
   "cell_type": "code",
   "execution_count": 197,
   "metadata": {},
   "outputs": [],
   "source": [
    "from sklearn.neighbors import KNeighborsClassifier"
   ]
  },
  {
   "cell_type": "code",
   "execution_count": 198,
   "metadata": {},
   "outputs": [],
   "source": [
    "train_scores=[]\n",
    "test_scores=[]"
   ]
  },
  {
   "cell_type": "code",
   "execution_count": 199,
   "metadata": {},
   "outputs": [],
   "source": [
    "for k in range (1,20,2):\n",
    "    knn=KNeighborsClassifier(n_neighbors=k)\n",
    "    knn.fit(X_train_scaled,y_train)\n",
    "    train_score=knn.score(X_train_scaled,y_train)\n",
    "    test_score=knn.score(X_test_scaled,y_test)\n",
    "    train_scores.append(train_score)\n",
    "    test_scores.append(test_score)"
   ]
  },
  {
   "cell_type": "code",
   "execution_count": 200,
   "metadata": {},
   "outputs": [
    {
     "data": {
      "image/png": "[encoded data removed]",
      "text/plain": [
       "<Figure size 432x288 with 1 Axes>"
      ]
     },
     "metadata": {
      "needs_background": "light"
     },
     "output_type": "display_data"
    }
   ],
   "source": [
    "import matplotlib.pyplot as plt\n",
    "plt.plot(range(1, 20, 2), train_scores, marker='o')\n",
    "plt.plot(range(1, 20, 2), test_scores, marker=\"x\")\n",
    "plt.xlabel(\"k neighbors\")\n",
    "plt.ylabel(\"Testing accuracy score\")\n",
    "plt.show()"
   ]
  },
  {
   "cell_type": "code",
   "execution_count": 208,
   "metadata": {},
   "outputs": [
    {
     "data": {
      "text/plain": [
       "KNeighborsClassifier(n_neighbors=8)"
      ]
     },
     "execution_count": 208,
     "metadata": {},
     "output_type": "execute_result"
    }
   ],
   "source": [
    "knn=KNeighborsClassifier(n_neighbors=8)\n",
    "knn.fit(X_train_scaled,y_train)\n"
   ]
  },
  {
   "cell_type": "code",
   "execution_count": 209,
   "metadata": {},
   "outputs": [],
   "source": [
    "training_score = knn.score(X_train_scaled, y_train)\n",
    "testing_score = knn.score(X_test_scaled, y_test)"
   ]
  },
  {
   "cell_type": "code",
   "execution_count": 210,
   "metadata": {},
   "outputs": [
    {
     "name": "stdout",
     "output_type": "stream",
     "text": [
      "training_score:0.9178082191780822,testing_score:0.9118198874296435\n"
     ]
    }
   ],
   "source": [
    "print(f\"training_score:{training_score},testing_score:{testing_score}\")"
   ]
  },
  {
   "cell_type": "markdown",
   "metadata": {},
   "source": [
    "### Trying other ensemble methods"
   ]
  },
  {
   "cell_type": "code",
   "execution_count": 211,
   "metadata": {},
   "outputs": [],
   "source": [
    "from sklearn.ensemble import ExtraTreesClassifier, AdaBoostClassifier"
   ]
  },
  {
   "cell_type": "markdown",
   "metadata": {},
   "source": [
    "### ExtraTreesClassifier"
   ]
  },
  {
   "cell_type": "code",
   "execution_count": 212,
   "metadata": {},
   "outputs": [
    {
     "data": {
      "text/plain": [
       "ExtraTreesClassifier()"
      ]
     },
     "execution_count": 212,
     "metadata": {},
     "output_type": "execute_result"
    }
   ],
   "source": [
    "model=ExtraTreesClassifier()\n",
    "model.fit(X_train_scaled,y_train)"
   ]
  },
  {
   "cell_type": "code",
   "execution_count": 213,
   "metadata": {},
   "outputs": [],
   "source": [
    "training_score = model.score(X_train_scaled, y_train)\n",
    "testing_score = model.score(X_test_scaled, y_test)"
   ]
  },
  {
   "cell_type": "code",
   "execution_count": 214,
   "metadata": {},
   "outputs": [
    {
     "name": "stdout",
     "output_type": "stream",
     "text": [
      "training_score:1.0,testing_score:0.8949343339587242\n"
     ]
    }
   ],
   "source": [
    "print(f\"training_score:{training_score},testing_score:{testing_score}\")"
   ]
  },
  {
   "cell_type": "markdown",
   "metadata": {},
   "source": [
    "### AdaBoostClassifier"
   ]
  },
  {
   "cell_type": "code",
   "execution_count": 215,
   "metadata": {},
   "outputs": [
    {
     "data": {
      "text/plain": [
       "AdaBoostClassifier()"
      ]
     },
     "execution_count": 215,
     "metadata": {},
     "output_type": "execute_result"
    }
   ],
   "source": [
    "model=AdaBoostClassifier()\n",
    "model.fit(X_train_scaled,y_train)"
   ]
  },
  {
   "cell_type": "code",
   "execution_count": 216,
   "metadata": {},
   "outputs": [],
   "source": [
    "training_score = model.score(X_train_scaled, y_train)\n",
    "testing_score = model.score(X_test_scaled, y_test)"
   ]
  },
  {
   "cell_type": "code",
   "execution_count": 217,
   "metadata": {},
   "outputs": [
    {
     "name": "stdout",
     "output_type": "stream",
     "text": [
      "training_score:0.8501208702659145,testing_score:0.8667917448405253\n"
     ]
    }
   ],
   "source": [
    "print(f\"training_score:{training_score},testing_score:{testing_score}\")"
   ]
  },
  {
   "cell_type": "code",
   "execution_count": null,
   "metadata": {},
   "outputs": [],
   "source": []
  }
 ],
 "metadata": {
  "anaconda-cloud": {},
  "kernelspec": {
   "display_name": "Python 3",
   "language": "python",
   "name": "python3"
  },
  "language_info": {
   "codemirror_mode": {
    "name": "ipython",
    "version": 3
   },
   "file_extension": ".py",
   "mimetype": "text/x-python",
   "name": "python",
   "nbconvert_exporter": "python",
   "pygments_lexer": "ipython3",
   "version": "3.6.13"
  },
  "varInspector": {
   "cols": {
    "lenName": 16,
    "lenType": 16,
    "lenVar": 40
   },
   "kernels_config": {
    "python": {
     "delete_cmd_postfix": "",
     "delete_cmd_prefix": "del ",
     "library": "var_list.py",
     "varRefreshCmd": "print(var_dic_list())"
    },
    "r": {
     "delete_cmd_postfix": ") ",
     "delete_cmd_prefix": "rm(",
     "library": "var_list.r",
     "varRefreshCmd": "cat(var_dic_list()) "
    }
   },
   "types_to_exclude": [
    "module",
    "function",
    "builtin_function_or_method",
    "instance",
    "_Feature"
   ],
   "window_display": false
  }
 },
 "nbformat": 4,
 "nbformat_minor": 4
}
