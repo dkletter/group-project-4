{
 "cells": [
  {
   "cell_type": "code",
   "execution_count": 339,
   "metadata": {
    "slideshow": {
     "slide_type": "skip"
    }
   },
   "outputs": [],
   "source": [
    "import pandas as pd\n",
    "import numpy as np"
   ]
  },
  {
   "cell_type": "code",
   "execution_count": 340,
   "metadata": {
    "slideshow": {
     "slide_type": "fragment"
    }
   },
   "outputs": [],
   "source": [
    "df = pd.read_csv('cleaned_data.csv')"
   ]
  },
  {
   "cell_type": "code",
   "execution_count": 341,
   "metadata": {},
   "outputs": [
    {
     "data": {
      "text/html": [
       "<div>\n",
       "<style scoped>\n",
       "    .dataframe tbody tr th:only-of-type {\n",
       "        vertical-align: middle;\n",
       "    }\n",
       "\n",
       "    .dataframe tbody tr th {\n",
       "        vertical-align: top;\n",
       "    }\n",
       "\n",
       "    .dataframe thead th {\n",
       "        text-align: right;\n",
       "    }\n",
       "</style>\n",
       "<table border=\"1\" class=\"dataframe\">\n",
       "  <thead>\n",
       "    <tr style=\"text-align: right;\">\n",
       "      <th></th>\n",
       "      <th>title</th>\n",
       "      <th>rated</th>\n",
       "      <th>released</th>\n",
       "      <th>runtime</th>\n",
       "      <th>director</th>\n",
       "      <th>writer</th>\n",
       "      <th>actors</th>\n",
       "      <th>plot</th>\n",
       "      <th>language</th>\n",
       "      <th>country</th>\n",
       "      <th>...</th>\n",
       "      <th>boxoffice</th>\n",
       "      <th>response</th>\n",
       "      <th>genre</th>\n",
       "      <th>star</th>\n",
       "      <th>budget</th>\n",
       "      <th>gross</th>\n",
       "      <th>year</th>\n",
       "      <th>internet_movie_database_rating</th>\n",
       "      <th>rotten_tomato_rating</th>\n",
       "      <th>metacritic_rating</th>\n",
       "    </tr>\n",
       "  </thead>\n",
       "  <tbody>\n",
       "    <tr>\n",
       "      <th>0</th>\n",
       "      <td>Inception</td>\n",
       "      <td>PG-13</td>\n",
       "      <td>2010-07-16</td>\n",
       "      <td>148</td>\n",
       "      <td>Christopher Nolan</td>\n",
       "      <td>Christopher Nolan</td>\n",
       "      <td>Leonardo DiCaprio, Joseph Gordon-Levitt, Ellio...</td>\n",
       "      <td>A thief who steals corporate secrets through t...</td>\n",
       "      <td>English, Japanese, French</td>\n",
       "      <td>United Kingdom, United States</td>\n",
       "      <td>...</td>\n",
       "      <td>292576195.0</td>\n",
       "      <td>True</td>\n",
       "      <td>Action</td>\n",
       "      <td>Leonardo DiCaprio</td>\n",
       "      <td>160000000.0</td>\n",
       "      <td>836836967.0</td>\n",
       "      <td>2010</td>\n",
       "      <td>8.8</td>\n",
       "      <td>87.0</td>\n",
       "      <td>74.0</td>\n",
       "    </tr>\n",
       "    <tr>\n",
       "      <th>1</th>\n",
       "      <td>Iron Man 2</td>\n",
       "      <td>PG-13</td>\n",
       "      <td>2010-05-07</td>\n",
       "      <td>124</td>\n",
       "      <td>Jon Favreau</td>\n",
       "      <td>Justin Theroux, Stan Lee, Don Heck</td>\n",
       "      <td>Robert Downey Jr., Mickey Rourke, Gwyneth Paltrow</td>\n",
       "      <td>With the world now aware of his identity as Ir...</td>\n",
       "      <td>English, French, Russian</td>\n",
       "      <td>United States</td>\n",
       "      <td>...</td>\n",
       "      <td>312433331.0</td>\n",
       "      <td>True</td>\n",
       "      <td>Action</td>\n",
       "      <td>Robert Downey Jr.</td>\n",
       "      <td>200000000.0</td>\n",
       "      <td>623933331.0</td>\n",
       "      <td>2010</td>\n",
       "      <td>7.0</td>\n",
       "      <td>72.0</td>\n",
       "      <td>57.0</td>\n",
       "    </tr>\n",
       "  </tbody>\n",
       "</table>\n",
       "<p>2 rows × 25 columns</p>\n",
       "</div>"
      ],
      "text/plain": [
       "        title  rated    released  runtime           director  \\\n",
       "0   Inception  PG-13  2010-07-16      148  Christopher Nolan   \n",
       "1  Iron Man 2  PG-13  2010-05-07      124        Jon Favreau   \n",
       "\n",
       "                               writer  \\\n",
       "0                   Christopher Nolan   \n",
       "1  Justin Theroux, Stan Lee, Don Heck   \n",
       "\n",
       "                                              actors  \\\n",
       "0  Leonardo DiCaprio, Joseph Gordon-Levitt, Ellio...   \n",
       "1  Robert Downey Jr., Mickey Rourke, Gwyneth Paltrow   \n",
       "\n",
       "                                                plot  \\\n",
       "0  A thief who steals corporate secrets through t...   \n",
       "1  With the world now aware of his identity as Ir...   \n",
       "\n",
       "                    language                        country  ...    boxoffice  \\\n",
       "0  English, Japanese, French  United Kingdom, United States  ...  292576195.0   \n",
       "1   English, French, Russian                  United States  ...  312433331.0   \n",
       "\n",
       "   response   genre               star       budget        gross  year  \\\n",
       "0      True  Action  Leonardo DiCaprio  160000000.0  836836967.0  2010   \n",
       "1      True  Action  Robert Downey Jr.  200000000.0  623933331.0  2010   \n",
       "\n",
       "  internet_movie_database_rating rotten_tomato_rating  metacritic_rating  \n",
       "0                            8.8                 87.0               74.0  \n",
       "1                            7.0                 72.0               57.0  \n",
       "\n",
       "[2 rows x 25 columns]"
      ]
     },
     "execution_count": 341,
     "metadata": {},
     "output_type": "execute_result"
    }
   ],
   "source": [
    "df.head(2)"
   ]
  },
  {
   "cell_type": "code",
   "execution_count": 342,
   "metadata": {},
   "outputs": [
    {
     "name": "stdout",
     "output_type": "stream",
     "text": [
      "<class 'pandas.core.frame.DataFrame'>\n",
      "RangeIndex: 1774 entries, 0 to 1773\n",
      "Data columns (total 25 columns):\n",
      " #   Column                          Non-Null Count  Dtype  \n",
      "---  ------                          --------------  -----  \n",
      " 0   title                           1774 non-null   object \n",
      " 1   rated                           1753 non-null   object \n",
      " 2   released                        1774 non-null   object \n",
      " 3   runtime                         1774 non-null   int64  \n",
      " 4   director                        1766 non-null   object \n",
      " 5   writer                          1771 non-null   object \n",
      " 6   actors                          1774 non-null   object \n",
      " 7   plot                            1774 non-null   object \n",
      " 8   language                        1771 non-null   object \n",
      " 9   country                         1773 non-null   object \n",
      " 10  awards                          1654 non-null   object \n",
      " 11  metascore                       1774 non-null   float64\n",
      " 12  imdbrating                      1774 non-null   float64\n",
      " 13  imdbvotes                       1774 non-null   int64  \n",
      " 14  dvd                             1736 non-null   object \n",
      " 15  boxoffice                       1774 non-null   float64\n",
      " 16  response                        1774 non-null   bool   \n",
      " 17  genre                           1774 non-null   object \n",
      " 18  star                            1774 non-null   object \n",
      " 19  budget                          1774 non-null   float64\n",
      " 20  gross                           1774 non-null   float64\n",
      " 21  year                            1774 non-null   int64  \n",
      " 22  internet_movie_database_rating  1774 non-null   float64\n",
      " 23  rotten_tomato_rating            1774 non-null   float64\n",
      " 24  metacritic_rating               1774 non-null   float64\n",
      "dtypes: bool(1), float64(8), int64(3), object(13)\n",
      "memory usage: 334.5+ KB\n"
     ]
    }
   ],
   "source": [
    "df.info()"
   ]
  },
  {
   "cell_type": "code",
   "execution_count": 343,
   "metadata": {},
   "outputs": [],
   "source": [
    "df[\"rated\"].fillna(\"NA\", inplace = True)\n",
    "df[\"director\"].fillna(\"NA\", inplace = True)\n",
    "df[\"writer\"].fillna(\"NA\", inplace = True)\n",
    "df[\"language\"].fillna(\"NA\", inplace = True)\n",
    "df[\"country\"].fillna(\"NA\", inplace = True)\n",
    "df[\"awards\"].fillna(\"NA\", inplace = True)\n",
    "df[\"metascore\"].fillna(0, inplace = True)\n",
    "df[\"dvd\"].fillna(\"NA\", inplace = True)\n",
    "df[\"boxoffice\"].fillna(0, inplace = True)\n",
    "df[\"budget\"].fillna(0, inplace = True)\n",
    "df[\"gross\"].fillna(0, inplace = True)\n"
   ]
  },
  {
   "cell_type": "code",
   "execution_count": 344,
   "metadata": {},
   "outputs": [
    {
     "data": {
      "text/plain": [
       "title                             0\n",
       "rated                             0\n",
       "released                          0\n",
       "runtime                           0\n",
       "director                          0\n",
       "writer                            0\n",
       "actors                            0\n",
       "plot                              0\n",
       "language                          0\n",
       "country                           0\n",
       "awards                            0\n",
       "metascore                         0\n",
       "imdbrating                        0\n",
       "imdbvotes                         0\n",
       "dvd                               0\n",
       "boxoffice                         0\n",
       "response                          0\n",
       "genre                             0\n",
       "star                              0\n",
       "budget                            0\n",
       "gross                             0\n",
       "year                              0\n",
       "internet_movie_database_rating    0\n",
       "rotten_tomato_rating              0\n",
       "metacritic_rating                 0\n",
       "dtype: int64"
      ]
     },
     "execution_count": 344,
     "metadata": {},
     "output_type": "execute_result"
    }
   ],
   "source": [
    "df.isnull().sum()"
   ]
  },
  {
   "cell_type": "markdown",
   "metadata": {},
   "source": [
    "## Data Preprocessing for model"
   ]
  },
  {
   "cell_type": "markdown",
   "metadata": {},
   "source": [
    "### Adding label column based on IMDB Rating (rating(<5): label 0,rating(>=5 and <8):label1,rating(>8):label2"
   ]
  },
  {
   "cell_type": "code",
   "execution_count": 345,
   "metadata": {},
   "outputs": [],
   "source": [
    "df['label']=''\n",
    "for index, row in df.iterrows():\n",
    "    if (row['imdbrating']<5):\n",
    "        df.loc[index, 'label']=0\n",
    "    elif (row['imdbrating']>=5)&(row['imdbrating']<=7):\n",
    "        df.loc[index, 'label']=1\n",
    "    elif (row['imdbrating']>7):\n",
    "        df.loc[index, 'label']=2"
   ]
  },
  {
   "cell_type": "code",
   "execution_count": 346,
   "metadata": {},
   "outputs": [
    {
     "data": {
      "text/plain": [
       "1    1186\n",
       "2     510\n",
       "0      78\n",
       "Name: label, dtype: int64"
      ]
     },
     "execution_count": 346,
     "metadata": {},
     "output_type": "execute_result"
    }
   ],
   "source": [
    "df['label'].value_counts()"
   ]
  },
  {
   "cell_type": "code",
   "execution_count": 347,
   "metadata": {},
   "outputs": [
    {
     "data": {
      "text/plain": [
       "dtype('O')"
      ]
     },
     "execution_count": 347,
     "metadata": {},
     "output_type": "execute_result"
    }
   ],
   "source": [
    "df['label'].dtype"
   ]
  },
  {
   "cell_type": "code",
   "execution_count": 348,
   "metadata": {},
   "outputs": [],
   "source": [
    "df['label']=pd.to_numeric(df['label'])\n",
    "df['label'].fillna(0,inplace=True)\n",
    "df['label']=df['label'].astype('int')"
   ]
  },
  {
   "cell_type": "code",
   "execution_count": 349,
   "metadata": {},
   "outputs": [
    {
     "data": {
      "text/plain": [
       "0       2\n",
       "1       1\n",
       "2       2\n",
       "3       2\n",
       "4       1\n",
       "       ..\n",
       "1769    1\n",
       "1770    0\n",
       "1771    0\n",
       "1772    0\n",
       "1773    1\n",
       "Name: label, Length: 1774, dtype: int64"
      ]
     },
     "execution_count": 349,
     "metadata": {},
     "output_type": "execute_result"
    }
   ],
   "source": [
    "df['label']"
   ]
  },
  {
   "cell_type": "markdown",
   "metadata": {},
   "source": [
    "### Dropping Columns not required for the model"
   ]
  },
  {
   "cell_type": "code",
   "execution_count": 350,
   "metadata": {},
   "outputs": [
    {
     "data": {
      "text/plain": [
       "Index(['rated', 'runtime', 'director', 'writer', 'actors', 'language',\n",
       "       'country', 'genre', 'star', 'budget', 'label'],\n",
       "      dtype='object')"
      ]
     },
     "execution_count": 350,
     "metadata": {},
     "output_type": "execute_result"
    }
   ],
   "source": [
    "df=df.drop(['title','released','plot','awards','metascore','imdbrating' ,'imdbvotes','dvd',\n",
    "           'boxoffice','response','gross', 'year','internet_movie_database_rating',\n",
    "           'rotten_tomato_rating','metacritic_rating'],axis=1)                                                 \n",
    "df.columns"
   ]
  },
  {
   "cell_type": "markdown",
   "metadata": {},
   "source": [
    "### Create Function for one hot encoding of writer, actors,language, country columns"
   ]
  },
  {
   "cell_type": "code",
   "execution_count": 351,
   "metadata": {},
   "outputs": [],
   "source": [
    "def one_hot_encode(column,new_col_names):\n",
    "    \n",
    "    for index, row in df.iterrows():\n",
    "        item_names=str(row[column]).split(',')\n",
    "        for y in item_names:\n",
    "            y=y.strip()\n",
    "            if y in new_col_names:\n",
    "                df.loc[index, y]=1\n",
    "        "
   ]
  },
  {
   "cell_type": "markdown",
   "metadata": {},
   "source": [
    "### One Hot Endcoding: Country"
   ]
  },
  {
   "cell_type": "code",
   "execution_count": 352,
   "metadata": {},
   "outputs": [],
   "source": [
    "from collections import Counter\n",
    "# Find most common country names\n",
    "countries=df['country'].to_list()\n",
    "\n",
    "country_list=[]\n",
    "\n",
    "for x in countries:\n",
    "    \n",
    "        country_array = str(x).split(',')\n",
    "        for y in country_array:\n",
    "            y=y.strip()\n",
    "            country_list.append(y)\n",
    "most_common=Counter(country_list).most_common(10)\n",
    "new_col_names=[]\n",
    "for item in most_common:\n",
    "    new_col_names.append(item[0])\n",
    "    df[item[0]]=\"\"\n",
    "one_hot_encode('country',new_col_names)"
   ]
  },
  {
   "cell_type": "code",
   "execution_count": 353,
   "metadata": {},
   "outputs": [
    {
     "data": {
      "text/plain": [
       "21"
      ]
     },
     "execution_count": 353,
     "metadata": {},
     "output_type": "execute_result"
    }
   ],
   "source": [
    "len(df.columns)"
   ]
  },
  {
   "cell_type": "markdown",
   "metadata": {},
   "source": [
    "### One Hot Encoding : Language"
   ]
  },
  {
   "cell_type": "code",
   "execution_count": 354,
   "metadata": {
    "tags": []
   },
   "outputs": [],
   "source": [
    "languages=df['language'].to_list()\n",
    "\n",
    "language_list=[]\n",
    "\n",
    "for x in languages:\n",
    "    \n",
    "        language_array = str(x).split(',')\n",
    "        for y in language_array:\n",
    "            y=y.strip()\n",
    "            language_list.append(y)\n",
    "most_common=Counter(language_list).most_common(15)\n",
    "new_col_names=[]\n",
    "for item in most_common:\n",
    "    new_col_names.append(item[0])\n",
    "    df[item[0]]=\"\"\n",
    "one_hot_encode('language',new_col_names)\n"
   ]
  },
  {
   "cell_type": "code",
   "execution_count": 355,
   "metadata": {},
   "outputs": [
    {
     "data": {
      "text/plain": [
       "36"
      ]
     },
     "execution_count": 355,
     "metadata": {},
     "output_type": "execute_result"
    }
   ],
   "source": [
    "len(df.columns)"
   ]
  },
  {
   "cell_type": "markdown",
   "metadata": {},
   "source": [
    "### One Hot Encoding :writer"
   ]
  },
  {
   "cell_type": "code",
   "execution_count": 356,
   "metadata": {},
   "outputs": [],
   "source": [
    "writers=df['writer'].to_list()\n",
    "\n",
    "writer_list=[]\n",
    "\n",
    "for x in writers:\n",
    "    \n",
    "        writer_array = str(x).split(',')\n",
    "        for y in writer_array:\n",
    "            y=y.strip()\n",
    "            writer_list.append(y)\n",
    "most_common=Counter(writer_list).most_common(50)\n",
    "new_col_names=[]\n",
    "for item in most_common:\n",
    "    new_col_names.append(item[0])\n",
    "    df[item[0]]=\"\"\n",
    "one_hot_encode('writer',new_col_names)"
   ]
  },
  {
   "cell_type": "code",
   "execution_count": 357,
   "metadata": {},
   "outputs": [
    {
     "data": {
      "text/plain": [
       "86"
      ]
     },
     "execution_count": 357,
     "metadata": {},
     "output_type": "execute_result"
    }
   ],
   "source": [
    "len(df.columns)"
   ]
  },
  {
   "cell_type": "markdown",
   "metadata": {},
   "source": [
    "### One Hot Encoding :actors"
   ]
  },
  {
   "cell_type": "code",
   "execution_count": 358,
   "metadata": {},
   "outputs": [],
   "source": [
    "actors=df['actors'].to_list()\n",
    "\n",
    "actor_list=[]\n",
    "\n",
    "for x in actors:\n",
    "    \n",
    "        actor_array = str(x).split(',')\n",
    "        for y in actor_array:\n",
    "            y=y.strip()\n",
    "            actor_list.append(y)\n",
    "most_common=Counter(actor_list).most_common(50)\n",
    "new_col_names=[]\n",
    "for item in most_common:\n",
    "    new_col_names.append(item[0])\n",
    "    df[item[0]]=\"\"\n",
    "one_hot_encode('actors',new_col_names)\n",
    "\n"
   ]
  },
  {
   "cell_type": "code",
   "execution_count": 359,
   "metadata": {},
   "outputs": [
    {
     "data": {
      "text/plain": [
       "136"
      ]
     },
     "execution_count": 359,
     "metadata": {},
     "output_type": "execute_result"
    }
   ],
   "source": [
    "len(df.columns)"
   ]
  },
  {
   "cell_type": "code",
   "execution_count": 360,
   "metadata": {},
   "outputs": [],
   "source": [
    "df=df.drop(['country','language','writer','actors'],axis=1)"
   ]
  },
  {
   "cell_type": "code",
   "execution_count": 361,
   "metadata": {},
   "outputs": [
    {
     "data": {
      "text/plain": [
       "Index(['rated', 'runtime', 'director', 'genre', 'star', 'budget', 'label',\n",
       "       'United States', 'United Kingdom', 'France',\n",
       "       ...\n",
       "       'Jessica Chastain', 'Chris Evans', 'Mark Ruffalo', 'Nicolas Cage',\n",
       "       'Chloë Grace Moretz', 'Johnny Depp', 'Kristen Stewart', 'Amy Adams',\n",
       "       'Robert De Niro', 'Chris Pine'],\n",
       "      dtype='object', length=132)"
      ]
     },
     "execution_count": 361,
     "metadata": {},
     "output_type": "execute_result"
    }
   ],
   "source": [
    "df.columns"
   ]
  },
  {
   "cell_type": "code",
   "execution_count": 362,
   "metadata": {},
   "outputs": [
    {
     "data": {
      "text/plain": [
       "(1774, 132)"
      ]
     },
     "execution_count": 362,
     "metadata": {},
     "output_type": "execute_result"
    }
   ],
   "source": [
    "df.shape"
   ]
  },
  {
   "cell_type": "code",
   "execution_count": 363,
   "metadata": {
    "tags": []
   },
   "outputs": [
    {
     "data": {
      "text/html": [
       "<div>\n",
       "<style scoped>\n",
       "    .dataframe tbody tr th:only-of-type {\n",
       "        vertical-align: middle;\n",
       "    }\n",
       "\n",
       "    .dataframe tbody tr th {\n",
       "        vertical-align: top;\n",
       "    }\n",
       "\n",
       "    .dataframe thead th {\n",
       "        text-align: right;\n",
       "    }\n",
       "</style>\n",
       "<table border=\"1\" class=\"dataframe\">\n",
       "  <thead>\n",
       "    <tr style=\"text-align: right;\">\n",
       "      <th></th>\n",
       "      <th>rated</th>\n",
       "      <th>runtime</th>\n",
       "      <th>director</th>\n",
       "      <th>genre</th>\n",
       "      <th>star</th>\n",
       "      <th>budget</th>\n",
       "      <th>label</th>\n",
       "      <th>United States</th>\n",
       "      <th>United Kingdom</th>\n",
       "      <th>France</th>\n",
       "      <th>...</th>\n",
       "      <th>Jessica Chastain</th>\n",
       "      <th>Chris Evans</th>\n",
       "      <th>Mark Ruffalo</th>\n",
       "      <th>Nicolas Cage</th>\n",
       "      <th>Chloë Grace Moretz</th>\n",
       "      <th>Johnny Depp</th>\n",
       "      <th>Kristen Stewart</th>\n",
       "      <th>Amy Adams</th>\n",
       "      <th>Robert De Niro</th>\n",
       "      <th>Chris Pine</th>\n",
       "    </tr>\n",
       "  </thead>\n",
       "  <tbody>\n",
       "    <tr>\n",
       "      <th>0</th>\n",
       "      <td>PG-13</td>\n",
       "      <td>148</td>\n",
       "      <td>Christopher Nolan</td>\n",
       "      <td>Action</td>\n",
       "      <td>Leonardo DiCaprio</td>\n",
       "      <td>160000000.0</td>\n",
       "      <td>2</td>\n",
       "      <td>1</td>\n",
       "      <td>1</td>\n",
       "      <td></td>\n",
       "      <td>...</td>\n",
       "      <td></td>\n",
       "      <td></td>\n",
       "      <td></td>\n",
       "      <td></td>\n",
       "      <td></td>\n",
       "      <td></td>\n",
       "      <td></td>\n",
       "      <td></td>\n",
       "      <td></td>\n",
       "      <td></td>\n",
       "    </tr>\n",
       "    <tr>\n",
       "      <th>1</th>\n",
       "      <td>PG-13</td>\n",
       "      <td>124</td>\n",
       "      <td>Jon Favreau</td>\n",
       "      <td>Action</td>\n",
       "      <td>Robert Downey Jr.</td>\n",
       "      <td>200000000.0</td>\n",
       "      <td>1</td>\n",
       "      <td>1</td>\n",
       "      <td></td>\n",
       "      <td></td>\n",
       "      <td>...</td>\n",
       "      <td></td>\n",
       "      <td></td>\n",
       "      <td></td>\n",
       "      <td></td>\n",
       "      <td></td>\n",
       "      <td></td>\n",
       "      <td></td>\n",
       "      <td></td>\n",
       "      <td></td>\n",
       "      <td></td>\n",
       "    </tr>\n",
       "    <tr>\n",
       "      <th>2</th>\n",
       "      <td>R</td>\n",
       "      <td>138</td>\n",
       "      <td>Martin Scorsese</td>\n",
       "      <td>Mystery</td>\n",
       "      <td>Leonardo DiCaprio</td>\n",
       "      <td>80000000.0</td>\n",
       "      <td>2</td>\n",
       "      <td>1</td>\n",
       "      <td></td>\n",
       "      <td></td>\n",
       "      <td>...</td>\n",
       "      <td></td>\n",
       "      <td></td>\n",
       "      <td>1</td>\n",
       "      <td></td>\n",
       "      <td></td>\n",
       "      <td></td>\n",
       "      <td></td>\n",
       "      <td></td>\n",
       "      <td></td>\n",
       "      <td></td>\n",
       "    </tr>\n",
       "    <tr>\n",
       "      <th>3</th>\n",
       "      <td>PG-13</td>\n",
       "      <td>112</td>\n",
       "      <td>Edgar Wright</td>\n",
       "      <td>Action</td>\n",
       "      <td>Michael Cera</td>\n",
       "      <td>60000000.0</td>\n",
       "      <td>2</td>\n",
       "      <td>1</td>\n",
       "      <td>1</td>\n",
       "      <td></td>\n",
       "      <td>...</td>\n",
       "      <td></td>\n",
       "      <td></td>\n",
       "      <td></td>\n",
       "      <td></td>\n",
       "      <td></td>\n",
       "      <td></td>\n",
       "      <td></td>\n",
       "      <td></td>\n",
       "      <td></td>\n",
       "      <td></td>\n",
       "    </tr>\n",
       "    <tr>\n",
       "      <th>4</th>\n",
       "      <td>PG-13</td>\n",
       "      <td>102</td>\n",
       "      <td>Dennis Dugan</td>\n",
       "      <td>Comedy</td>\n",
       "      <td>Adam Sandler</td>\n",
       "      <td>80000000.0</td>\n",
       "      <td>1</td>\n",
       "      <td>1</td>\n",
       "      <td></td>\n",
       "      <td></td>\n",
       "      <td>...</td>\n",
       "      <td></td>\n",
       "      <td></td>\n",
       "      <td></td>\n",
       "      <td></td>\n",
       "      <td></td>\n",
       "      <td></td>\n",
       "      <td></td>\n",
       "      <td></td>\n",
       "      <td></td>\n",
       "      <td></td>\n",
       "    </tr>\n",
       "  </tbody>\n",
       "</table>\n",
       "<p>5 rows × 132 columns</p>\n",
       "</div>"
      ],
      "text/plain": [
       "   rated  runtime           director    genre               star       budget  \\\n",
       "0  PG-13      148  Christopher Nolan   Action  Leonardo DiCaprio  160000000.0   \n",
       "1  PG-13      124        Jon Favreau   Action  Robert Downey Jr.  200000000.0   \n",
       "2      R      138    Martin Scorsese  Mystery  Leonardo DiCaprio   80000000.0   \n",
       "3  PG-13      112       Edgar Wright   Action       Michael Cera   60000000.0   \n",
       "4  PG-13      102       Dennis Dugan   Comedy       Adam Sandler   80000000.0   \n",
       "\n",
       "   label United States United Kingdom France  ... Jessica Chastain  \\\n",
       "0      2             1              1         ...                    \n",
       "1      1             1                        ...                    \n",
       "2      2             1                        ...                    \n",
       "3      2             1              1         ...                    \n",
       "4      1             1                        ...                    \n",
       "\n",
       "  Chris Evans Mark Ruffalo Nicolas Cage Chloë Grace Moretz Johnny Depp  \\\n",
       "0                                                                        \n",
       "1                                                                        \n",
       "2                        1                                               \n",
       "3                                                                        \n",
       "4                                                                        \n",
       "\n",
       "  Kristen Stewart Amy Adams Robert De Niro Chris Pine  \n",
       "0                                                      \n",
       "1                                                      \n",
       "2                                                      \n",
       "3                                                      \n",
       "4                                                      \n",
       "\n",
       "[5 rows x 132 columns]"
      ]
     },
     "execution_count": 363,
     "metadata": {},
     "output_type": "execute_result"
    }
   ],
   "source": [
    "df.head(5)"
   ]
  },
  {
   "cell_type": "code",
   "execution_count": 364,
   "metadata": {},
   "outputs": [],
   "source": [
    "df.fillna(0,inplace=True)\n"
   ]
  },
  {
   "cell_type": "code",
   "execution_count": 365,
   "metadata": {},
   "outputs": [
    {
     "data": {
      "text/plain": [
       "rated              0\n",
       "runtime            0\n",
       "director           0\n",
       "genre              0\n",
       "star               0\n",
       "                  ..\n",
       "Johnny Depp        0\n",
       "Kristen Stewart    0\n",
       "Amy Adams          0\n",
       "Robert De Niro     0\n",
       "Chris Pine         0\n",
       "Length: 132, dtype: int64"
      ]
     },
     "execution_count": 365,
     "metadata": {},
     "output_type": "execute_result"
    }
   ],
   "source": [
    "df.isnull().sum()"
   ]
  },
  {
   "cell_type": "code",
   "execution_count": 366,
   "metadata": {},
   "outputs": [
    {
     "name": "stdout",
     "output_type": "stream",
     "text": [
      "<class 'pandas.core.frame.DataFrame'>\n",
      "RangeIndex: 1774 entries, 0 to 1773\n",
      "Columns: 132 entries, rated to Chris Pine\n",
      "dtypes: float64(1), int64(2), object(129)\n",
      "memory usage: 1.8+ MB\n"
     ]
    }
   ],
   "source": [
    "df.info()"
   ]
  },
  {
   "cell_type": "code",
   "execution_count": 367,
   "metadata": {},
   "outputs": [],
   "source": [
    "#df.to_csv('one_hot_encode.csv',index=False)"
   ]
  },
  {
   "cell_type": "code",
   "execution_count": 368,
   "metadata": {},
   "outputs": [],
   "source": [
    "from sklearn.model_selection import train_test_split, GridSearchCV\n",
    "from sklearn.preprocessing import StandardScaler,MinMaxScaler\n",
    "from sklearn.ensemble import RandomForestClassifier\n"
   ]
  },
  {
   "cell_type": "markdown",
   "metadata": {},
   "source": [
    "### Reducing type of rated by merging two or more types in one"
   ]
  },
  {
   "cell_type": "code",
   "execution_count": 369,
   "metadata": {},
   "outputs": [],
   "source": [
    "df.loc[df['rated']=='TV-MA', 'rated'] = 'R'\n",
    "df.loc[df['rated']=='NC-17', 'rated'] = 'R'\n",
    "df.loc[df['rated']=='TV-14', 'rated'] = 'PG-13'\n",
    "df.loc[df['rated']=='TV-PG', 'rated'] = 'PG'\n",
    "df.loc[df['rated']=='Unrated', 'rated'] = 'NA'\n",
    "df.loc[df['rated']=='Not Rated', 'rated'] = 'NA'"
   ]
  },
  {
   "cell_type": "code",
   "execution_count": 370,
   "metadata": {},
   "outputs": [
    {
     "data": {
      "text/plain": [
       "R        821\n",
       "PG-13    602\n",
       "PG       198\n",
       "NA       142\n",
       "G         11\n",
       "Name: rated, dtype: int64"
      ]
     },
     "execution_count": 370,
     "metadata": {},
     "output_type": "execute_result"
    }
   ],
   "source": [
    "df['rated'].value_counts()"
   ]
  },
  {
   "cell_type": "markdown",
   "metadata": {},
   "source": [
    "### One Hot Encoding rated Column"
   ]
  },
  {
   "cell_type": "code",
   "execution_count": 372,
   "metadata": {},
   "outputs": [],
   "source": [
    "new_col_names=df['rated'].unique()\n",
    "\n",
    "for rating in new_col_names:\n",
    "    df[rating]=\"\"\n",
    "one_hot_encode('rated',new_col_names)\n"
   ]
  },
  {
   "cell_type": "code",
   "execution_count": 373,
   "metadata": {
    "tags": []
   },
   "outputs": [
    {
     "data": {
      "text/plain": [
       "137"
      ]
     },
     "execution_count": 373,
     "metadata": {},
     "output_type": "execute_result"
    }
   ],
   "source": [
    "len(df.columns)"
   ]
  },
  {
   "cell_type": "code",
   "execution_count": 374,
   "metadata": {},
   "outputs": [],
   "source": [
    "df=df.drop('rated',axis=1)"
   ]
  },
  {
   "cell_type": "code",
   "execution_count": 375,
   "metadata": {},
   "outputs": [
    {
     "name": "stdout",
     "output_type": "stream",
     "text": [
      "<class 'pandas.core.frame.DataFrame'>\n",
      "RangeIndex: 1774 entries, 0 to 1773\n",
      "Columns: 136 entries, runtime to G\n",
      "dtypes: float64(1), int64(2), object(133)\n",
      "memory usage: 1.8+ MB\n"
     ]
    }
   ],
   "source": [
    "df.info()"
   ]
  },
  {
   "cell_type": "markdown",
   "metadata": {},
   "source": [
    "### One Hot Encoding Star Columns"
   ]
  },
  {
   "cell_type": "code",
   "execution_count": 376,
   "metadata": {},
   "outputs": [],
   "source": [
    "stars = df.star.value_counts()\n",
    "# stars_filter = stars[stars< 2]\n"
   ]
  },
  {
   "cell_type": "code",
   "execution_count": 377,
   "metadata": {},
   "outputs": [
    {
     "data": {
      "text/plain": [
       "other                  1197\n",
       "Mark Wahlberg            13\n",
       "Steve Carell             12\n",
       "Liam Neeson              12\n",
       "Matthew McConaughey      12\n",
       "                       ... \n",
       "Jennifer Aniston          5\n",
       "Daniel Craig              5\n",
       "Saoirse Ronan             5\n",
       "Kevin Hart                5\n",
       "Daniel Radcliffe          5\n",
       "Name: star, Length: 82, dtype: int64"
      ]
     },
     "execution_count": 377,
     "metadata": {},
     "output_type": "execute_result"
    }
   ],
   "source": [
    "stars_replace = stars[stars<5].index.to_list()\n",
    "for star in stars_replace:\n",
    "      df['star'] =  df['star'].replace(star,'other')\n",
    "\n",
    "df['star'].value_counts() "
   ]
  },
  {
   "cell_type": "code",
   "execution_count": 378,
   "metadata": {
    "tags": []
   },
   "outputs": [
    {
     "data": {
      "text/plain": [
       "82"
      ]
     },
     "execution_count": 378,
     "metadata": {},
     "output_type": "execute_result"
    }
   ],
   "source": [
    "len(df['star'].unique())"
   ]
  },
  {
   "cell_type": "code",
   "execution_count": 379,
   "metadata": {},
   "outputs": [],
   "source": [
    "star_dummies=pd.get_dummies(df['star'])"
   ]
  },
  {
   "cell_type": "code",
   "execution_count": 380,
   "metadata": {},
   "outputs": [
    {
     "data": {
      "text/html": [
       "<div>\n",
       "<style scoped>\n",
       "    .dataframe tbody tr th:only-of-type {\n",
       "        vertical-align: middle;\n",
       "    }\n",
       "\n",
       "    .dataframe tbody tr th {\n",
       "        vertical-align: top;\n",
       "    }\n",
       "\n",
       "    .dataframe thead th {\n",
       "        text-align: right;\n",
       "    }\n",
       "</style>\n",
       "<table border=\"1\" class=\"dataframe\">\n",
       "  <thead>\n",
       "    <tr style=\"text-align: right;\">\n",
       "      <th></th>\n",
       "      <th>Aaron Taylor-Johnson</th>\n",
       "      <th>Adam Sandler</th>\n",
       "      <th>Alicia Vikander</th>\n",
       "      <th>Andrew Garfield</th>\n",
       "      <th>Anna Kendrick</th>\n",
       "      <th>Ben Affleck</th>\n",
       "      <th>Ben Stiller</th>\n",
       "      <th>Brad Pitt</th>\n",
       "      <th>Bradley Cooper</th>\n",
       "      <th>Channing Tatum</th>\n",
       "      <th>...</th>\n",
       "      <th>Sylvester Stallone</th>\n",
       "      <th>Taron Egerton</th>\n",
       "      <th>Tom Cruise</th>\n",
       "      <th>Tom Hanks</th>\n",
       "      <th>Tom Hardy</th>\n",
       "      <th>Vin Diesel</th>\n",
       "      <th>Will Ferrell</th>\n",
       "      <th>Will Smith</th>\n",
       "      <th>Zac Efron</th>\n",
       "      <th>other</th>\n",
       "    </tr>\n",
       "  </thead>\n",
       "  <tbody>\n",
       "    <tr>\n",
       "      <th>0</th>\n",
       "      <td>0</td>\n",
       "      <td>0</td>\n",
       "      <td>0</td>\n",
       "      <td>0</td>\n",
       "      <td>0</td>\n",
       "      <td>0</td>\n",
       "      <td>0</td>\n",
       "      <td>0</td>\n",
       "      <td>0</td>\n",
       "      <td>0</td>\n",
       "      <td>...</td>\n",
       "      <td>0</td>\n",
       "      <td>0</td>\n",
       "      <td>0</td>\n",
       "      <td>0</td>\n",
       "      <td>0</td>\n",
       "      <td>0</td>\n",
       "      <td>0</td>\n",
       "      <td>0</td>\n",
       "      <td>0</td>\n",
       "      <td>0</td>\n",
       "    </tr>\n",
       "    <tr>\n",
       "      <th>1</th>\n",
       "      <td>0</td>\n",
       "      <td>0</td>\n",
       "      <td>0</td>\n",
       "      <td>0</td>\n",
       "      <td>0</td>\n",
       "      <td>0</td>\n",
       "      <td>0</td>\n",
       "      <td>0</td>\n",
       "      <td>0</td>\n",
       "      <td>0</td>\n",
       "      <td>...</td>\n",
       "      <td>0</td>\n",
       "      <td>0</td>\n",
       "      <td>0</td>\n",
       "      <td>0</td>\n",
       "      <td>0</td>\n",
       "      <td>0</td>\n",
       "      <td>0</td>\n",
       "      <td>0</td>\n",
       "      <td>0</td>\n",
       "      <td>0</td>\n",
       "    </tr>\n",
       "    <tr>\n",
       "      <th>2</th>\n",
       "      <td>0</td>\n",
       "      <td>0</td>\n",
       "      <td>0</td>\n",
       "      <td>0</td>\n",
       "      <td>0</td>\n",
       "      <td>0</td>\n",
       "      <td>0</td>\n",
       "      <td>0</td>\n",
       "      <td>0</td>\n",
       "      <td>0</td>\n",
       "      <td>...</td>\n",
       "      <td>0</td>\n",
       "      <td>0</td>\n",
       "      <td>0</td>\n",
       "      <td>0</td>\n",
       "      <td>0</td>\n",
       "      <td>0</td>\n",
       "      <td>0</td>\n",
       "      <td>0</td>\n",
       "      <td>0</td>\n",
       "      <td>0</td>\n",
       "    </tr>\n",
       "    <tr>\n",
       "      <th>3</th>\n",
       "      <td>0</td>\n",
       "      <td>0</td>\n",
       "      <td>0</td>\n",
       "      <td>0</td>\n",
       "      <td>0</td>\n",
       "      <td>0</td>\n",
       "      <td>0</td>\n",
       "      <td>0</td>\n",
       "      <td>0</td>\n",
       "      <td>0</td>\n",
       "      <td>...</td>\n",
       "      <td>0</td>\n",
       "      <td>0</td>\n",
       "      <td>0</td>\n",
       "      <td>0</td>\n",
       "      <td>0</td>\n",
       "      <td>0</td>\n",
       "      <td>0</td>\n",
       "      <td>0</td>\n",
       "      <td>0</td>\n",
       "      <td>1</td>\n",
       "    </tr>\n",
       "    <tr>\n",
       "      <th>4</th>\n",
       "      <td>0</td>\n",
       "      <td>1</td>\n",
       "      <td>0</td>\n",
       "      <td>0</td>\n",
       "      <td>0</td>\n",
       "      <td>0</td>\n",
       "      <td>0</td>\n",
       "      <td>0</td>\n",
       "      <td>0</td>\n",
       "      <td>0</td>\n",
       "      <td>...</td>\n",
       "      <td>0</td>\n",
       "      <td>0</td>\n",
       "      <td>0</td>\n",
       "      <td>0</td>\n",
       "      <td>0</td>\n",
       "      <td>0</td>\n",
       "      <td>0</td>\n",
       "      <td>0</td>\n",
       "      <td>0</td>\n",
       "      <td>0</td>\n",
       "    </tr>\n",
       "    <tr>\n",
       "      <th>...</th>\n",
       "      <td>...</td>\n",
       "      <td>...</td>\n",
       "      <td>...</td>\n",
       "      <td>...</td>\n",
       "      <td>...</td>\n",
       "      <td>...</td>\n",
       "      <td>...</td>\n",
       "      <td>...</td>\n",
       "      <td>...</td>\n",
       "      <td>...</td>\n",
       "      <td>...</td>\n",
       "      <td>...</td>\n",
       "      <td>...</td>\n",
       "      <td>...</td>\n",
       "      <td>...</td>\n",
       "      <td>...</td>\n",
       "      <td>...</td>\n",
       "      <td>...</td>\n",
       "      <td>...</td>\n",
       "      <td>...</td>\n",
       "      <td>...</td>\n",
       "    </tr>\n",
       "    <tr>\n",
       "      <th>1769</th>\n",
       "      <td>0</td>\n",
       "      <td>0</td>\n",
       "      <td>0</td>\n",
       "      <td>0</td>\n",
       "      <td>0</td>\n",
       "      <td>0</td>\n",
       "      <td>0</td>\n",
       "      <td>0</td>\n",
       "      <td>0</td>\n",
       "      <td>0</td>\n",
       "      <td>...</td>\n",
       "      <td>0</td>\n",
       "      <td>0</td>\n",
       "      <td>0</td>\n",
       "      <td>0</td>\n",
       "      <td>0</td>\n",
       "      <td>0</td>\n",
       "      <td>0</td>\n",
       "      <td>0</td>\n",
       "      <td>0</td>\n",
       "      <td>1</td>\n",
       "    </tr>\n",
       "    <tr>\n",
       "      <th>1770</th>\n",
       "      <td>0</td>\n",
       "      <td>0</td>\n",
       "      <td>0</td>\n",
       "      <td>0</td>\n",
       "      <td>0</td>\n",
       "      <td>0</td>\n",
       "      <td>0</td>\n",
       "      <td>0</td>\n",
       "      <td>0</td>\n",
       "      <td>0</td>\n",
       "      <td>...</td>\n",
       "      <td>0</td>\n",
       "      <td>0</td>\n",
       "      <td>0</td>\n",
       "      <td>0</td>\n",
       "      <td>0</td>\n",
       "      <td>0</td>\n",
       "      <td>0</td>\n",
       "      <td>0</td>\n",
       "      <td>0</td>\n",
       "      <td>1</td>\n",
       "    </tr>\n",
       "    <tr>\n",
       "      <th>1771</th>\n",
       "      <td>0</td>\n",
       "      <td>0</td>\n",
       "      <td>0</td>\n",
       "      <td>0</td>\n",
       "      <td>0</td>\n",
       "      <td>0</td>\n",
       "      <td>0</td>\n",
       "      <td>0</td>\n",
       "      <td>0</td>\n",
       "      <td>0</td>\n",
       "      <td>...</td>\n",
       "      <td>0</td>\n",
       "      <td>0</td>\n",
       "      <td>0</td>\n",
       "      <td>0</td>\n",
       "      <td>0</td>\n",
       "      <td>0</td>\n",
       "      <td>0</td>\n",
       "      <td>0</td>\n",
       "      <td>0</td>\n",
       "      <td>1</td>\n",
       "    </tr>\n",
       "    <tr>\n",
       "      <th>1772</th>\n",
       "      <td>0</td>\n",
       "      <td>0</td>\n",
       "      <td>0</td>\n",
       "      <td>0</td>\n",
       "      <td>0</td>\n",
       "      <td>0</td>\n",
       "      <td>0</td>\n",
       "      <td>0</td>\n",
       "      <td>0</td>\n",
       "      <td>0</td>\n",
       "      <td>...</td>\n",
       "      <td>0</td>\n",
       "      <td>0</td>\n",
       "      <td>0</td>\n",
       "      <td>0</td>\n",
       "      <td>0</td>\n",
       "      <td>0</td>\n",
       "      <td>0</td>\n",
       "      <td>0</td>\n",
       "      <td>0</td>\n",
       "      <td>1</td>\n",
       "    </tr>\n",
       "    <tr>\n",
       "      <th>1773</th>\n",
       "      <td>0</td>\n",
       "      <td>0</td>\n",
       "      <td>0</td>\n",
       "      <td>0</td>\n",
       "      <td>0</td>\n",
       "      <td>0</td>\n",
       "      <td>0</td>\n",
       "      <td>0</td>\n",
       "      <td>0</td>\n",
       "      <td>0</td>\n",
       "      <td>...</td>\n",
       "      <td>0</td>\n",
       "      <td>0</td>\n",
       "      <td>0</td>\n",
       "      <td>0</td>\n",
       "      <td>0</td>\n",
       "      <td>0</td>\n",
       "      <td>0</td>\n",
       "      <td>0</td>\n",
       "      <td>0</td>\n",
       "      <td>1</td>\n",
       "    </tr>\n",
       "  </tbody>\n",
       "</table>\n",
       "<p>1774 rows × 82 columns</p>\n",
       "</div>"
      ],
      "text/plain": [
       "      Aaron Taylor-Johnson  Adam Sandler  Alicia Vikander  Andrew Garfield  \\\n",
       "0                        0             0                0                0   \n",
       "1                        0             0                0                0   \n",
       "2                        0             0                0                0   \n",
       "3                        0             0                0                0   \n",
       "4                        0             1                0                0   \n",
       "...                    ...           ...              ...              ...   \n",
       "1769                     0             0                0                0   \n",
       "1770                     0             0                0                0   \n",
       "1771                     0             0                0                0   \n",
       "1772                     0             0                0                0   \n",
       "1773                     0             0                0                0   \n",
       "\n",
       "      Anna Kendrick  Ben Affleck  Ben Stiller  Brad Pitt  Bradley Cooper  \\\n",
       "0                 0            0            0          0               0   \n",
       "1                 0            0            0          0               0   \n",
       "2                 0            0            0          0               0   \n",
       "3                 0            0            0          0               0   \n",
       "4                 0            0            0          0               0   \n",
       "...             ...          ...          ...        ...             ...   \n",
       "1769              0            0            0          0               0   \n",
       "1770              0            0            0          0               0   \n",
       "1771              0            0            0          0               0   \n",
       "1772              0            0            0          0               0   \n",
       "1773              0            0            0          0               0   \n",
       "\n",
       "      Channing Tatum  ...  Sylvester Stallone  Taron Egerton  Tom Cruise  \\\n",
       "0                  0  ...                   0              0           0   \n",
       "1                  0  ...                   0              0           0   \n",
       "2                  0  ...                   0              0           0   \n",
       "3                  0  ...                   0              0           0   \n",
       "4                  0  ...                   0              0           0   \n",
       "...              ...  ...                 ...            ...         ...   \n",
       "1769               0  ...                   0              0           0   \n",
       "1770               0  ...                   0              0           0   \n",
       "1771               0  ...                   0              0           0   \n",
       "1772               0  ...                   0              0           0   \n",
       "1773               0  ...                   0              0           0   \n",
       "\n",
       "      Tom Hanks  Tom Hardy  Vin Diesel  Will Ferrell  Will Smith  Zac Efron  \\\n",
       "0             0          0           0             0           0          0   \n",
       "1             0          0           0             0           0          0   \n",
       "2             0          0           0             0           0          0   \n",
       "3             0          0           0             0           0          0   \n",
       "4             0          0           0             0           0          0   \n",
       "...         ...        ...         ...           ...         ...        ...   \n",
       "1769          0          0           0             0           0          0   \n",
       "1770          0          0           0             0           0          0   \n",
       "1771          0          0           0             0           0          0   \n",
       "1772          0          0           0             0           0          0   \n",
       "1773          0          0           0             0           0          0   \n",
       "\n",
       "      other  \n",
       "0         0  \n",
       "1         0  \n",
       "2         0  \n",
       "3         1  \n",
       "4         0  \n",
       "...     ...  \n",
       "1769      1  \n",
       "1770      1  \n",
       "1771      1  \n",
       "1772      1  \n",
       "1773      1  \n",
       "\n",
       "[1774 rows x 82 columns]"
      ]
     },
     "execution_count": 380,
     "metadata": {},
     "output_type": "execute_result"
    }
   ],
   "source": [
    "star_dummies"
   ]
  },
  {
   "cell_type": "code",
   "execution_count": 381,
   "metadata": {},
   "outputs": [],
   "source": [
    "df=df.drop('star',axis=1)\n",
    "df=pd.merge(df, star_dummies, left_index=True, right_index=True)"
   ]
  },
  {
   "cell_type": "code",
   "execution_count": 382,
   "metadata": {
    "tags": []
   },
   "outputs": [
    {
     "data": {
      "text/plain": [
       "(1774, 217)"
      ]
     },
     "execution_count": 382,
     "metadata": {},
     "output_type": "execute_result"
    }
   ],
   "source": [
    "df.shape"
   ]
  },
  {
   "cell_type": "markdown",
   "metadata": {},
   "source": [
    "### One Hot Encoding Director Column"
   ]
  },
  {
   "cell_type": "code",
   "execution_count": 383,
   "metadata": {},
   "outputs": [],
   "source": [
    "directors=df.director.value_counts()"
   ]
  },
  {
   "cell_type": "code",
   "execution_count": 384,
   "metadata": {},
   "outputs": [
    {
     "data": {
      "text/plain": [
       "other                       1620\n",
       "Ridley Scott                  10\n",
       "NA                             8\n",
       "Robert Schwentke               8\n",
       "Woody Allen                    7\n",
       "Clint Eastwood                 7\n",
       "Steven Spielberg               7\n",
       "Ruben Fleischer                6\n",
       "Antoine Fuqua                  6\n",
       "Joe Wright                     5\n",
       "Peter Berg                     5\n",
       "Shawn Levy                     5\n",
       "Chris Buck, Jennifer Lee       5\n",
       "David Yates                    5\n",
       "Francis Lawrence               5\n",
       "Luc Besson                     5\n",
       "Ron Howard                     5\n",
       "Jonathan Levine                5\n",
       "Doug Liman                     5\n",
       "Paul W.S. Anderson             5\n",
       "Denis Villeneuve               5\n",
       "Steven Soderbergh              5\n",
       "Michael Bay                    5\n",
       "Daniel Espinosa                5\n",
       "Brad Peyton                    5\n",
       "James Wan                      5\n",
       "Tim Burton                     5\n",
       "Nicholas Stoller               5\n",
       "Name: director, dtype: int64"
      ]
     },
     "execution_count": 384,
     "metadata": {},
     "output_type": "execute_result"
    }
   ],
   "source": [
    "directors_replace = directors[directors<5].index.to_list()\n",
    "for director in directors_replace:\n",
    "      df['director'] =  df['director'].replace(director,'other')\n",
    "\n",
    "df['director'].value_counts() "
   ]
  },
  {
   "cell_type": "code",
   "execution_count": 385,
   "metadata": {},
   "outputs": [
    {
     "data": {
      "text/plain": [
       "28"
      ]
     },
     "execution_count": 385,
     "metadata": {},
     "output_type": "execute_result"
    }
   ],
   "source": [
    "len(df['director'].unique())"
   ]
  },
  {
   "cell_type": "code",
   "execution_count": 386,
   "metadata": {},
   "outputs": [],
   "source": [
    "director_dummies=pd.get_dummies(df['director'])"
   ]
  },
  {
   "cell_type": "code",
   "execution_count": 387,
   "metadata": {},
   "outputs": [
    {
     "data": {
      "text/plain": [
       "(1774, 28)"
      ]
     },
     "execution_count": 387,
     "metadata": {},
     "output_type": "execute_result"
    }
   ],
   "source": [
    "director_dummies.shape"
   ]
  },
  {
   "cell_type": "code",
   "execution_count": 388,
   "metadata": {},
   "outputs": [
    {
     "name": "stdout",
     "output_type": "stream",
     "text": [
      "<class 'pandas.core.frame.DataFrame'>\n",
      "RangeIndex: 1774 entries, 0 to 1773\n",
      "Data columns (total 28 columns):\n",
      " #   Column                    Non-Null Count  Dtype\n",
      "---  ------                    --------------  -----\n",
      " 0   Antoine Fuqua             1774 non-null   uint8\n",
      " 1   Brad Peyton               1774 non-null   uint8\n",
      " 2   Chris Buck, Jennifer Lee  1774 non-null   uint8\n",
      " 3   Clint Eastwood            1774 non-null   uint8\n",
      " 4   Daniel Espinosa           1774 non-null   uint8\n",
      " 5   David Yates               1774 non-null   uint8\n",
      " 6   Denis Villeneuve          1774 non-null   uint8\n",
      " 7   Doug Liman                1774 non-null   uint8\n",
      " 8   Francis Lawrence          1774 non-null   uint8\n",
      " 9   James Wan                 1774 non-null   uint8\n",
      " 10  Joe Wright                1774 non-null   uint8\n",
      " 11  Jonathan Levine           1774 non-null   uint8\n",
      " 12  Luc Besson                1774 non-null   uint8\n",
      " 13  Michael Bay               1774 non-null   uint8\n",
      " 14  NA                        1774 non-null   uint8\n",
      " 15  Nicholas Stoller          1774 non-null   uint8\n",
      " 16  Paul W.S. Anderson        1774 non-null   uint8\n",
      " 17  Peter Berg                1774 non-null   uint8\n",
      " 18  Ridley Scott              1774 non-null   uint8\n",
      " 19  Robert Schwentke          1774 non-null   uint8\n",
      " 20  Ron Howard                1774 non-null   uint8\n",
      " 21  Ruben Fleischer           1774 non-null   uint8\n",
      " 22  Shawn Levy                1774 non-null   uint8\n",
      " 23  Steven Soderbergh         1774 non-null   uint8\n",
      " 24  Steven Spielberg          1774 non-null   uint8\n",
      " 25  Tim Burton                1774 non-null   uint8\n",
      " 26  Woody Allen               1774 non-null   uint8\n",
      " 27  other                     1774 non-null   uint8\n",
      "dtypes: uint8(28)\n",
      "memory usage: 48.6 KB\n"
     ]
    }
   ],
   "source": [
    "director_dummies.info()"
   ]
  },
  {
   "cell_type": "code",
   "execution_count": 389,
   "metadata": {},
   "outputs": [],
   "source": [
    "df=df.drop('director',axis=1)\n"
   ]
  },
  {
   "cell_type": "code",
   "execution_count": 390,
   "metadata": {},
   "outputs": [
    {
     "data": {
      "text/plain": [
       "(1774, 244)"
      ]
     },
     "execution_count": 390,
     "metadata": {},
     "output_type": "execute_result"
    }
   ],
   "source": [
    "df=pd.merge(df, director_dummies, left_index=True, right_index=True)\n",
    "df.shape"
   ]
  },
  {
   "cell_type": "markdown",
   "metadata": {},
   "source": [
    "### One hot encode genre column"
   ]
  },
  {
   "cell_type": "code",
   "execution_count": 391,
   "metadata": {},
   "outputs": [
    {
     "data": {
      "text/plain": [
       "Action       504\n",
       "Comedy       367\n",
       "Drama        357\n",
       "Biography    143\n",
       "Animation    120\n",
       "Crime         91\n",
       "Adventure     88\n",
       "Horror        84\n",
       "Fantasy        6\n",
       "Mystery        4\n",
       "Thriller       3\n",
       "Musical        2\n",
       "Romance        2\n",
       "Sport          1\n",
       "Sci-Fi         1\n",
       "Family         1\n",
       "Name: genre, dtype: int64"
      ]
     },
     "execution_count": 391,
     "metadata": {},
     "output_type": "execute_result"
    }
   ],
   "source": [
    "df['genre'].value_counts()"
   ]
  },
  {
   "cell_type": "code",
   "execution_count": 392,
   "metadata": {},
   "outputs": [],
   "source": [
    "genre_dummies=pd.get_dummies(df['genre'])"
   ]
  },
  {
   "cell_type": "code",
   "execution_count": 393,
   "metadata": {},
   "outputs": [],
   "source": [
    "df=df.drop('genre',axis=1)"
   ]
  },
  {
   "cell_type": "code",
   "execution_count": 394,
   "metadata": {},
   "outputs": [
    {
     "data": {
      "text/plain": [
       "(1774, 259)"
      ]
     },
     "execution_count": 394,
     "metadata": {},
     "output_type": "execute_result"
    }
   ],
   "source": [
    "df=pd.merge(df, genre_dummies, left_index=True, right_index=True)\n",
    "df.shape"
   ]
  },
  {
   "cell_type": "code",
   "execution_count": 395,
   "metadata": {},
   "outputs": [
    {
     "name": "stdout",
     "output_type": "stream",
     "text": [
      "<class 'pandas.core.frame.DataFrame'>\n",
      "RangeIndex: 1774 entries, 0 to 1773\n",
      "Columns: 259 entries, runtime to Thriller\n",
      "dtypes: float64(1), int64(2), object(130), uint8(126)\n",
      "memory usage: 2.0+ MB\n"
     ]
    }
   ],
   "source": [
    "df.info()"
   ]
  },
  {
   "cell_type": "code",
   "execution_count": 399,
   "metadata": {},
   "outputs": [],
   "source": [
    "for col in df.columns:\n",
    "    df[col]=pd.to_numeric(df[col])\n",
    "    \n",
    "# pd.to_numeric(df['label'])"
   ]
  },
  {
   "cell_type": "code",
   "execution_count": 400,
   "metadata": {},
   "outputs": [
    {
     "data": {
      "text/plain": [
       "runtime              0\n",
       "budget               0\n",
       "label                0\n",
       "United States      289\n",
       "United Kingdom    1394\n",
       "                  ... \n",
       "Mystery              0\n",
       "Romance              0\n",
       "Sci-Fi               0\n",
       "Sport                0\n",
       "Thriller             0\n",
       "Length: 259, dtype: int64"
      ]
     },
     "execution_count": 400,
     "metadata": {},
     "output_type": "execute_result"
    }
   ],
   "source": [
    "df.isnull().sum()"
   ]
  },
  {
   "cell_type": "code",
   "execution_count": 402,
   "metadata": {},
   "outputs": [],
   "source": [
    "df=df.fillna(0)"
   ]
  },
  {
   "cell_type": "code",
   "execution_count": 403,
   "metadata": {},
   "outputs": [
    {
     "data": {
      "text/plain": [
       "runtime           0\n",
       "budget            0\n",
       "label             0\n",
       "United States     0\n",
       "United Kingdom    0\n",
       "                 ..\n",
       "Mystery           0\n",
       "Romance           0\n",
       "Sci-Fi            0\n",
       "Sport             0\n",
       "Thriller          0\n",
       "Length: 259, dtype: int64"
      ]
     },
     "execution_count": 403,
     "metadata": {},
     "output_type": "execute_result"
    }
   ],
   "source": [
    "df.isnull().sum()"
   ]
  },
  {
   "cell_type": "code",
   "execution_count": 404,
   "metadata": {},
   "outputs": [],
   "source": [
    "### expected new no. of cols after pd.get_dummies from these four cols=5+82+82+16=185"
   ]
  },
  {
   "cell_type": "markdown",
   "metadata": {},
   "source": [
    "### Splitting Feature and Target Columns"
   ]
  },
  {
   "cell_type": "code",
   "execution_count": 405,
   "metadata": {},
   "outputs": [],
   "source": [
    "X=df.drop('label',axis=1)\n",
    "y=df['label']"
   ]
  },
  {
   "cell_type": "code",
   "execution_count": 406,
   "metadata": {},
   "outputs": [
    {
     "data": {
      "text/plain": [
       "(1774, 258)"
      ]
     },
     "execution_count": 406,
     "metadata": {},
     "output_type": "execute_result"
    }
   ],
   "source": [
    "# X=pd.get_dummies(df2)\n",
    "X.shape"
   ]
  },
  {
   "cell_type": "code",
   "execution_count": 407,
   "metadata": {},
   "outputs": [],
   "source": [
    "X_train, X_test, y_train, y_test = train_test_split(X, y,test_size=0.3, random_state=1)"
   ]
  },
  {
   "cell_type": "code",
   "execution_count": 408,
   "metadata": {},
   "outputs": [],
   "source": [
    "scaler=StandardScaler().fit(X_train)\n",
    "X_train_scaled=scaler.transform(X_train)\n",
    "X_test_scaled=scaler.transform(X_test)"
   ]
  },
  {
   "cell_type": "markdown",
   "metadata": {},
   "source": [
    "### Trying RandomForest Classifier"
   ]
  },
  {
   "cell_type": "code",
   "execution_count": 409,
   "metadata": {},
   "outputs": [
    {
     "data": {
      "text/plain": [
       "RandomForestClassifier(max_depth=11, min_samples_split=5, n_estimators=500,\n",
       "                       random_state=5)"
      ]
     },
     "execution_count": 409,
     "metadata": {},
     "output_type": "execute_result"
    }
   ],
   "source": [
    "model=RandomForestClassifier (random_state=5,n_estimators=500,max_depth=11,min_samples_split=5)\n",
    "model.fit(X_train_scaled,y_train)"
   ]
  },
  {
   "cell_type": "code",
   "execution_count": 410,
   "metadata": {},
   "outputs": [],
   "source": [
    "training_score = model.score(X_train_scaled, y_train)\n",
    "testing_score = model.score(X_test_scaled, y_test)"
   ]
  },
  {
   "cell_type": "code",
   "execution_count": 411,
   "metadata": {},
   "outputs": [
    {
     "name": "stdout",
     "output_type": "stream",
     "text": [
      "training_score:0.765511684125705,testing_score:0.7223264540337712\n"
     ]
    }
   ],
   "source": [
    "print(f\"training_score:{training_score},testing_score:{testing_score}\")"
   ]
  },
  {
   "cell_type": "code",
   "execution_count": 412,
   "metadata": {},
   "outputs": [],
   "source": [
    "# from sklearn.model_selection import GridSearchCV"
   ]
  },
  {
   "cell_type": "code",
   "execution_count": 413,
   "metadata": {},
   "outputs": [],
   "source": [
    "# model=RandomForestClassifier()\n",
    "# param_grid={'n_estimators' :np.arange(50,500,50),\n",
    "#             'max_depth': np.arange(3,20,2),\n",
    "#             'max_leaf_nodes': np.arange(3,20,2)\n",
    "# }\n",
    "# grid_clf=GridSearchCV(model,param_grid)"
   ]
  },
  {
   "cell_type": "code",
   "execution_count": 414,
   "metadata": {},
   "outputs": [],
   "source": [
    "# grid_clf.fit(X_train_scaled,y_train)"
   ]
  },
  {
   "cell_type": "code",
   "execution_count": 415,
   "metadata": {},
   "outputs": [],
   "source": [
    "# print(grid_clf.best_params_)"
   ]
  },
  {
   "cell_type": "code",
   "execution_count": 416,
   "metadata": {},
   "outputs": [],
   "source": [
    "# print(grid_clf.best_score_)"
   ]
  },
  {
   "cell_type": "markdown",
   "metadata": {},
   "source": [
    "### Trying SVC"
   ]
  },
  {
   "cell_type": "code",
   "execution_count": 417,
   "metadata": {},
   "outputs": [],
   "source": [
    "from sklearn.svm import SVC"
   ]
  },
  {
   "cell_type": "code",
   "execution_count": 418,
   "metadata": {},
   "outputs": [
    {
     "data": {
      "text/plain": [
       "SVC(C=9, gamma=0.0001)"
      ]
     },
     "execution_count": 418,
     "metadata": {},
     "output_type": "execute_result"
    }
   ],
   "source": [
    "model=SVC(kernel='rbf',C=9,gamma=.0001)\n",
    "model.fit(X_train_scaled,y_train)\n",
    "#‘linear’, ‘poly’, ‘rbf’, ‘sigmoid’, ‘precomputed’"
   ]
  },
  {
   "cell_type": "code",
   "execution_count": 419,
   "metadata": {},
   "outputs": [],
   "source": [
    "training_score = model.score(X_train_scaled, y_train)\n",
    "testing_score = model.score(X_test_scaled, y_test)"
   ]
  },
  {
   "cell_type": "code",
   "execution_count": 420,
   "metadata": {},
   "outputs": [
    {
     "name": "stdout",
     "output_type": "stream",
     "text": [
      "training_score:0.734085414987913,testing_score:0.6904315196998124\n"
     ]
    }
   ],
   "source": [
    "print(f\"training_score:{training_score},testing_score:{testing_score}\")"
   ]
  },
  {
   "cell_type": "code",
   "execution_count": 746,
   "metadata": {},
   "outputs": [],
   "source": [
    "model=SVC()\n",
    "param_grid={'C':[1,5,10,50],\n",
    "            'gamma':[0.0001,0.0005,0.001,0.005],\n",
    "            'kernel':['linear','poly','rbf','sigmoid']\n",
    "}\n",
    "grid_clf=GridSearchCV(model,param_grid)"
   ]
  },
  {
   "cell_type": "code",
   "execution_count": 747,
   "metadata": {},
   "outputs": [
    {
     "data": {
      "text/plain": [
       "GridSearchCV(estimator=SVC(),\n",
       "             param_grid={'C': [1, 5, 10, 50],\n",
       "                         'gamma': [0.0001, 0.0005, 0.001, 0.005],\n",
       "                         'kernel': ['linear', 'poly', 'rbf', 'sigmoid']})"
      ]
     },
     "execution_count": 747,
     "metadata": {},
     "output_type": "execute_result"
    }
   ],
   "source": [
    "grid_clf.fit(X_train_scaled,y_train)"
   ]
  },
  {
   "cell_type": "code",
   "execution_count": 748,
   "metadata": {},
   "outputs": [
    {
     "name": "stdout",
     "output_type": "stream",
     "text": [
      "{'C': 10, 'gamma': 0.0001, 'kernel': 'sigmoid'}\n"
     ]
    }
   ],
   "source": [
    "print(grid_clf.best_params_)"
   ]
  },
  {
   "cell_type": "code",
   "execution_count": 749,
   "metadata": {},
   "outputs": [
    {
     "name": "stdout",
     "output_type": "stream",
     "text": [
      "0.7018752429071123\n"
     ]
    }
   ],
   "source": [
    "print(grid_clf.best_score_)"
   ]
  },
  {
   "cell_type": "markdown",
   "metadata": {},
   "source": [
    "### Trying K-Nearestneighbors"
   ]
  },
  {
   "cell_type": "code",
   "execution_count": 421,
   "metadata": {},
   "outputs": [],
   "source": [
    "from sklearn.neighbors import KNeighborsClassifier"
   ]
  },
  {
   "cell_type": "code",
   "execution_count": 422,
   "metadata": {},
   "outputs": [],
   "source": [
    "train_scores=[]\n",
    "test_scores=[]"
   ]
  },
  {
   "cell_type": "code",
   "execution_count": 423,
   "metadata": {},
   "outputs": [],
   "source": [
    "for k in range (1,20,2):\n",
    "    knn=KNeighborsClassifier(n_neighbors=k)\n",
    "    knn.fit(X_train_scaled,y_train)\n",
    "    train_score=knn.score(X_train_scaled,y_train)\n",
    "    test_score=knn.score(X_test_scaled,y_test)\n",
    "    train_scores.append(train_score)\n",
    "    test_scores.append(test_score)"
   ]
  },
  {
   "cell_type": "code",
   "execution_count": 424,
   "metadata": {},
   "outputs": [
    {
     "data": {
      "image/png": "[encoded data removed]",
      "text/plain": [
       "<Figure size 432x288 with 1 Axes>"
      ]
     },
     "metadata": {
      "needs_background": "light"
     },
     "output_type": "display_data"
    }
   ],
   "source": [
    "import matplotlib.pyplot as plt\n",
    "plt.plot(range(1, 20, 2), train_scores, marker='o')\n",
    "plt.plot(range(1, 20, 2), test_scores, marker=\"x\")\n",
    "plt.xlabel(\"k neighbors\")\n",
    "plt.ylabel(\"Testing accuracy score\")\n",
    "plt.show()"
   ]
  },
  {
   "cell_type": "code",
   "execution_count": 425,
   "metadata": {},
   "outputs": [
    {
     "data": {
      "text/plain": [
       "KNeighborsClassifier(n_neighbors=18)"
      ]
     },
     "execution_count": 425,
     "metadata": {},
     "output_type": "execute_result"
    }
   ],
   "source": [
    "knn=KNeighborsClassifier(n_neighbors=18)\n",
    "knn.fit(X_train_scaled,y_train)\n"
   ]
  },
  {
   "cell_type": "code",
   "execution_count": 426,
   "metadata": {},
   "outputs": [],
   "source": [
    "training_score = knn.score(X_train_scaled, y_train)\n",
    "testing_score = knn.score(X_test_scaled, y_test)"
   ]
  },
  {
   "cell_type": "code",
   "execution_count": 427,
   "metadata": {},
   "outputs": [
    {
     "name": "stdout",
     "output_type": "stream",
     "text": [
      "training_score:0.6978243352135375,testing_score:0.7091932457786116\n"
     ]
    }
   ],
   "source": [
    "print(f\"training_score:{training_score},testing_score:{testing_score}\")"
   ]
  },
  {
   "cell_type": "markdown",
   "metadata": {},
   "source": [
    "### Trying other ensemble methods"
   ]
  },
  {
   "cell_type": "code",
   "execution_count": 428,
   "metadata": {},
   "outputs": [],
   "source": [
    "from sklearn.ensemble import ExtraTreesClassifier, AdaBoostClassifier"
   ]
  },
  {
   "cell_type": "markdown",
   "metadata": {},
   "source": [
    "### ExtraTreesClassifier"
   ]
  },
  {
   "cell_type": "code",
   "execution_count": 429,
   "metadata": {},
   "outputs": [
    {
     "data": {
      "text/plain": [
       "ExtraTreesClassifier()"
      ]
     },
     "execution_count": 429,
     "metadata": {},
     "output_type": "execute_result"
    }
   ],
   "source": [
    "model=ExtraTreesClassifier()\n",
    "model.fit(X_train_scaled,y_train)"
   ]
  },
  {
   "cell_type": "code",
   "execution_count": 430,
   "metadata": {},
   "outputs": [],
   "source": [
    "training_score = model.score(X_train_scaled, y_train)\n",
    "testing_score = model.score(X_test_scaled, y_test)"
   ]
  },
  {
   "cell_type": "code",
   "execution_count": 431,
   "metadata": {},
   "outputs": [
    {
     "name": "stdout",
     "output_type": "stream",
     "text": [
      "training_score:0.9959709911361805,testing_score:0.6622889305816135\n"
     ]
    }
   ],
   "source": [
    "print(f\"training_score:{training_score},testing_score:{testing_score}\")"
   ]
  },
  {
   "cell_type": "markdown",
   "metadata": {},
   "source": [
    "### AdaBoostClassifier"
   ]
  },
  {
   "cell_type": "code",
   "execution_count": 432,
   "metadata": {},
   "outputs": [
    {
     "data": {
      "text/plain": [
       "AdaBoostClassifier()"
      ]
     },
     "execution_count": 432,
     "metadata": {},
     "output_type": "execute_result"
    }
   ],
   "source": [
    "model=AdaBoostClassifier()\n",
    "model.fit(X_train_scaled,y_train)"
   ]
  },
  {
   "cell_type": "code",
   "execution_count": 433,
   "metadata": {},
   "outputs": [],
   "source": [
    "training_score = model.score(X_train_scaled, y_train)\n",
    "testing_score = model.score(X_test_scaled, y_test)"
   ]
  },
  {
   "cell_type": "code",
   "execution_count": 434,
   "metadata": {},
   "outputs": [
    {
     "name": "stdout",
     "output_type": "stream",
     "text": [
      "training_score:0.6946011281224819,testing_score:0.6810506566604128\n"
     ]
    }
   ],
   "source": [
    "print(f\"training_score:{training_score},testing_score:{testing_score}\")"
   ]
  },
  {
   "cell_type": "code",
   "execution_count": null,
   "metadata": {},
   "outputs": [],
   "source": []
  },
  {
   "cell_type": "code",
   "execution_count": null,
   "metadata": {},
   "outputs": [],
   "source": []
  }
 ],
 "metadata": {
  "anaconda-cloud": {},
  "kernelspec": {
   "display_name": "Python 3",
   "language": "python",
   "name": "python3"
  },
  "language_info": {
   "codemirror_mode": {
    "name": "ipython",
    "version": 3
   },
   "file_extension": ".py",
   "mimetype": "text/x-python",
   "name": "python",
   "nbconvert_exporter": "python",
   "pygments_lexer": "ipython3",
   "version": "3.6.13"
  },
  "varInspector": {
   "cols": {
    "lenName": 16,
    "lenType": 16,
    "lenVar": 40
   },
   "kernels_config": {
    "python": {
     "delete_cmd_postfix": "",
     "delete_cmd_prefix": "del ",
     "library": "var_list.py",
     "varRefreshCmd": "print(var_dic_list())"
    },
    "r": {
     "delete_cmd_postfix": ") ",
     "delete_cmd_prefix": "rm(",
     "library": "var_list.r",
     "varRefreshCmd": "cat(var_dic_list()) "
    }
   },
   "types_to_exclude": [
    "module",
    "function",
    "builtin_function_or_method",
    "instance",
    "_Feature"
   ],
   "window_display": false
  }
 },
 "nbformat": 4,
 "nbformat_minor": 4
}
