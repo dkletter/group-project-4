{
 "cells": [
  {
   "cell_type": "code",
   "execution_count": 90,
   "id": "33f6128d",
   "metadata": {},
   "outputs": [],
   "source": [
    "import pandas as pd\n",
    "from nltk.corpus import stopwords\n",
    "from nltk.tokenize import word_tokenize\n",
    "from nltk.stem import PorterStemmer, WordNetLemmatizer\n",
    "stop_words=stopwords.words('english')\n",
    "from sklearn.feature_extraction.text import TfidfVectorizer,CountVectorizer\n",
    "from nltk.tokenize.treebank import TreebankWordDetokenizer\n"
   ]
  },
  {
   "cell_type": "code",
   "execution_count": 91,
   "id": "8a9a1768",
   "metadata": {},
   "outputs": [],
   "source": [
    "Text =\"My Blue cars is going to change, the World for ever.\""
   ]
  },
  {
   "cell_type": "code",
   "execution_count": 92,
   "id": "9df5e992",
   "metadata": {},
   "outputs": [
    {
     "data": {
      "text/plain": [
       "'My Blue cars is going to change, the World for ever.'"
      ]
     },
     "execution_count": 92,
     "metadata": {},
     "output_type": "execute_result"
    }
   ],
   "source": [
    "Text"
   ]
  },
  {
   "cell_type": "code",
   "execution_count": 93,
   "id": "9bb2e3e4",
   "metadata": {},
   "outputs": [],
   "source": [
    "punctuation = '''!()-[]{};:'\"\\,<>./?@#$%^&*_~'''\n",
    "s = Text\n",
    "for c in s:\n",
    "  if c in punctuation:\n",
    "    s = s.replace(c, \"\")"
   ]
  },
  {
   "cell_type": "code",
   "execution_count": 94,
   "id": "baf6a2e3",
   "metadata": {},
   "outputs": [
    {
     "data": {
      "text/plain": [
       "'My Blue cars is going to change the World for ever'"
      ]
     },
     "execution_count": 94,
     "metadata": {},
     "output_type": "execute_result"
    }
   ],
   "source": [
    "Text =s\n",
    "Text"
   ]
  },
  {
   "cell_type": "code",
   "execution_count": 95,
   "id": "c24b38c5",
   "metadata": {},
   "outputs": [],
   "source": [
    "lemmatizer=WordNetLemmatizer()\n",
    "word_tokens = word_tokenize(Text)"
   ]
  },
  {
   "cell_type": "code",
   "execution_count": null,
   "id": "3862accf",
   "metadata": {},
   "outputs": [],
   "source": [
    "   "
   ]
  },
  {
   "cell_type": "code",
   "execution_count": 96,
   "id": "9b495e0c",
   "metadata": {},
   "outputs": [
    {
     "name": "stdout",
     "output_type": "stream",
     "text": [
      "['My', 'Blue', 'car', 'going', 'change', 'World', 'ever']\n"
     ]
    }
   ],
   "source": [
    "filtered_sentence = [] \n",
    "for w in word_tokens:\n",
    "        if w not in stop_words:\n",
    "            filtered_sentence.append(lemmatizer.lemmatize(w))\n",
    "print (filtered_sentence)"
   ]
  },
  {
   "cell_type": "code",
   "execution_count": 97,
   "id": "a41dc390",
   "metadata": {},
   "outputs": [],
   "source": [
    "Text =TreebankWordDetokenizer().detokenize(filtered_sentence)"
   ]
  },
  {
   "cell_type": "code",
   "execution_count": 98,
   "id": "e7dd5fdf",
   "metadata": {},
   "outputs": [
    {
     "data": {
      "text/plain": [
       "'My Blue car going change World ever'"
      ]
     },
     "execution_count": 98,
     "metadata": {},
     "output_type": "execute_result"
    }
   ],
   "source": [
    "Text"
   ]
  },
  {
   "cell_type": "code",
   "execution_count": 99,
   "id": "469f2fc4",
   "metadata": {},
   "outputs": [],
   "source": [
    "tfIdfVectorizer = TfidfVectorizer(\n",
    "    stop_words='english',\n",
    "    lowercase=True,\n",
    "    strip_accents='ascii',\n",
    "    max_features=70,\n",
    "    use_idf=True,\n",
    "    smooth_idf=True\n",
    "  )"
   ]
  },
  {
   "cell_type": "code",
   "execution_count": 100,
   "id": "c0f1ada2",
   "metadata": {},
   "outputs": [],
   "source": [
    "tfIdf = tfIdfVectorizer.fit_transform([Text])"
   ]
  },
  {
   "cell_type": "code",
   "execution_count": 101,
   "id": "e149ed85",
   "metadata": {},
   "outputs": [
    {
     "data": {
      "text/plain": [
       "array([[0.4472136, 0.4472136, 0.4472136, 0.4472136, 0.4472136]])"
      ]
     },
     "execution_count": 101,
     "metadata": {},
     "output_type": "execute_result"
    }
   ],
   "source": [
    "tfIdf.toarray()"
   ]
  },
  {
   "cell_type": "code",
   "execution_count": 102,
   "id": "7ba1ad3d",
   "metadata": {},
   "outputs": [],
   "source": [
    "top_features = pd.DataFrame(tfIdf[0].T.todense(), index=tfIdfVectorizer.get_feature_names(), columns=[\"TF-IDF\"])\n",
    "top_features = top_features.sort_values('TF-IDF', ascending=False).index.tolist()"
   ]
  },
  {
   "cell_type": "code",
   "execution_count": 103,
   "id": "84cacd77",
   "metadata": {},
   "outputs": [
    {
     "name": "stdout",
     "output_type": "stream",
     "text": [
      "TOP WORDS\n",
      "['blue', 'car', 'change', 'going', 'world']\n"
     ]
    }
   ],
   "source": [
    "print('TOP WORDS')\n",
    "print(top_features)"
   ]
  },
  {
   "cell_type": "code",
   "execution_count": 104,
   "id": "45fa351e",
   "metadata": {},
   "outputs": [],
   "source": [
    "#Convert the Top words to a list and when you find those words in your features\n",
    "#just mark them with the value from the array the rest just mark with zero\n",
    "#Lets say we only have blue and change in our features then your array will look like this to feed the model"
   ]
  },
  {
   "cell_type": "code",
   "execution_count": null,
   "id": "99d271f2",
   "metadata": {},
   "outputs": [],
   "source": [
    "[0.4472136,0,0,0,0,0,0,0,0.4472136,0,0,0,0,0,0,0,0,0,0,0,0,0,0,0,0,0,0,0,0,0,0,0,0,0,0,0,0,.....so on until 70]"
   ]
  }
 ],
 "metadata": {
  "kernelspec": {
   "display_name": "Python 3 (ipykernel)",
   "language": "python",
   "name": "python3"
  },
  "language_info": {
   "codemirror_mode": {
    "name": "ipython",
    "version": 3
   },
   "file_extension": ".py",
   "mimetype": "text/x-python",
   "name": "python",
   "nbconvert_exporter": "python",
   "pygments_lexer": "ipython3",
   "version": "3.8.12"
  }
 },
 "nbformat": 4,
 "nbformat_minor": 5
}
