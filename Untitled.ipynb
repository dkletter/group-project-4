{
 "cells": [
  {
   "cell_type": "code",
   "execution_count": 62,
   "id": "2ce3f805-bb92-40b3-a8e1-6166534987b6",
   "metadata": {
    "tags": []
   },
   "outputs": [],
   "source": [
    "import pandas as pd"
   ]
  },
  {
   "cell_type": "code",
   "execution_count": 63,
   "id": "421cd7e6-65b2-4a33-96d1-e49f03b8b894",
   "metadata": {},
   "outputs": [],
   "source": [
    "str=\"[{'Source': 'Internet Movie Database', 'Value': '8.8/10'}, {'Source': 'Rotten Tomatoes', 'Value': '87%'}, {'Source': 'Metacritic', 'Value': '74/100'}]\"\n"
   ]
  },
  {
   "cell_type": "code",
   "execution_count": 64,
   "id": "6e44b4cf-5f8b-452c-9ecd-9b058b6e389e",
   "metadata": {},
   "outputs": [
    {
     "data": {
      "text/plain": [
       "[\"[{'Source': 'Internet Movie Database'\",\n",
       " \" 'Value': '8.8/10'}\",\n",
       " \" {'Source': 'Rotten Tomatoes'\",\n",
       " \" 'Value': '87%'}\",\n",
       " \" {'Source': 'Metacritic'\",\n",
       " \" 'Value': '74/100'}]\"]"
      ]
     },
     "execution_count": 64,
     "metadata": {},
     "output_type": "execute_result"
    }
   ],
   "source": [
    "str.split(',')"
   ]
  },
  {
   "cell_type": "code",
   "execution_count": 65,
   "id": "370ea851-a764-4b50-9556-7ddd72d10d50",
   "metadata": {
    "tags": []
   },
   "outputs": [],
   "source": [
    "#str.split(',')[1]"
   ]
  },
  {
   "cell_type": "code",
   "execution_count": 66,
   "id": "932a0923-daa1-4eb4-bcfb-11b0e53e1f16",
   "metadata": {},
   "outputs": [],
   "source": [
    "#str.split(',')[1].split(':')[1]"
   ]
  },
  {
   "cell_type": "code",
   "execution_count": 67,
   "id": "0e1566ed-59a5-40c0-97ae-70db6e674047",
   "metadata": {},
   "outputs": [
    {
     "data": {
      "text/plain": [
       "8.8"
      ]
     },
     "execution_count": 67,
     "metadata": {},
     "output_type": "execute_result"
    }
   ],
   "source": [
    "float(str.split(',')[1].split(':')[1].replace('\\'','').replace('}','').strip().split('/')[0])\n"
   ]
  },
  {
   "cell_type": "code",
   "execution_count": null,
   "id": "da23c0e9-47e7-47c5-a2cf-5be7ca5d6122",
   "metadata": {},
   "outputs": [],
   "source": []
  },
  {
   "cell_type": "code",
   "execution_count": 68,
   "id": "7cd708fd-34e6-4ce6-9a6e-a2eb21f62dcb",
   "metadata": {},
   "outputs": [
    {
     "data": {
      "text/plain": [
       "87.0"
      ]
     },
     "execution_count": 68,
     "metadata": {},
     "output_type": "execute_result"
    }
   ],
   "source": [
    "float(str.split(',')[3].split(':')[1].replace('}','').strip().replace('\\'','').replace('%',''))"
   ]
  },
  {
   "cell_type": "code",
   "execution_count": 75,
   "id": "28e96df7-4f9c-4e5d-9eb0-85a34eaeb313",
   "metadata": {},
   "outputs": [
    {
     "data": {
      "text/plain": [
       "74.0"
      ]
     },
     "execution_count": 75,
     "metadata": {},
     "output_type": "execute_result"
    }
   ],
   "source": [
    "float(str.split(',')[5].split(':')[1].replace('}','').split('/')[0].strip().replace('\\'',''))"
   ]
  },
  {
   "cell_type": "code",
   "execution_count": null,
   "id": "fb81a1e8-5a96-45d0-b59d-085f6a3d6cbb",
   "metadata": {},
   "outputs": [],
   "source": []
  }
 ],
 "metadata": {
  "kernelspec": {
   "display_name": "Python 3",
   "language": "python",
   "name": "python3"
  },
  "language_info": {
   "codemirror_mode": {
    "name": "ipython",
    "version": 3
   },
   "file_extension": ".py",
   "mimetype": "text/x-python",
   "name": "python",
   "nbconvert_exporter": "python",
   "pygments_lexer": "ipython3",
   "version": "3.6.13"
  }
 },
 "nbformat": 4,
 "nbformat_minor": 5
}
