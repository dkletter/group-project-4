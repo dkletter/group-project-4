{
 "cells": [
  {
   "cell_type": "code",
   "execution_count": 1,
   "metadata": {
    "slideshow": {
     "slide_type": "skip"
    }
   },
   "outputs": [],
   "source": [
    "import pandas as pd\n",
    "from sklearn.model_selection import train_test_split, GridSearchCV\n",
    "from sklearn.preprocessing import StandardScaler, MinMaxScaler, LabelEncoder\n",
    "import numpy as np\n",
    "from sklearn.ensemble import RandomForestClassifier\n",
    "from sklearn.linear_model import LogisticRegression\n",
    "import matplotlib.pyplot as plt"
   ]
  },
  {
   "cell_type": "code",
   "execution_count": 2,
   "metadata": {
    "slideshow": {
     "slide_type": "fragment"
    }
   },
   "outputs": [],
   "source": [
    "df = pd.read_csv('cleaned_data.csv')"
   ]
  },
  {
   "cell_type": "markdown",
   "metadata": {
    "slideshow": {
     "slide_type": "subslide"
    }
   },
   "source": [
    "With three or more dimensions, it becomes harder to visualize the linear trends in our data."
   ]
  },
  {
   "cell_type": "code",
   "execution_count": 3,
   "metadata": {},
   "outputs": [
    {
     "data": {
      "text/html": [
       "<div>\n",
       "<style scoped>\n",
       "    .dataframe tbody tr th:only-of-type {\n",
       "        vertical-align: middle;\n",
       "    }\n",
       "\n",
       "    .dataframe tbody tr th {\n",
       "        vertical-align: top;\n",
       "    }\n",
       "\n",
       "    .dataframe thead th {\n",
       "        text-align: right;\n",
       "    }\n",
       "</style>\n",
       "<table border=\"1\" class=\"dataframe\">\n",
       "  <thead>\n",
       "    <tr style=\"text-align: right;\">\n",
       "      <th></th>\n",
       "      <th>title</th>\n",
       "      <th>rated</th>\n",
       "      <th>released</th>\n",
       "      <th>runtime</th>\n",
       "      <th>director</th>\n",
       "      <th>writer</th>\n",
       "      <th>actors</th>\n",
       "      <th>plot</th>\n",
       "      <th>language</th>\n",
       "      <th>country</th>\n",
       "      <th>...</th>\n",
       "      <th>boxoffice</th>\n",
       "      <th>response</th>\n",
       "      <th>genre</th>\n",
       "      <th>star</th>\n",
       "      <th>budget</th>\n",
       "      <th>gross</th>\n",
       "      <th>year</th>\n",
       "      <th>internet_movie_database_rating</th>\n",
       "      <th>rotten_tomato_rating</th>\n",
       "      <th>metacritic_rating</th>\n",
       "    </tr>\n",
       "  </thead>\n",
       "  <tbody>\n",
       "    <tr>\n",
       "      <th>0</th>\n",
       "      <td>Inception</td>\n",
       "      <td>PG-13</td>\n",
       "      <td>2010-07-16</td>\n",
       "      <td>148</td>\n",
       "      <td>Christopher Nolan</td>\n",
       "      <td>Christopher Nolan</td>\n",
       "      <td>Leonardo DiCaprio, Joseph Gordon-Levitt, Ellio...</td>\n",
       "      <td>A thief who steals corporate secrets through t...</td>\n",
       "      <td>English, Japanese, French</td>\n",
       "      <td>United Kingdom, United States</td>\n",
       "      <td>...</td>\n",
       "      <td>292576195.0</td>\n",
       "      <td>True</td>\n",
       "      <td>Action</td>\n",
       "      <td>Leonardo DiCaprio</td>\n",
       "      <td>160000000.0</td>\n",
       "      <td>836836967.0</td>\n",
       "      <td>2010</td>\n",
       "      <td>8.8</td>\n",
       "      <td>87.0</td>\n",
       "      <td>74.0</td>\n",
       "    </tr>\n",
       "    <tr>\n",
       "      <th>1</th>\n",
       "      <td>Iron Man 2</td>\n",
       "      <td>PG-13</td>\n",
       "      <td>2010-05-07</td>\n",
       "      <td>124</td>\n",
       "      <td>Jon Favreau</td>\n",
       "      <td>Justin Theroux, Stan Lee, Don Heck</td>\n",
       "      <td>Robert Downey Jr., Mickey Rourke, Gwyneth Paltrow</td>\n",
       "      <td>With the world now aware of his identity as Ir...</td>\n",
       "      <td>English, French, Russian</td>\n",
       "      <td>United States</td>\n",
       "      <td>...</td>\n",
       "      <td>312433331.0</td>\n",
       "      <td>True</td>\n",
       "      <td>Action</td>\n",
       "      <td>Robert Downey Jr.</td>\n",
       "      <td>200000000.0</td>\n",
       "      <td>623933331.0</td>\n",
       "      <td>2010</td>\n",
       "      <td>7.0</td>\n",
       "      <td>72.0</td>\n",
       "      <td>57.0</td>\n",
       "    </tr>\n",
       "    <tr>\n",
       "      <th>2</th>\n",
       "      <td>Shutter Island</td>\n",
       "      <td>R</td>\n",
       "      <td>2010-02-19</td>\n",
       "      <td>138</td>\n",
       "      <td>Martin Scorsese</td>\n",
       "      <td>Laeta Kalogridis, Dennis Lehane</td>\n",
       "      <td>Leonardo DiCaprio, Emily Mortimer, Mark Ruffalo</td>\n",
       "      <td>In 1954, a U.S. Marshal investigates the disap...</td>\n",
       "      <td>English, German</td>\n",
       "      <td>United States</td>\n",
       "      <td>...</td>\n",
       "      <td>128012934.0</td>\n",
       "      <td>True</td>\n",
       "      <td>Mystery</td>\n",
       "      <td>Leonardo DiCaprio</td>\n",
       "      <td>80000000.0</td>\n",
       "      <td>294805697.0</td>\n",
       "      <td>2010</td>\n",
       "      <td>8.2</td>\n",
       "      <td>68.0</td>\n",
       "      <td>63.0</td>\n",
       "    </tr>\n",
       "    <tr>\n",
       "      <th>3</th>\n",
       "      <td>Scott Pilgrim vs. the World</td>\n",
       "      <td>PG-13</td>\n",
       "      <td>2010-08-13</td>\n",
       "      <td>112</td>\n",
       "      <td>Edgar Wright</td>\n",
       "      <td>Michael Bacall, Edgar Wright, Bryan Lee O'Malley</td>\n",
       "      <td>Michael Cera, Mary Elizabeth Winstead, Kieran ...</td>\n",
       "      <td>In a magically realistic version of Toronto, a...</td>\n",
       "      <td>English</td>\n",
       "      <td>United States, United Kingdom, Canada, Japan</td>\n",
       "      <td>...</td>\n",
       "      <td>32777690.0</td>\n",
       "      <td>True</td>\n",
       "      <td>Action</td>\n",
       "      <td>Michael Cera</td>\n",
       "      <td>60000000.0</td>\n",
       "      <td>48917974.0</td>\n",
       "      <td>2010</td>\n",
       "      <td>7.5</td>\n",
       "      <td>82.0</td>\n",
       "      <td>69.0</td>\n",
       "    </tr>\n",
       "    <tr>\n",
       "      <th>4</th>\n",
       "      <td>Grown Ups</td>\n",
       "      <td>PG-13</td>\n",
       "      <td>2010-06-25</td>\n",
       "      <td>102</td>\n",
       "      <td>Dennis Dugan</td>\n",
       "      <td>Adam Sandler, Fred Wolf</td>\n",
       "      <td>Adam Sandler, Salma Hayek, Kevin James</td>\n",
       "      <td>After their high school basketball coach passe...</td>\n",
       "      <td>English, Spanish</td>\n",
       "      <td>United States</td>\n",
       "      <td>...</td>\n",
       "      <td>162001186.0</td>\n",
       "      <td>True</td>\n",
       "      <td>Comedy</td>\n",
       "      <td>Adam Sandler</td>\n",
       "      <td>80000000.0</td>\n",
       "      <td>271457301.0</td>\n",
       "      <td>2010</td>\n",
       "      <td>6.0</td>\n",
       "      <td>11.0</td>\n",
       "      <td>30.0</td>\n",
       "    </tr>\n",
       "  </tbody>\n",
       "</table>\n",
       "<p>5 rows × 25 columns</p>\n",
       "</div>"
      ],
      "text/plain": [
       "                         title  rated    released  runtime           director  \\\n",
       "0                    Inception  PG-13  2010-07-16      148  Christopher Nolan   \n",
       "1                   Iron Man 2  PG-13  2010-05-07      124        Jon Favreau   \n",
       "2               Shutter Island      R  2010-02-19      138    Martin Scorsese   \n",
       "3  Scott Pilgrim vs. the World  PG-13  2010-08-13      112       Edgar Wright   \n",
       "4                    Grown Ups  PG-13  2010-06-25      102       Dennis Dugan   \n",
       "\n",
       "                                             writer  \\\n",
       "0                                 Christopher Nolan   \n",
       "1                Justin Theroux, Stan Lee, Don Heck   \n",
       "2                   Laeta Kalogridis, Dennis Lehane   \n",
       "3  Michael Bacall, Edgar Wright, Bryan Lee O'Malley   \n",
       "4                           Adam Sandler, Fred Wolf   \n",
       "\n",
       "                                              actors  \\\n",
       "0  Leonardo DiCaprio, Joseph Gordon-Levitt, Ellio...   \n",
       "1  Robert Downey Jr., Mickey Rourke, Gwyneth Paltrow   \n",
       "2    Leonardo DiCaprio, Emily Mortimer, Mark Ruffalo   \n",
       "3  Michael Cera, Mary Elizabeth Winstead, Kieran ...   \n",
       "4             Adam Sandler, Salma Hayek, Kevin James   \n",
       "\n",
       "                                                plot  \\\n",
       "0  A thief who steals corporate secrets through t...   \n",
       "1  With the world now aware of his identity as Ir...   \n",
       "2  In 1954, a U.S. Marshal investigates the disap...   \n",
       "3  In a magically realistic version of Toronto, a...   \n",
       "4  After their high school basketball coach passe...   \n",
       "\n",
       "                    language                                       country  \\\n",
       "0  English, Japanese, French                 United Kingdom, United States   \n",
       "1   English, French, Russian                                 United States   \n",
       "2            English, German                                 United States   \n",
       "3                    English  United States, United Kingdom, Canada, Japan   \n",
       "4           English, Spanish                                 United States   \n",
       "\n",
       "   ...    boxoffice  response    genre               star       budget  \\\n",
       "0  ...  292576195.0      True   Action  Leonardo DiCaprio  160000000.0   \n",
       "1  ...  312433331.0      True   Action  Robert Downey Jr.  200000000.0   \n",
       "2  ...  128012934.0      True  Mystery  Leonardo DiCaprio   80000000.0   \n",
       "3  ...   32777690.0      True   Action       Michael Cera   60000000.0   \n",
       "4  ...  162001186.0      True   Comedy       Adam Sandler   80000000.0   \n",
       "\n",
       "         gross  year internet_movie_database_rating rotten_tomato_rating  \\\n",
       "0  836836967.0  2010                            8.8                 87.0   \n",
       "1  623933331.0  2010                            7.0                 72.0   \n",
       "2  294805697.0  2010                            8.2                 68.0   \n",
       "3   48917974.0  2010                            7.5                 82.0   \n",
       "4  271457301.0  2010                            6.0                 11.0   \n",
       "\n",
       "   metacritic_rating  \n",
       "0               74.0  \n",
       "1               57.0  \n",
       "2               63.0  \n",
       "3               69.0  \n",
       "4               30.0  \n",
       "\n",
       "[5 rows x 25 columns]"
      ]
     },
     "execution_count": 3,
     "metadata": {},
     "output_type": "execute_result"
    }
   ],
   "source": [
    "df.head(5)"
   ]
  },
  {
   "cell_type": "code",
   "execution_count": 6,
   "metadata": {},
   "outputs": [
    {
     "name": "stdout",
     "output_type": "stream",
     "text": [
      "<class 'pandas.core.frame.DataFrame'>\n",
      "RangeIndex: 1774 entries, 0 to 1773\n",
      "Data columns (total 25 columns):\n",
      " #   Column                          Non-Null Count  Dtype  \n",
      "---  ------                          --------------  -----  \n",
      " 0   title                           1774 non-null   object \n",
      " 1   rated                           1753 non-null   object \n",
      " 2   released                        1774 non-null   object \n",
      " 3   runtime                         1774 non-null   int64  \n",
      " 4   director                        1766 non-null   object \n",
      " 5   writer                          1771 non-null   object \n",
      " 6   actors                          1774 non-null   object \n",
      " 7   plot                            1774 non-null   object \n",
      " 8   language                        1771 non-null   object \n",
      " 9   country                         1773 non-null   object \n",
      " 10  awards                          1654 non-null   object \n",
      " 11  metascore                       1686 non-null   float64\n",
      " 12  imdbrating                      1774 non-null   float64\n",
      " 13  imdbvotes                       1774 non-null   int64  \n",
      " 14  dvd                             1736 non-null   object \n",
      " 15  boxoffice                       4 non-null      float64\n",
      " 16  response                        1774 non-null   bool   \n",
      " 17  genre                           1774 non-null   object \n",
      " 18  star                            1774 non-null   object \n",
      " 19  budget                          1352 non-null   float64\n",
      " 20  gross                           1767 non-null   float64\n",
      " 21  year                            1774 non-null   int64  \n",
      " 22  internet_movie_database_rating  1774 non-null   float64\n",
      " 23  rotten_tomato_rating            1774 non-null   float64\n",
      " 24  metacritic_rating               1774 non-null   float64\n",
      "dtypes: bool(1), float64(8), int64(3), object(13)\n",
      "memory usage: 334.5+ KB\n"
     ]
    }
   ],
   "source": [
    "df.info()"
   ]
  },
  {
   "cell_type": "markdown",
   "metadata": {},
   "source": [
    "#### Changing Plot Column to numerical data"
   ]
  },
  {
   "cell_type": "code",
   "execution_count": null,
   "metadata": {},
   "outputs": [],
   "source": []
  },
  {
   "cell_type": "code",
   "execution_count": null,
   "metadata": {},
   "outputs": [],
   "source": []
  },
  {
   "cell_type": "code",
   "execution_count": null,
   "metadata": {},
   "outputs": [],
   "source": []
  },
  {
   "cell_type": "code",
   "execution_count": null,
   "metadata": {},
   "outputs": [],
   "source": []
  },
  {
   "cell_type": "code",
   "execution_count": null,
   "metadata": {},
   "outputs": [],
   "source": []
  },
  {
   "cell_type": "code",
   "execution_count": null,
   "metadata": {},
   "outputs": [],
   "source": []
  },
  {
   "cell_type": "code",
   "execution_count": null,
   "metadata": {},
   "outputs": [],
   "source": []
  },
  {
   "cell_type": "code",
   "execution_count": 56,
   "metadata": {},
   "outputs": [],
   "source": [
    "df2=df[['rated','runtime' ]]\n",
    "df2 = df[[\"rated\",\"star\",\"imdbrating\",\"imdbvotes\",\"genre\",\"rotten_tomato_rating\",\"metacritic_rating\"]]"
   ]
  },
  {
   "cell_type": "code",
   "execution_count": 57,
   "metadata": {},
   "outputs": [
    {
     "data": {
      "text/html": [
       "<div>\n",
       "<style scoped>\n",
       "    .dataframe tbody tr th:only-of-type {\n",
       "        vertical-align: middle;\n",
       "    }\n",
       "\n",
       "    .dataframe tbody tr th {\n",
       "        vertical-align: top;\n",
       "    }\n",
       "\n",
       "    .dataframe thead th {\n",
       "        text-align: right;\n",
       "    }\n",
       "</style>\n",
       "<table border=\"1\" class=\"dataframe\">\n",
       "  <thead>\n",
       "    <tr style=\"text-align: right;\">\n",
       "      <th></th>\n",
       "      <th>rated</th>\n",
       "      <th>star</th>\n",
       "      <th>imdbrating</th>\n",
       "      <th>imdbvotes</th>\n",
       "      <th>genre</th>\n",
       "      <th>rotten_tomato_rating</th>\n",
       "      <th>metacritic_rating</th>\n",
       "    </tr>\n",
       "  </thead>\n",
       "  <tbody>\n",
       "    <tr>\n",
       "      <th>0</th>\n",
       "      <td>PG-13</td>\n",
       "      <td>Leonardo DiCaprio</td>\n",
       "      <td>8.8</td>\n",
       "      <td>2223702</td>\n",
       "      <td>Action</td>\n",
       "      <td>87.0</td>\n",
       "      <td>74.0</td>\n",
       "    </tr>\n",
       "    <tr>\n",
       "      <th>1</th>\n",
       "      <td>PG-13</td>\n",
       "      <td>Robert Downey Jr.</td>\n",
       "      <td>7.0</td>\n",
       "      <td>771885</td>\n",
       "      <td>Action</td>\n",
       "      <td>72.0</td>\n",
       "      <td>57.0</td>\n",
       "    </tr>\n",
       "    <tr>\n",
       "      <th>2</th>\n",
       "      <td>R</td>\n",
       "      <td>Leonardo DiCaprio</td>\n",
       "      <td>8.2</td>\n",
       "      <td>1225928</td>\n",
       "      <td>Mystery</td>\n",
       "      <td>68.0</td>\n",
       "      <td>63.0</td>\n",
       "    </tr>\n",
       "    <tr>\n",
       "      <th>3</th>\n",
       "      <td>PG-13</td>\n",
       "      <td>Michael Cera</td>\n",
       "      <td>7.5</td>\n",
       "      <td>409720</td>\n",
       "      <td>Action</td>\n",
       "      <td>82.0</td>\n",
       "      <td>69.0</td>\n",
       "    </tr>\n",
       "    <tr>\n",
       "      <th>4</th>\n",
       "      <td>PG-13</td>\n",
       "      <td>Adam Sandler</td>\n",
       "      <td>6.0</td>\n",
       "      <td>242283</td>\n",
       "      <td>Comedy</td>\n",
       "      <td>11.0</td>\n",
       "      <td>30.0</td>\n",
       "    </tr>\n",
       "  </tbody>\n",
       "</table>\n",
       "</div>"
      ],
      "text/plain": [
       "   rated               star  imdbrating  imdbvotes    genre  \\\n",
       "0  PG-13  Leonardo DiCaprio         8.8    2223702   Action   \n",
       "1  PG-13  Robert Downey Jr.         7.0     771885   Action   \n",
       "2      R  Leonardo DiCaprio         8.2    1225928  Mystery   \n",
       "3  PG-13       Michael Cera         7.5     409720   Action   \n",
       "4  PG-13       Adam Sandler         6.0     242283   Comedy   \n",
       "\n",
       "   rotten_tomato_rating  metacritic_rating  \n",
       "0                  87.0               74.0  \n",
       "1                  72.0               57.0  \n",
       "2                  68.0               63.0  \n",
       "3                  82.0               69.0  \n",
       "4                  11.0               30.0  "
      ]
     },
     "execution_count": 57,
     "metadata": {},
     "output_type": "execute_result"
    }
   ],
   "source": [
    "df2.head()"
   ]
  },
  {
   "cell_type": "code",
   "execution_count": 70,
   "metadata": {},
   "outputs": [],
   "source": [
    "df3 = df2.dropna()"
   ]
  },
  {
   "cell_type": "code",
   "execution_count": 71,
   "metadata": {},
   "outputs": [
    {
     "data": {
      "text/plain": [
       "1753"
      ]
     },
     "execution_count": 71,
     "metadata": {},
     "output_type": "execute_result"
    }
   ],
   "source": [
    "len(df3)"
   ]
  },
  {
   "cell_type": "code",
   "execution_count": 72,
   "metadata": {},
   "outputs": [
    {
     "data": {
      "text/plain": [
       "1774"
      ]
     },
     "execution_count": 72,
     "metadata": {},
     "output_type": "execute_result"
    }
   ],
   "source": [
    "len(df2)"
   ]
  },
  {
   "cell_type": "code",
   "execution_count": 73,
   "metadata": {},
   "outputs": [],
   "source": [
    "X_dummies = pd.get_dummies(df2)"
   ]
  },
  {
   "cell_type": "code",
   "execution_count": 74,
   "metadata": {},
   "outputs": [
    {
     "data": {
      "text/html": [
       "<div>\n",
       "<style scoped>\n",
       "    .dataframe tbody tr th:only-of-type {\n",
       "        vertical-align: middle;\n",
       "    }\n",
       "\n",
       "    .dataframe tbody tr th {\n",
       "        vertical-align: top;\n",
       "    }\n",
       "\n",
       "    .dataframe thead th {\n",
       "        text-align: right;\n",
       "    }\n",
       "</style>\n",
       "<table border=\"1\" class=\"dataframe\">\n",
       "  <thead>\n",
       "    <tr style=\"text-align: right;\">\n",
       "      <th></th>\n",
       "      <th>imdbrating</th>\n",
       "      <th>imdbvotes</th>\n",
       "      <th>rotten_tomato_rating</th>\n",
       "      <th>metacritic_rating</th>\n",
       "      <th>rated_G</th>\n",
       "      <th>rated_NC-17</th>\n",
       "      <th>rated_Not Rated</th>\n",
       "      <th>rated_PG</th>\n",
       "      <th>rated_PG-13</th>\n",
       "      <th>rated_R</th>\n",
       "      <th>...</th>\n",
       "      <th>genre_Drama</th>\n",
       "      <th>genre_Family</th>\n",
       "      <th>genre_Fantasy</th>\n",
       "      <th>genre_Horror</th>\n",
       "      <th>genre_Musical</th>\n",
       "      <th>genre_Mystery</th>\n",
       "      <th>genre_Romance</th>\n",
       "      <th>genre_Sci-Fi</th>\n",
       "      <th>genre_Sport</th>\n",
       "      <th>genre_Thriller</th>\n",
       "    </tr>\n",
       "  </thead>\n",
       "  <tbody>\n",
       "    <tr>\n",
       "      <th>0</th>\n",
       "      <td>8.8</td>\n",
       "      <td>2223702</td>\n",
       "      <td>87.0</td>\n",
       "      <td>74.0</td>\n",
       "      <td>0</td>\n",
       "      <td>0</td>\n",
       "      <td>0</td>\n",
       "      <td>0</td>\n",
       "      <td>1</td>\n",
       "      <td>0</td>\n",
       "      <td>...</td>\n",
       "      <td>0</td>\n",
       "      <td>0</td>\n",
       "      <td>0</td>\n",
       "      <td>0</td>\n",
       "      <td>0</td>\n",
       "      <td>0</td>\n",
       "      <td>0</td>\n",
       "      <td>0</td>\n",
       "      <td>0</td>\n",
       "      <td>0</td>\n",
       "    </tr>\n",
       "    <tr>\n",
       "      <th>1</th>\n",
       "      <td>7.0</td>\n",
       "      <td>771885</td>\n",
       "      <td>72.0</td>\n",
       "      <td>57.0</td>\n",
       "      <td>0</td>\n",
       "      <td>0</td>\n",
       "      <td>0</td>\n",
       "      <td>0</td>\n",
       "      <td>1</td>\n",
       "      <td>0</td>\n",
       "      <td>...</td>\n",
       "      <td>0</td>\n",
       "      <td>0</td>\n",
       "      <td>0</td>\n",
       "      <td>0</td>\n",
       "      <td>0</td>\n",
       "      <td>0</td>\n",
       "      <td>0</td>\n",
       "      <td>0</td>\n",
       "      <td>0</td>\n",
       "      <td>0</td>\n",
       "    </tr>\n",
       "    <tr>\n",
       "      <th>2</th>\n",
       "      <td>8.2</td>\n",
       "      <td>1225928</td>\n",
       "      <td>68.0</td>\n",
       "      <td>63.0</td>\n",
       "      <td>0</td>\n",
       "      <td>0</td>\n",
       "      <td>0</td>\n",
       "      <td>0</td>\n",
       "      <td>0</td>\n",
       "      <td>1</td>\n",
       "      <td>...</td>\n",
       "      <td>0</td>\n",
       "      <td>0</td>\n",
       "      <td>0</td>\n",
       "      <td>0</td>\n",
       "      <td>0</td>\n",
       "      <td>1</td>\n",
       "      <td>0</td>\n",
       "      <td>0</td>\n",
       "      <td>0</td>\n",
       "      <td>0</td>\n",
       "    </tr>\n",
       "    <tr>\n",
       "      <th>3</th>\n",
       "      <td>7.5</td>\n",
       "      <td>409720</td>\n",
       "      <td>82.0</td>\n",
       "      <td>69.0</td>\n",
       "      <td>0</td>\n",
       "      <td>0</td>\n",
       "      <td>0</td>\n",
       "      <td>0</td>\n",
       "      <td>1</td>\n",
       "      <td>0</td>\n",
       "      <td>...</td>\n",
       "      <td>0</td>\n",
       "      <td>0</td>\n",
       "      <td>0</td>\n",
       "      <td>0</td>\n",
       "      <td>0</td>\n",
       "      <td>0</td>\n",
       "      <td>0</td>\n",
       "      <td>0</td>\n",
       "      <td>0</td>\n",
       "      <td>0</td>\n",
       "    </tr>\n",
       "    <tr>\n",
       "      <th>4</th>\n",
       "      <td>6.0</td>\n",
       "      <td>242283</td>\n",
       "      <td>11.0</td>\n",
       "      <td>30.0</td>\n",
       "      <td>0</td>\n",
       "      <td>0</td>\n",
       "      <td>0</td>\n",
       "      <td>0</td>\n",
       "      <td>1</td>\n",
       "      <td>0</td>\n",
       "      <td>...</td>\n",
       "      <td>0</td>\n",
       "      <td>0</td>\n",
       "      <td>0</td>\n",
       "      <td>0</td>\n",
       "      <td>0</td>\n",
       "      <td>0</td>\n",
       "      <td>0</td>\n",
       "      <td>0</td>\n",
       "      <td>0</td>\n",
       "      <td>0</td>\n",
       "    </tr>\n",
       "    <tr>\n",
       "      <th>...</th>\n",
       "      <td>...</td>\n",
       "      <td>...</td>\n",
       "      <td>...</td>\n",
       "      <td>...</td>\n",
       "      <td>...</td>\n",
       "      <td>...</td>\n",
       "      <td>...</td>\n",
       "      <td>...</td>\n",
       "      <td>...</td>\n",
       "      <td>...</td>\n",
       "      <td>...</td>\n",
       "      <td>...</td>\n",
       "      <td>...</td>\n",
       "      <td>...</td>\n",
       "      <td>...</td>\n",
       "      <td>...</td>\n",
       "      <td>...</td>\n",
       "      <td>...</td>\n",
       "      <td>...</td>\n",
       "      <td>...</td>\n",
       "      <td>...</td>\n",
       "    </tr>\n",
       "    <tr>\n",
       "      <th>1769</th>\n",
       "      <td>5.8</td>\n",
       "      <td>606</td>\n",
       "      <td>75.0</td>\n",
       "      <td>0.0</td>\n",
       "      <td>0</td>\n",
       "      <td>0</td>\n",
       "      <td>1</td>\n",
       "      <td>0</td>\n",
       "      <td>0</td>\n",
       "      <td>0</td>\n",
       "      <td>...</td>\n",
       "      <td>0</td>\n",
       "      <td>0</td>\n",
       "      <td>0</td>\n",
       "      <td>0</td>\n",
       "      <td>0</td>\n",
       "      <td>0</td>\n",
       "      <td>0</td>\n",
       "      <td>0</td>\n",
       "      <td>0</td>\n",
       "      <td>0</td>\n",
       "    </tr>\n",
       "    <tr>\n",
       "      <th>1770</th>\n",
       "      <td>4.7</td>\n",
       "      <td>185</td>\n",
       "      <td>60.0</td>\n",
       "      <td>0.0</td>\n",
       "      <td>0</td>\n",
       "      <td>0</td>\n",
       "      <td>0</td>\n",
       "      <td>0</td>\n",
       "      <td>0</td>\n",
       "      <td>0</td>\n",
       "      <td>...</td>\n",
       "      <td>0</td>\n",
       "      <td>1</td>\n",
       "      <td>0</td>\n",
       "      <td>0</td>\n",
       "      <td>0</td>\n",
       "      <td>0</td>\n",
       "      <td>0</td>\n",
       "      <td>0</td>\n",
       "      <td>0</td>\n",
       "      <td>0</td>\n",
       "    </tr>\n",
       "    <tr>\n",
       "      <th>1771</th>\n",
       "      <td>3.0</td>\n",
       "      <td>145</td>\n",
       "      <td>0.0</td>\n",
       "      <td>0.0</td>\n",
       "      <td>0</td>\n",
       "      <td>0</td>\n",
       "      <td>0</td>\n",
       "      <td>0</td>\n",
       "      <td>0</td>\n",
       "      <td>1</td>\n",
       "      <td>...</td>\n",
       "      <td>0</td>\n",
       "      <td>0</td>\n",
       "      <td>0</td>\n",
       "      <td>0</td>\n",
       "      <td>0</td>\n",
       "      <td>0</td>\n",
       "      <td>0</td>\n",
       "      <td>0</td>\n",
       "      <td>0</td>\n",
       "      <td>0</td>\n",
       "    </tr>\n",
       "    <tr>\n",
       "      <th>1772</th>\n",
       "      <td>4.8</td>\n",
       "      <td>1602</td>\n",
       "      <td>0.0</td>\n",
       "      <td>0.0</td>\n",
       "      <td>0</td>\n",
       "      <td>0</td>\n",
       "      <td>0</td>\n",
       "      <td>0</td>\n",
       "      <td>0</td>\n",
       "      <td>0</td>\n",
       "      <td>...</td>\n",
       "      <td>1</td>\n",
       "      <td>0</td>\n",
       "      <td>0</td>\n",
       "      <td>0</td>\n",
       "      <td>0</td>\n",
       "      <td>0</td>\n",
       "      <td>0</td>\n",
       "      <td>0</td>\n",
       "      <td>0</td>\n",
       "      <td>0</td>\n",
       "    </tr>\n",
       "    <tr>\n",
       "      <th>1773</th>\n",
       "      <td>6.8</td>\n",
       "      <td>922</td>\n",
       "      <td>75.0</td>\n",
       "      <td>67.0</td>\n",
       "      <td>0</td>\n",
       "      <td>0</td>\n",
       "      <td>0</td>\n",
       "      <td>0</td>\n",
       "      <td>0</td>\n",
       "      <td>0</td>\n",
       "      <td>...</td>\n",
       "      <td>1</td>\n",
       "      <td>0</td>\n",
       "      <td>0</td>\n",
       "      <td>0</td>\n",
       "      <td>0</td>\n",
       "      <td>0</td>\n",
       "      <td>0</td>\n",
       "      <td>0</td>\n",
       "      <td>0</td>\n",
       "      <td>0</td>\n",
       "    </tr>\n",
       "  </tbody>\n",
       "</table>\n",
       "<p>1774 rows × 961 columns</p>\n",
       "</div>"
      ],
      "text/plain": [
       "      imdbrating  imdbvotes  rotten_tomato_rating  metacritic_rating  rated_G  \\\n",
       "0            8.8    2223702                  87.0               74.0        0   \n",
       "1            7.0     771885                  72.0               57.0        0   \n",
       "2            8.2    1225928                  68.0               63.0        0   \n",
       "3            7.5     409720                  82.0               69.0        0   \n",
       "4            6.0     242283                  11.0               30.0        0   \n",
       "...          ...        ...                   ...                ...      ...   \n",
       "1769         5.8        606                  75.0                0.0        0   \n",
       "1770         4.7        185                  60.0                0.0        0   \n",
       "1771         3.0        145                   0.0                0.0        0   \n",
       "1772         4.8       1602                   0.0                0.0        0   \n",
       "1773         6.8        922                  75.0               67.0        0   \n",
       "\n",
       "      rated_NC-17  rated_Not Rated  rated_PG  rated_PG-13  rated_R  ...  \\\n",
       "0               0                0         0            1        0  ...   \n",
       "1               0                0         0            1        0  ...   \n",
       "2               0                0         0            0        1  ...   \n",
       "3               0                0         0            1        0  ...   \n",
       "4               0                0         0            1        0  ...   \n",
       "...           ...              ...       ...          ...      ...  ...   \n",
       "1769            0                1         0            0        0  ...   \n",
       "1770            0                0         0            0        0  ...   \n",
       "1771            0                0         0            0        1  ...   \n",
       "1772            0                0         0            0        0  ...   \n",
       "1773            0                0         0            0        0  ...   \n",
       "\n",
       "      genre_Drama  genre_Family  genre_Fantasy  genre_Horror  genre_Musical  \\\n",
       "0               0             0              0             0              0   \n",
       "1               0             0              0             0              0   \n",
       "2               0             0              0             0              0   \n",
       "3               0             0              0             0              0   \n",
       "4               0             0              0             0              0   \n",
       "...           ...           ...            ...           ...            ...   \n",
       "1769            0             0              0             0              0   \n",
       "1770            0             1              0             0              0   \n",
       "1771            0             0              0             0              0   \n",
       "1772            1             0              0             0              0   \n",
       "1773            1             0              0             0              0   \n",
       "\n",
       "      genre_Mystery  genre_Romance  genre_Sci-Fi  genre_Sport  genre_Thriller  \n",
       "0                 0              0             0            0               0  \n",
       "1                 0              0             0            0               0  \n",
       "2                 1              0             0            0               0  \n",
       "3                 0              0             0            0               0  \n",
       "4                 0              0             0            0               0  \n",
       "...             ...            ...           ...          ...             ...  \n",
       "1769              0              0             0            0               0  \n",
       "1770              0              0             0            0               0  \n",
       "1771              0              0             0            0               0  \n",
       "1772              0              0             0            0               0  \n",
       "1773              0              0             0            0               0  \n",
       "\n",
       "[1774 rows x 961 columns]"
      ]
     },
     "execution_count": 74,
     "metadata": {},
     "output_type": "execute_result"
    }
   ],
   "source": [
    "X_dummies"
   ]
  },
  {
   "cell_type": "code",
   "execution_count": 75,
   "metadata": {
    "scrolled": true,
    "slideshow": {
     "slide_type": "fragment"
    }
   },
   "outputs": [
    {
     "name": "stderr",
     "output_type": "stream",
     "text": [
      "C:\\Users\\edipa\\AppData\\Local\\Temp/ipykernel_24508/3736610889.py:3: MatplotlibDeprecationWarning: Axes3D(fig) adding itself to the figure is deprecated since 3.4. Pass the keyword argument auto_add_to_figure=False and use fig.add_axes(ax) to suppress this warning. The default value of auto_add_to_figure will change to False in mpl3.5 and True values will no longer work in 3.6.  This is consistent with other Axes classes.\n",
      "  axes = Axes3D(fig, elev=20, azim=45)\n"
     ]
    },
    {
     "data": {
      "image/png": "[encoded data removed]",
      "text/plain": [
       "<Figure size 360x360 with 1 Axes>"
      ]
     },
     "metadata": {
      "needs_background": "light"
     },
     "output_type": "display_data"
    }
   ],
   "source": [
    "from mpl_toolkits.mplot3d import Axes3D\n",
    "fig = plt.figure(1, figsize=(5, 5))\n",
    "axes = Axes3D(fig, elev=20, azim=45)\n",
    "axes.scatter( df[\"internet_movie_database_rating\"], df[\"rotten_tomato_rating\"], df[\"rotten_tomato_rating\"], cmap=plt.cm.get_cmap(\"Spectral\"))\n",
    "plt.show()"
   ]
  },
  {
   "cell_type": "code",
   "execution_count": 76,
   "metadata": {},
   "outputs": [
    {
     "data": {
      "text/plain": [
       "array([58, 40, 52, ...,  1, 18, 38], dtype=int64)"
      ]
     },
     "execution_count": 76,
     "metadata": {},
     "output_type": "execute_result"
    }
   ],
   "source": [
    "y_label = LabelEncoder().fit_transform(df['internet_movie_database_rating'])\n",
    "y_label"
   ]
  },
  {
   "cell_type": "code",
   "execution_count": 77,
   "metadata": {},
   "outputs": [],
   "source": [
    "x_train, x_test, y_train, y_test = train_test_split(X_dummies, y_label, random_state=1)"
   ]
  },
  {
   "cell_type": "code",
   "execution_count": 78,
   "metadata": {},
   "outputs": [],
   "source": [
    "scaler = StandardScaler().fit(x_train)\n",
    "X_train_scaled = scaler.transform(x_train)\n",
    "X_test_scaled = scaler.transform(x_test)"
   ]
  },
  {
   "cell_type": "code",
   "execution_count": 79,
   "metadata": {},
   "outputs": [],
   "source": [
    "from sklearn.linear_model import LinearRegression\n",
    "model = LinearRegression()"
   ]
  },
  {
   "cell_type": "code",
   "execution_count": 80,
   "metadata": {},
   "outputs": [],
   "source": [
    "\n",
    "model.fit(X_train_scaled, y_train)\n",
    "\n",
    "training_score = model.score(X_train_scaled, y_train)\n",
    "testing_score = model.score(X_test_scaled, y_test)"
   ]
  },
  {
   "cell_type": "code",
   "execution_count": 81,
   "metadata": {},
   "outputs": [
    {
     "data": {
      "text/plain": [
       "0.9999473064653275"
      ]
     },
     "execution_count": 81,
     "metadata": {},
     "output_type": "execute_result"
    }
   ],
   "source": [
    "training_score"
   ]
  },
  {
   "cell_type": "code",
   "execution_count": 82,
   "metadata": {},
   "outputs": [
    {
     "data": {
      "text/plain": [
       "-1.1539038895570322e+23"
      ]
     },
     "execution_count": 82,
     "metadata": {},
     "output_type": "execute_result"
    }
   ],
   "source": [
    "testing_score"
   ]
  },
  {
   "cell_type": "code",
   "execution_count": 86,
   "metadata": {
    "slideshow": {
     "slide_type": "subslide"
    }
   },
   "outputs": [
    {
     "data": {
      "text/plain": [
       "LogisticRegression()"
      ]
     },
     "execution_count": 86,
     "metadata": {},
     "output_type": "execute_result"
    }
   ],
   "source": [
    "from sklearn.linear_model import LogisticRegression\n",
    "classifier = LogisticRegression()\n",
    "classifier"
   ]
  },
  {
   "cell_type": "code",
   "execution_count": 87,
   "metadata": {},
   "outputs": [
    {
     "name": "stderr",
     "output_type": "stream",
     "text": [
      "C:\\Users\\edipa\\anaconda3\\envs\\tfenv\\lib\\site-packages\\sklearn\\linear_model\\_logistic.py:814: ConvergenceWarning: lbfgs failed to converge (status=1):\n",
      "STOP: TOTAL NO. of ITERATIONS REACHED LIMIT.\n",
      "\n",
      "Increase the number of iterations (max_iter) or scale the data as shown in:\n",
      "    https://scikit-learn.org/stable/modules/preprocessing.html\n",
      "Please also refer to the documentation for alternative solver options:\n",
      "    https://scikit-learn.org/stable/modules/linear_model.html#logistic-regression\n",
      "  n_iter_i = _check_optimize_result(\n"
     ]
    },
    {
     "data": {
      "text/plain": [
       "LogisticRegression()"
      ]
     },
     "execution_count": 87,
     "metadata": {},
     "output_type": "execute_result"
    }
   ],
   "source": [
    "classifier.fit(X_train_scaled, y_train)"
   ]
  },
  {
   "cell_type": "code",
   "execution_count": 88,
   "metadata": {},
   "outputs": [
    {
     "name": "stdout",
     "output_type": "stream",
     "text": [
      "Training Data Score: 0.9157894736842105\n",
      "Testing Data Score: 0.08108108108108109\n"
     ]
    }
   ],
   "source": [
    "print(f\"Training Data Score: {classifier.score(X_train_scaled, y_train)}\")\n",
    "print(f\"Testing Data Score: {classifier.score(X_test_scaled, y_test)}\")"
   ]
  },
  {
   "cell_type": "code",
   "execution_count": 89,
   "metadata": {},
   "outputs": [],
   "source": [
    "from sklearn.neighbors import KNeighborsClassifier"
   ]
  },
  {
   "cell_type": "code",
   "execution_count": 95,
   "metadata": {},
   "outputs": [
    {
     "name": "stdout",
     "output_type": "stream",
     "text": [
      "k: 1, Train/Test Score: 1.000/0.061\n",
      "k: 3, Train/Test Score: 0.371/0.052\n",
      "k: 5, Train/Test Score: 0.232/0.050\n",
      "k: 7, Train/Test Score: 0.195/0.036\n",
      "k: 9, Train/Test Score: 0.161/0.050\n",
      "k: 11, Train/Test Score: 0.153/0.050\n",
      "k: 13, Train/Test Score: 0.147/0.050\n",
      "k: 15, Train/Test Score: 0.144/0.050\n",
      "k: 17, Train/Test Score: 0.130/0.054\n",
      "k: 19, Train/Test Score: 0.135/0.047\n",
      "k: 21, Train/Test Score: 0.130/0.052\n",
      "k: 23, Train/Test Score: 0.119/0.052\n",
      "k: 25, Train/Test Score: 0.120/0.050\n",
      "k: 27, Train/Test Score: 0.115/0.050\n",
      "k: 29, Train/Test Score: 0.123/0.043\n",
      "k: 31, Train/Test Score: 0.126/0.041\n",
      "k: 33, Train/Test Score: 0.135/0.050\n",
      "k: 35, Train/Test Score: 0.144/0.050\n",
      "k: 37, Train/Test Score: 0.143/0.054\n",
      "k: 39, Train/Test Score: 0.150/0.050\n"
     ]
    },
    {
     "data": {
      "image/png": "[encoded data removed]",
      "text/plain": [
       "<Figure size 432x288 with 1 Axes>"
      ]
     },
     "metadata": {
      "needs_background": "light"
     },
     "output_type": "display_data"
    }
   ],
   "source": [
    "train_scores = []\n",
    "test_scores = []\n",
    "for k in range(1, 40, 2):\n",
    "    knn = KNeighborsClassifier(n_neighbors=k)\n",
    "    knn.fit(X_train_scaled, y_train)\n",
    "    train_score = knn.score(X_train_scaled, y_train)\n",
    "    test_score = knn.score(X_test_scaled, y_test)\n",
    "    train_scores.append(train_score)\n",
    "    test_scores.append(test_score)\n",
    "    print(f\"k: {k}, Train/Test Score: {train_score:.3f}/{test_score:.3f}\")\n",
    "    \n",
    "    \n",
    "plt.plot(range(1, 40, 2), train_scores, marker='o')\n",
    "plt.plot(range(1, 40, 2), test_scores, marker=\"x\")\n",
    "plt.xlabel(\"k neighbors\")\n",
    "plt.ylabel(\"Testing accuracy Score\")\n",
    "plt.show()"
   ]
  },
  {
   "cell_type": "code",
   "execution_count": 96,
   "metadata": {},
   "outputs": [
    {
     "name": "stdout",
     "output_type": "stream",
     "text": [
      "k=5 Test Acc: 0.050\n"
     ]
    }
   ],
   "source": [
    "knn = KNeighborsClassifier(n_neighbors=5)\n",
    "knn.fit(X_train_scaled, y_train)\n",
    "print('k=5 Test Acc: %.3f' % knn.score(X_test_scaled, y_test))"
   ]
  },
  {
   "cell_type": "code",
   "execution_count": 98,
   "metadata": {},
   "outputs": [
    {
     "data": {
      "text/plain": [
       "SVC(kernel='linear')"
      ]
     },
     "execution_count": 98,
     "metadata": {},
     "output_type": "execute_result"
    }
   ],
   "source": [
    "from sklearn.svm import SVC \n",
    "model = SVC(kernel='linear')\n",
    "model.fit(X_train_scaled, y_train)"
   ]
  },
  {
   "cell_type": "code",
   "execution_count": 99,
   "metadata": {},
   "outputs": [
    {
     "name": "stdout",
     "output_type": "stream",
     "text": [
      "Test Acc: 0.092\n"
     ]
    }
   ],
   "source": [
    "print('Test Acc: %.3f' % model.score(X_test_scaled, y_test))"
   ]
  },
  {
   "cell_type": "code",
   "execution_count": 100,
   "metadata": {},
   "outputs": [],
   "source": [
    "from sklearn.ensemble import RandomForestClassifier"
   ]
  },
  {
   "cell_type": "code",
   "execution_count": 102,
   "metadata": {},
   "outputs": [
    {
     "name": "stdout",
     "output_type": "stream",
     "text": [
      "Training Score: 1.0\n",
      "Testing Score: 0.46846846846846846\n"
     ]
    }
   ],
   "source": [
    "clf = RandomForestClassifier(random_state=1).fit(X_train_scaled, y_train)\n",
    "y_pred = clf.predict(X_test_scaled)\n",
    "#print(classification_report(y_test, y_pred, target_names=target_names))\n",
    "print(f'Training Score: {clf.score(X_train_scaled, y_train)}')\n",
    "print(f'Testing Score: {clf.score(X_test_scaled, y_test)}')"
   ]
  },
  {
   "cell_type": "code",
   "execution_count": 103,
   "metadata": {},
   "outputs": [],
   "source": [
    "from sklearn.ensemble import ExtraTreesClassifier"
   ]
  },
  {
   "cell_type": "code",
   "execution_count": 105,
   "metadata": {},
   "outputs": [
    {
     "name": "stdout",
     "output_type": "stream",
     "text": [
      "Training Score: 1.0\n",
      "Testing Score: 0.29504504504504503\n"
     ]
    }
   ],
   "source": [
    "clf = ExtraTreesClassifier(random_state=1).fit(X_train_scaled, y_train)\n",
    "y_pred = clf.predict(X_test_scaled)\n",
    "#print(classification_report(y_test, y_pred, target_names=target_names))\n",
    "print(f'Training Score: {clf.score(X_train_scaled, y_train)}')\n",
    "print(f'Testing Score: {clf.score(X_test_scaled, y_test)}')"
   ]
  },
  {
   "cell_type": "code",
   "execution_count": null,
   "metadata": {},
   "outputs": [],
   "source": []
  }
 ],
 "metadata": {
  "anaconda-cloud": {},
  "kernelspec": {
   "display_name": "Python 3",
   "language": "python",
   "name": "python3"
  },
  "language_info": {
   "codemirror_mode": {
    "name": "ipython",
    "version": 3
   },
   "file_extension": ".py",
   "mimetype": "text/x-python",
   "name": "python",
   "nbconvert_exporter": "python",
   "pygments_lexer": "ipython3",
   "version": "3.6.13"
  },
  "varInspector": {
   "cols": {
    "lenName": 16,
    "lenType": 16,
    "lenVar": 40
   },
   "kernels_config": {
    "python": {
     "delete_cmd_postfix": "",
     "delete_cmd_prefix": "del ",
     "library": "var_list.py",
     "varRefreshCmd": "print(var_dic_list())"
    },
    "r": {
     "delete_cmd_postfix": ") ",
     "delete_cmd_prefix": "rm(",
     "library": "var_list.r",
     "varRefreshCmd": "cat(var_dic_list()) "
    }
   },
   "types_to_exclude": [
    "module",
    "function",
    "builtin_function_or_method",
    "instance",
    "_Feature"
   ],
   "window_display": false
  }
 },
 "nbformat": 4,
 "nbformat_minor": 4
}
